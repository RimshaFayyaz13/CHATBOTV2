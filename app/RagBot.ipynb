{
  "cells": [
    {
      "cell_type": "code",
      "execution_count": 1,
      "metadata": {
        "id": "9fy10W89RtEZ"
      },
      "outputs": [
        {
          "name": "stdout",
          "output_type": "stream",
          "text": [
            "Note: you may need to restart the kernel to use updated packages.\n"
          ]
        }
      ],
      "source": [
        "pip install -q --upgrade langchain langchain-openai langchain-core langchain_community docx2txt pypdf langchain_chroma"
      ]
    },
    {
      "cell_type": "code",
      "execution_count": 3,
      "metadata": {},
      "outputs": [
        {
          "name": "stdout",
          "output_type": "stream",
          "text": [
            "Requirement already satisfied: sentence-transformers in c:\\users\\yasir\\appdata\\local\\programs\\python\\python312\\lib\\site-packages (3.4.1)\n",
            "Requirement already satisfied: transformers<5.0.0,>=4.41.0 in c:\\users\\yasir\\appdata\\local\\programs\\python\\python312\\lib\\site-packages (from sentence-transformers) (4.49.0)\n",
            "Requirement already satisfied: tqdm in c:\\users\\yasir\\appdata\\local\\programs\\python\\python312\\lib\\site-packages (from sentence-transformers) (4.67.1)\n",
            "Requirement already satisfied: torch>=1.11.0 in c:\\users\\yasir\\appdata\\local\\programs\\python\\python312\\lib\\site-packages (from sentence-transformers) (2.6.0)\n",
            "Requirement already satisfied: scikit-learn in c:\\users\\yasir\\appdata\\local\\programs\\python\\python312\\lib\\site-packages (from sentence-transformers) (1.6.1)\n",
            "Requirement already satisfied: scipy in c:\\users\\yasir\\appdata\\local\\programs\\python\\python312\\lib\\site-packages (from sentence-transformers) (1.15.2)\n",
            "Requirement already satisfied: huggingface-hub>=0.20.0 in c:\\users\\yasir\\appdata\\local\\programs\\python\\python312\\lib\\site-packages (from sentence-transformers) (0.29.3)\n",
            "Requirement already satisfied: Pillow in c:\\users\\yasir\\appdata\\local\\programs\\python\\python312\\lib\\site-packages (from sentence-transformers) (11.1.0)\n",
            "Requirement already satisfied: filelock in c:\\users\\yasir\\appdata\\local\\programs\\python\\python312\\lib\\site-packages (from huggingface-hub>=0.20.0->sentence-transformers) (3.18.0)\n",
            "Requirement already satisfied: fsspec>=2023.5.0 in c:\\users\\yasir\\appdata\\local\\programs\\python\\python312\\lib\\site-packages (from huggingface-hub>=0.20.0->sentence-transformers) (2025.3.0)\n",
            "Requirement already satisfied: packaging>=20.9 in c:\\users\\yasir\\appdata\\roaming\\python\\python312\\site-packages (from huggingface-hub>=0.20.0->sentence-transformers) (24.2)\n",
            "Requirement already satisfied: pyyaml>=5.1 in c:\\users\\yasir\\appdata\\local\\programs\\python\\python312\\lib\\site-packages (from huggingface-hub>=0.20.0->sentence-transformers) (6.0.2)\n",
            "Requirement already satisfied: requests in c:\\users\\yasir\\appdata\\local\\programs\\python\\python312\\lib\\site-packages (from huggingface-hub>=0.20.0->sentence-transformers) (2.32.3)\n",
            "Requirement already satisfied: typing-extensions>=3.7.4.3 in c:\\users\\yasir\\appdata\\local\\programs\\python\\python312\\lib\\site-packages (from huggingface-hub>=0.20.0->sentence-transformers) (4.12.2)\n",
            "Requirement already satisfied: networkx in c:\\users\\yasir\\appdata\\local\\programs\\python\\python312\\lib\\site-packages (from torch>=1.11.0->sentence-transformers) (3.4.2)\n",
            "Requirement already satisfied: jinja2 in c:\\users\\yasir\\appdata\\local\\programs\\python\\python312\\lib\\site-packages (from torch>=1.11.0->sentence-transformers) (3.1.6)\n",
            "Requirement already satisfied: setuptools in c:\\users\\yasir\\appdata\\local\\programs\\python\\python312\\lib\\site-packages (from torch>=1.11.0->sentence-transformers) (76.1.0)\n",
            "Requirement already satisfied: sympy==1.13.1 in c:\\users\\yasir\\appdata\\local\\programs\\python\\python312\\lib\\site-packages (from torch>=1.11.0->sentence-transformers) (1.13.1)\n",
            "Requirement already satisfied: mpmath<1.4,>=1.1.0 in c:\\users\\yasir\\appdata\\local\\programs\\python\\python312\\lib\\site-packages (from sympy==1.13.1->torch>=1.11.0->sentence-transformers) (1.3.0)\n",
            "Requirement already satisfied: colorama in c:\\users\\yasir\\appdata\\roaming\\python\\python312\\site-packages (from tqdm->sentence-transformers) (0.4.6)\n",
            "Requirement already satisfied: numpy>=1.17 in c:\\users\\yasir\\appdata\\local\\programs\\python\\python312\\lib\\site-packages (from transformers<5.0.0,>=4.41.0->sentence-transformers) (1.26.4)\n",
            "Requirement already satisfied: regex!=2019.12.17 in c:\\users\\yasir\\appdata\\local\\programs\\python\\python312\\lib\\site-packages (from transformers<5.0.0,>=4.41.0->sentence-transformers) (2024.11.6)\n",
            "Requirement already satisfied: tokenizers<0.22,>=0.21 in c:\\users\\yasir\\appdata\\local\\programs\\python\\python312\\lib\\site-packages (from transformers<5.0.0,>=4.41.0->sentence-transformers) (0.21.1)\n",
            "Requirement already satisfied: safetensors>=0.4.1 in c:\\users\\yasir\\appdata\\local\\programs\\python\\python312\\lib\\site-packages (from transformers<5.0.0,>=4.41.0->sentence-transformers) (0.5.3)\n",
            "Requirement already satisfied: joblib>=1.2.0 in c:\\users\\yasir\\appdata\\local\\programs\\python\\python312\\lib\\site-packages (from scikit-learn->sentence-transformers) (1.4.2)\n",
            "Requirement already satisfied: threadpoolctl>=3.1.0 in c:\\users\\yasir\\appdata\\local\\programs\\python\\python312\\lib\\site-packages (from scikit-learn->sentence-transformers) (3.6.0)\n",
            "Requirement already satisfied: MarkupSafe>=2.0 in c:\\users\\yasir\\appdata\\local\\programs\\python\\python312\\lib\\site-packages (from jinja2->torch>=1.11.0->sentence-transformers) (3.0.2)\n",
            "Requirement already satisfied: charset-normalizer<4,>=2 in c:\\users\\yasir\\appdata\\local\\programs\\python\\python312\\lib\\site-packages (from requests->huggingface-hub>=0.20.0->sentence-transformers) (3.4.1)\n",
            "Requirement already satisfied: idna<4,>=2.5 in c:\\users\\yasir\\appdata\\local\\programs\\python\\python312\\lib\\site-packages (from requests->huggingface-hub>=0.20.0->sentence-transformers) (3.10)\n",
            "Requirement already satisfied: urllib3<3,>=1.21.1 in c:\\users\\yasir\\appdata\\local\\programs\\python\\python312\\lib\\site-packages (from requests->huggingface-hub>=0.20.0->sentence-transformers) (2.3.0)\n",
            "Requirement already satisfied: certifi>=2017.4.17 in c:\\users\\yasir\\appdata\\local\\programs\\python\\python312\\lib\\site-packages (from requests->huggingface-hub>=0.20.0->sentence-transformers) (2025.1.31)\n",
            "Note: you may need to restart the kernel to use updated packages.\n"
          ]
        }
      ],
      "source": [
        "pip install sentence-transformers"
      ]
    },
    {
      "cell_type": "code",
      "execution_count": 4,
      "metadata": {
        "id": "e2rIfm6lYGdo"
      },
      "outputs": [],
      "source": [
        "import langchain"
      ]
    },
    {
      "cell_type": "code",
      "execution_count": 5,
      "metadata": {
        "colab": {
          "base_uri": "https://localhost:8080/"
        },
        "id": "NrZSDc2gYzD3",
        "outputId": "038350eb-febc-4678-f6ed-6b71bb9182e4"
      },
      "outputs": [
        {
          "name": "stdout",
          "output_type": "stream",
          "text": [
            "0.3.21\n"
          ]
        }
      ],
      "source": [
        "print(langchain.__version__)"
      ]
    },
    {
      "cell_type": "code",
      "execution_count": 6,
      "metadata": {
        "id": "5k8lUCRBY9MG"
      },
      "outputs": [],
      "source": [
        "import os\n",
        "os.environ[\"OPENAI_API_KEY\"] = \"sk-kagJZ0uzBddMGGVmGtMfx3FuLbHwrE7JYFZ2ZX-Rz9T3BlbkFJAUm8Vy1E_idywGcRAtF64IEM3jZBsysQmJs7RVNssA\""
      ]
    },
    {
      "cell_type": "code",
      "execution_count": 7,
      "metadata": {
        "id": "UdymEsz3ayjb"
      },
      "outputs": [],
      "source": [
        "os.environ[\"LANNGCHAIN_TRACKING_V2\"] = \"true\"\n",
        "os.environ[\"LANGCHAIN_API_KEY\"] = \"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\"\n",
        "os.environ[\"LANGCHAIN_PROJECT\"] = \"langchain-project\""
      ]
    },
    {
      "cell_type": "code",
      "execution_count": 8,
      "metadata": {
        "colab": {
          "base_uri": "https://localhost:8080/"
        },
        "id": "ApUcSROCCVGY",
        "outputId": "79e0090e-4f06-4fe1-8511-098654129985"
      },
      "outputs": [
        {
          "name": "stdout",
          "output_type": "stream",
          "text": [
            "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\n"
          ]
        }
      ],
      "source": [
        "import os\n",
        "print(os.getenv(\"LANGCHAIN_API_KEY\"))"
      ]
    },
    {
      "cell_type": "code",
      "execution_count": 9,
      "metadata": {
        "colab": {
          "base_uri": "https://localhost:8080/"
        },
        "id": "byMJB-CJbydl",
        "outputId": "31b246f3-9a20-46fb-f49d-6a91e9c7c619"
      },
      "outputs": [
        {
          "name": "stdout",
          "output_type": "stream",
          "text": [
            "content='Why did the scarecrow win an award?\\n\\nBecause he was outstanding in his field!' additional_kwargs={'refusal': None} response_metadata={'token_usage': {'completion_tokens': 18, 'prompt_tokens': 11, 'total_tokens': 29, 'completion_tokens_details': {'accepted_prediction_tokens': 0, 'audio_tokens': 0, 'reasoning_tokens': 0, 'rejected_prediction_tokens': 0}, 'prompt_tokens_details': {'audio_tokens': 0, 'cached_tokens': 0}}, 'model_name': 'gpt-4o-mini-2024-07-18', 'system_fingerprint': 'fp_b8bc95a0ac', 'id': 'chatcmpl-BCr5wn3L7l9uZt8vKrBfinXgxHQaL', 'finish_reason': 'stop', 'logprobs': None} id='run-d1e01c1f-a7c2-420a-ac6a-59221f13adef-0' usage_metadata={'input_tokens': 11, 'output_tokens': 18, 'total_tokens': 29, 'input_token_details': {'audio': 0, 'cache_read': 0}, 'output_token_details': {'audio': 0, 'reasoning': 0}}\n"
          ]
        }
      ],
      "source": [
        "from langchain_openai import ChatOpenAI\n",
        "\n",
        "llm = ChatOpenAI(model=\"gpt-4o-mini\")\n",
        "llm_response = llm.invoke(\"Tell me a joke\")\n",
        "print(llm_response)\n"
      ]
    },
    {
      "cell_type": "code",
      "execution_count": 10,
      "metadata": {
        "colab": {
          "base_uri": "https://localhost:8080/"
        },
        "id": "EgzzdAYxf_5a",
        "outputId": "37177a05-0201-4676-e9fb-282c39d4f5f4"
      },
      "outputs": [
        {
          "name": "stdout",
          "output_type": "stream",
          "text": [
            "Why did the scarecrow win an award? \n",
            "\n",
            "Because he was outstanding in his field!\n"
          ]
        }
      ],
      "source": [
        "from langchain_core.output_parsers import StrOutputParser\n",
        "\n",
        "output_parser = StrOutputParser()\n",
        "chain = llm | output_parser\n",
        "result = chain.invoke(\"Tell me a joke\")\n",
        "print(result)\n"
      ]
    },
    {
      "cell_type": "code",
      "execution_count": 11,
      "metadata": {
        "colab": {
          "base_uri": "https://localhost:8080/",
          "height": 36
        },
        "id": "9J9sj52_iLEH",
        "outputId": "6a27e345-4010-47f4-d6bc-94eb435563ef"
      },
      "outputs": [
        {
          "data": {
            "text/plain": [
              "\"Why don't scientists trust atoms?\\n\\nBecause they make up everything!\""
            ]
          },
          "execution_count": 11,
          "metadata": {},
          "output_type": "execute_result"
        }
      ],
      "source": [
        "chain = llm | output_parser\n",
        "chain.invoke(\"Tell me a joke\")"
      ]
    },
    {
      "cell_type": "code",
      "execution_count": 12,
      "metadata": {
        "colab": {
          "base_uri": "https://localhost:8080/"
        },
        "id": "zyoJab0IiROf",
        "outputId": "f123e8d4-574f-46dd-ad22-59d56bedfa88"
      },
      "outputs": [
        {
          "name": "stdout",
          "output_type": "stream",
          "text": [
            "phone_model='Samsung Galaxy S21' rating=4.0 pros=['Gorgeous screen with vibrant colors', 'Insane camera performance, especially at night', 'Solid battery life lasting all day'] cons=['High price point', 'No charger included in the box', 'New button layout takes time to get used to'] summary='The Galaxy S21 impresses with its stunning display and camera capabilities, making it a strong choice for anyone looking to upgrade, despite a few drawbacks.'\n",
            "['Gorgeous screen with vibrant colors', 'Insane camera performance, especially at night', 'Solid battery life lasting all day']\n"
          ]
        }
      ],
      "source": [
        "from typing import List\n",
        "from pydantic import BaseModel, Field\n",
        "\n",
        "class MobileReview(BaseModel):\n",
        "  phone_model: str = Field(description=\"Name and model of the phone\")\n",
        "  rating: float = Field(description=\"Overall rating out of 5\")\n",
        "  pros: List[str] = Field(description=\"List of positive aspects\")\n",
        "  cons: List[str] = Field(description=\"List of negative aspects\")\n",
        "  summary: str = Field(description=\"Brief summary of the review\")\n",
        "review_text = \"\"\"\n",
        "    Just got my hands on the new Galaxy S21 and wow, this thing is slick! The screen is gorgeous,\n",
        "    colors pop like crazy. Camera's insane too, especially at night - my Insta game's never been\n",
        "    stronger. Battery life's solid, lasts me all day no problem.\n",
        "    Not gonna lie though, it's pretty pricey. And what's with ditching the charger? C'mon Samsung.\n",
        "    Also, still getting used to the new button layout, keep hitting Bixby by mistake.\n",
        "    Overall, I'd say it's a solid 4 out of 5. Great phone, but a few annoying quirks keep it from\n",
        "    being perfect. If you're due for an upgrade, definitely worth checking out!\n",
        "    \"\"\"\n",
        "structured_llm = llm.with_structured_output(MobileReview)\n",
        "output = structured_llm.invoke(review_text)\n",
        "print(output)\n",
        "print(output.pros)\n"
      ]
    },
    {
      "cell_type": "code",
      "execution_count": 13,
      "metadata": {
        "colab": {
          "base_uri": "https://localhost:8080/"
        },
        "id": "0V-NlFO4l4vE",
        "outputId": "c34b359b-92f0-4bf0-ff55-979061750eba"
      },
      "outputs": [
        {
          "data": {
            "text/plain": [
              "4.0"
            ]
          },
          "execution_count": 13,
          "metadata": {},
          "output_type": "execute_result"
        }
      ],
      "source": [
        "output.rating"
      ]
    },
    {
      "cell_type": "code",
      "execution_count": 14,
      "metadata": {
        "colab": {
          "base_uri": "https://localhost:8080/",
          "height": 53
        },
        "id": "OOQ522sLl6zA",
        "outputId": "6053e087-14ac-4f52-be3d-d0ea0cd7e5bc"
      },
      "outputs": [
        {
          "data": {
            "text/plain": [
              "'The Galaxy S21 impresses with its stunning display and camera capabilities, making it a strong choice for anyone looking to upgrade, despite a few drawbacks.'"
            ]
          },
          "execution_count": 14,
          "metadata": {},
          "output_type": "execute_result"
        }
      ],
      "source": [
        "output.summary"
      ]
    },
    {
      "cell_type": "code",
      "execution_count": 15,
      "metadata": {
        "colab": {
          "base_uri": "https://localhost:8080/"
        },
        "id": "TiL4yfRHl9TB",
        "outputId": "c74dcdf9-764b-41de-d065-a8eb4b8f9938"
      },
      "outputs": [
        {
          "name": "stdout",
          "output_type": "stream",
          "text": [
            "Why do programmers prefer dark mode?\n",
            "\n",
            "Because light attracts bugs!\n"
          ]
        }
      ],
      "source": [
        "from langchain_core.prompts import ChatPromptTemplate\n",
        "\n",
        "prompt = ChatPromptTemplate.from_template(\"Tell me a short joke about {topic}\")\n",
        "chain = prompt | llm | output_parser\n",
        "result = chain.invoke({\"topic\": \"programming\"})\n",
        "print(result)\n"
      ]
    },
    {
      "cell_type": "code",
      "execution_count": 16,
      "metadata": {
        "colab": {
          "base_uri": "https://localhost:8080/"
        },
        "id": "zpKXm6eBakRt",
        "outputId": "dd6646ed-88d1-48c6-c527-64c72fbcf744"
      },
      "outputs": [
        {
          "data": {
            "text/plain": [
              "ChatPromptValue(messages=[HumanMessage(content='Tell me a short joke abuot programming', additional_kwargs={}, response_metadata={})])"
            ]
          },
          "execution_count": 16,
          "metadata": {},
          "output_type": "execute_result"
        }
      ],
      "source": [
        "from langchain_core.prompts import ChatPromptTemplate\n",
        "prompt = ChatPromptTemplate.from_template(\"Tell me a short joke abuot {topic}\")\n",
        "prompt.invoke({\"topic\": \"programming\"})"
      ]
    },
    {
      "cell_type": "code",
      "execution_count": 17,
      "metadata": {
        "colab": {
          "base_uri": "https://localhost:8080/",
          "height": 36
        },
        "id": "w1HAVRlbcUCA",
        "outputId": "516944ad-327f-4de2-a7ac-62ae19687f09"
      },
      "outputs": [
        {
          "data": {
            "text/plain": [
              "'Why did the car driver bring a ladder to the bar?\\n\\nBecause they heard the drinks were on the house!'"
            ]
          },
          "execution_count": 17,
          "metadata": {},
          "output_type": "execute_result"
        }
      ],
      "source": [
        "chain = prompt | llm | output_parser\n",
        "chain.invoke ({\"topic\": \"car driver\"})"
      ]
    },
    {
      "cell_type": "code",
      "execution_count": null,
      "metadata": {
        "colab": {
          "base_uri": "https://localhost:8080/"
        },
        "id": "oXjgM_q-jY7o",
        "outputId": "96cc3a1b-2c16-4521-9fda-554a39772d74"
      },
      "outputs": [
        {
          "name": "stdout",
          "output_type": "stream",
          "text": [
            "Split the document into 5 chunks\n"
          ]
        }
      ],
      "source": [
        "from langchain_community.document_loaders import PythonLoader, Docx2txtLoader\n",
        "from langchain_text_splitters import RecursiveCharacterTextSplitter\n",
        "from langchain_openai import OpenAIEmbeddings\n",
        "from typing import List\n",
        "from langchain_core.documents import Document\n",
        "\n",
        "langchain_text_splitters = RecursiveCharacterTextSplitter(\n",
        "    chunk_size=1000,\n",
        "    chunk_overlap=200,\n",
        "    length_function=len\n",
        ")\n",
        "\n",
        "docx_loader = Docx2txtLoader(r\"C:\\Users\\Yasir\\Desktop\\chatbotV2\\app\\KB\")\n",
        "documents = docx_loader.load()\n",
        "\n",
        "splits = langchain_text_splitters.split_documents(documents)\n",
        "print(f\"Split the document into {len(splits)} chunks\")"
      ]
    },
    {
      "cell_type": "code",
      "execution_count": 19,
      "metadata": {
        "colab": {
          "base_uri": "https://localhost:8080/"
        },
        "id": "DazwBbRl1lcW",
        "outputId": "1cf9551c-cb11-4f65-e013-1ca169b863f6"
      },
      "outputs": [
        {
          "data": {
            "text/plain": [
              "Document(metadata={'source': 'D:\\\\chatbot_project\\\\app\\\\KB\\\\KB.docx'}, page_content='TechNova Solutions Company Profile\\n\\nTechNova Solutions is a leading technology consultancy firm founded in 2010 and headquartered in Silicon Valley, California. The company has been at the forefront of providing innovative and cutting-edge technology solutions to businesses, helping them thrive in the digital world. With a mission to empower organizations through digital transformation, TechNova delivers services across a variety of domains, including digital transformation, cloud solutions, cybersecurity, software development, and consulting.\\n\\nSince its inception, TechNova Solutions has built a reputation for excellence and customer-centricity. The company focuses on delivering high-quality solutions tailored to the unique needs of each business. The core values of the company—Innovation, Integrity, Customer-Centricity, and Collaboration—have helped it become a trusted partner for enterprises looking to harness the full potential of technology.')"
            ]
          },
          "execution_count": 19,
          "metadata": {},
          "output_type": "execute_result"
        }
      ],
      "source": [
        "splits [0]"
      ]
    },
    {
      "cell_type": "code",
      "execution_count": 20,
      "metadata": {
        "colab": {
          "base_uri": "https://localhost:8080/"
        },
        "id": "rWsNqSWC1m84",
        "outputId": "07a304d5-6d62-45ab-f5a7-651f65ab4cbd"
      },
      "outputs": [
        {
          "data": {
            "text/plain": [
              "Document(metadata={'source': 'D:\\\\chatbot_project\\\\app\\\\KB\\\\KB.docx'}, page_content='The founder and CEO, Sarah Johnson, has over 15 years of experience in technology consulting and has led the company to great heights. Under her leadership, TechNova has achieved significant milestones, including the launch of its cybersecurity division in 2018 and the expansion into international markets with the opening of an office in London in 2020. James Patel, the Chief Technology Officer (CTO), leads the company’s technical strategy, specializing in cloud computing and driving innovations that have placed TechNova among the top consultancies in the tech industry.\\n\\nThe company has also been recognized for its excellence. In 2021, TechNova was ranked among the Top 100 Most Innovative Tech Companies by TechReview Magazine, and in 2022, Sarah Johnson was named Innovator of the Year at the Global Technology Awards. Additionally, TechNova was awarded the Best Cloud Solutions Provider accolade at the National IT Awards in 2023.\\n\\nServices')"
            ]
          },
          "execution_count": 20,
          "metadata": {},
          "output_type": "execute_result"
        }
      ],
      "source": [
        "splits [1]"
      ]
    },
    {
      "cell_type": "code",
      "execution_count": null,
      "metadata": {
        "colab": {
          "base_uri": "https://localhost:8080/"
        },
        "id": "62vpUVrX1tsC",
        "outputId": "a7176cad-977e-4d2a-f2d0-4fd35b2985a6"
      },
      "outputs": [
        {
          "name": "stdout",
          "output_type": "stream",
          "text": [
            "Loaded 1 documents from the folder.\n"
          ]
        }
      ],
      "source": [
        "from langchain_community.document_loaders import PyPDFLoader, Docx2txtLoader\n",
        "from langchain_text_splitters import RecursiveCharacterTextSplitter\n",
        "from typing import List\n",
        "from langchain_core.documents import Document\n",
        "import os\n",
        "\n",
        "def load_documents(folder_path: str) -> List[Document]:\n",
        "    documents = []\n",
        "    for filename in os.listdir(folder_path):\n",
        "        file_path = os.path.join(folder_path, filename)\n",
        "        if filename.endswith('.pdf'):\n",
        "            loader = PyPDFLoader(file_path)\n",
        "        elif filename.endswith('.docx'):\n",
        "            loader = Docx2txtLoader(file_path)\n",
        "        else:\n",
        "            print(f\"Unsupported file type: {filename}\")\n",
        "            continue\n",
        "        documents.extend(loader.load())\n",
        "    return documents\n",
        "\n",
        "folder_path = r\"C:\\Users\\Yasir\\Desktop\\chatbotV2\\app\\KB\\KB.docx\"\n",
        "documents = load_documents(folder_path)\n",
        "print(f\"Loaded {len(documents)} documents from the folder.\")\n"
      ]
    },
    {
      "cell_type": "code",
      "execution_count": 22,
      "metadata": {
        "colab": {
          "base_uri": "https://localhost:8080/"
        },
        "id": "6KNIrNRxALA4",
        "outputId": "ca4ccd9e-6ee9-46ca-f3cb-dfab553ef142"
      },
      "outputs": [
        {
          "name": "stdout",
          "output_type": "stream",
          "text": [
            "Created embeddings for 5 document chunks.\n"
          ]
        }
      ],
      "source": [
        "from langchain_openai import OpenAIEmbeddings\n",
        "\n",
        "embeddings = OpenAIEmbeddings()\n",
        "document_embeddings = embeddings.embed_documents([split.page_content for split in splits])\n",
        "print(f\"Created embeddings for {len(document_embeddings)} document chunks.\")\n"
      ]
    },
    {
      "cell_type": "code",
      "execution_count": 23,
      "metadata": {
        "colab": {
          "base_uri": "https://localhost:8080/"
        },
        "id": "4Go2FPvukIOW",
        "outputId": "9b8a8420-84f4-43e7-c956-a79cad21d56a"
      },
      "outputs": [
        {
          "name": "stdout",
          "output_type": "stream",
          "text": [
            "[[0.017249194905161858, -0.03154522180557251, 0.0025236178189516068, -0.0286725927144289, -0.0014581275172531605, 0.021074892953038216, -0.04467340186238289, -0.0042988755740225315, -0.014900083653628826, -0.00789972860366106, 0.0047854771837592125, -0.01699414849281311, 0.017906947061419487, -0.007825899869203568, 0.02773294784128666, -0.015812881290912628, 0.007389636244624853, -0.03232378512620926, -0.0011661665048450232, -0.019772812724113464, -0.022283008322119713, 0.02033660002052784, -0.008685003966093063, 0.0033072144724428654, 0.001385137322358787, -0.02945115603506565, -0.001226572203449905, -0.02473950758576393, 0.019343262538313866, -0.009362890385091305, 0.015222247689962387, -0.0017769356491044164, -0.018873438239097595, 0.004295519553124905, -0.006661411374807358, -0.012658359482884407, -0.002085676183924079, 0.016725679859519005, 0.018443888053297997, 0.0017953929491341114, 0.00637951772660017, 0.01640351489186287, -0.0077185118570923805, 0.005060658790171146, -0.017276043072342873, 0.003812273731455207, 0.012248942628502846, 0.02539725974202156, 0.017745865508913994, -0.00894676148891449, 0.0014086284209042788, 0.014470531605184078, -0.01252412423491478, -0.0022501139901578426, 0.006547311320900917, -0.0009555853321217, -0.027813488617539406, 0.01877947524189949, 0.0251153651624918, -0.01919560320675373, -0.02409517951309681, 0.018524428829550743, -0.011980472132563591, 0.0035303800832480192, -0.01141668576747179, -0.012685206718742847, -0.03570650517940521, 0.01986677758395672, -0.020484259352087975, 0.000614964053966105, 0.011047539301216602, 0.03307550027966499, 0.003231707261875272, 0.011188486590981483, -0.009671631269156933, -0.007879593409597874, 0.009705189615488052, -0.007013778202235699, 0.008389686234295368, 0.00040522185736335814, -0.021571561694145203, -0.009275637567043304, -0.008101081475615501, 0.009886406362056732, 0.01640351489186287, 0.015504141338169575, -0.002625972032546997, 0.0020286261569708586, -0.01249056588858366, 0.0015906846383586526, 0.023061571642756462, 0.022027961909770966, -0.005339196417480707, 0.0021913861855864525, -0.02647113986313343, 0.018202263861894608, -0.0064936173148453236, 0.022081654518842697, -0.005392890423536301, -0.0031998264603316784, 0.007181571796536446, 0.01747739501297474, -0.021558139473199844, -0.011463668197393417, -0.02886052243411541, -0.007785629015415907, -0.0030286768451333046, -0.009772307239472866, 0.03989463672041893, -0.014551072381436825, -0.024430766701698303, 0.011792543344199657, 0.010356228798627853, 0.007248689420521259, 0.01860496960580349, -0.001474906923249364, 0.021692374721169472, -0.01574576459825039, -2.3871280063758604e-05, -0.017208924517035484, 0.029021603986620903, 0.030739812180399895, -0.008282299153506756, -0.015450446866452694, 0.023880403488874435, -0.008349415846168995, -0.011718714609742165, -0.01789352297782898, 0.006701681762933731, -0.0125576825812459, 0.016470633447170258, -0.002186352387070656, 0.0030102196615189314, 0.010208570398390293, -0.00636609410867095, -0.023947522044181824, -0.02086011692881584, 0.012886558659374714, -0.027357090264558792, -0.008027251809835434, -0.015128282830119133, 0.02314211241900921, -0.0204439889639616, -0.005775460507720709, -0.016846491023898125, 0.011456956155598164, 0.0018121723551303148, 0.020886963233351707, 0.045344579964876175, 0.015638375654816628, 0.023719321936368942, -0.018833167850971222, -0.01392016839236021, -0.01368525717407465, 0.018108299002051353, -0.0006887932540848851, -0.0021259465720504522, 0.020605070516467094, -0.004339145962148905, -0.00037292158231139183, -0.03798850253224373, 0.012940253131091595, 0.009980371221899986, -0.00393308512866497, -0.0072151306085288525, 0.005523769650608301, 0.011336144991219044, -0.014873236417770386, 0.003122641472145915, -0.011309297755360603, -0.0021578273735940456, 0.02224273793399334, -0.01895398087799549, 0.015544411726295948, 0.004835815634578466, -0.015705494210124016, -0.009866271167993546, -0.0057653929106891155, -0.0075574298389256, -0.005134488455951214, 0.05420408770442009, -0.014564496465027332, -0.00642314413562417, 0.010785780847072601, -0.0007479405612684786, 0.01538332924246788, 0.031223058700561523, 0.020256059244275093, 0.027410784736275673, -0.019477495923638344, 0.006812425795942545, 0.01278588268905878, 0.0016619969392195344, -0.008537345565855503, -0.634448230266571, -0.04349213466048241, -0.003671326907351613, -0.02499455399811268, -0.007510447409003973, -0.0020252703689038754, 0.015101435594260693, -0.005345908459275961, -0.020350024104118347, -4.7375513531733304e-05, -0.010792492888867855, -0.01865866407752037, -0.015759186819195747, -0.007148012984544039, -0.03976040333509445, -0.02856520563364029, -0.008980320766568184, -0.0002821032248903066, 0.024457614868879318, -0.011846237815916538, -0.03041764721274376, -0.0007408093078993261, 0.004530430771410465, -0.028538357466459274, 0.012853000313043594, 0.010248841717839241, 0.007382924202829599, 0.006960084196180105, -0.024524731561541557, 0.01278588268905878, -0.006007015705108643, 0.001044515985995531, 0.001396882813423872, 0.007007066160440445, 0.04161284491419792, -0.014282602816820145, -0.011886508204042912, 0.018739204853773117, -0.003124319249764085, 0.01943722553551197, -0.03414938226342201, -0.014175214804708958, 0.01573234051465988, 0.017571359872817993, -0.022940758615732193, 0.009141402319073677, 0.005537193268537521, -0.03519641235470772, -0.03460577875375748, 0.002189708175137639, 0.026256363838911057, -0.031625762581825256, -0.017074691131711006, 0.002196419984102249, -0.0008012150647118688, -0.013497328385710716, 0.012020743452012539, -0.01872578077018261, 0.016296127811074257, 0.004748562816530466, -0.02241724357008934, -0.004523719195276499, 0.005590887274593115, -0.046955399215221405, -0.014443684369325638, 0.02338373474776745, -0.0005310671404004097, -0.00639629689976573, 0.006973507348448038, -0.0032719778828322887, 0.012295925058424473, 0.024256262928247452, 0.004788833204656839, -0.010470328852534294, 0.007664817851036787, 0.040995366871356964, 0.030551882460713387, -0.00097068672766909, 0.009611224755644798, 0.005339196417480707, 0.01669883169233799, -0.019155332818627357, -0.018390193581581116, -0.024350225925445557, 0.009638071991503239, 3.531533729983494e-05, -0.009403160773217678, -0.008181622251868248, 0.01481954287737608, 7.692293729633093e-05, 0.03761264309287071, 0.017786135897040367, -0.02128966897726059, -0.03490109741687775, -0.008416533470153809, 0.029075298458337784, -0.011322720907628536, -0.015786034986376762, -0.014739001169800758, -0.02461869642138481, -0.019477495923638344, -0.028887368738651276, 0.035625964403152466, -0.02910214476287365, 0.029558544978499413, -0.0010688460897654295, -0.001778613543137908, -0.002260181587189436, 0.045049261301755905, -0.035276953130960464, 0.00885279756039381, -0.04467340186238289, -0.030927741900086403, -0.008067523129284382, -0.0020504393614828587, -0.021450750529766083, 0.004758630413562059, -0.002063862979412079, -0.015786034986376762, -0.013853050768375397, -0.004389483947306871, -0.02075272984802723, 0.00789972860366106, -0.00514120003208518, 0.005758680868893862, 0.01553098764270544, -0.002904509427025914, -0.019571460783481598, -0.03495479002594948, -0.01843046396970749, -0.00873869750648737, -0.009537396021187305, 0.010852898471057415, -0.002597447019070387, -0.002196419984102249, -0.0022803167812526226, 0.012114707380533218, -0.006460058968514204, -0.0019162044627591968, -0.02253805473446846, -0.02069903537631035, -0.01694045588374138, -0.002750139217823744, 0.010114606469869614, -0.0059600332751870155, -0.02265886589884758, -0.030686117708683014, -0.00621843570843339, -0.004063964355736971, 0.0020554731599986553, -0.02718258462846279, -0.0030320328660309315, 0.008282299153506756, 0.018148569390177727, 0.028753133490681648, 0.0041612847708165646, -0.025504646822810173, -0.024846896529197693, 0.0025219398085027933, -0.04137122258543968, 0.009671631269156933, -0.0012022420996800065, -0.020605070516467094, -0.010530734434723854, -0.0055036344565451145, -0.014134944416582584, -0.0020319821778684855, 0.024672390893101692, -0.00014189057401381433, -0.02993440255522728, 0.0014170181239023805, -0.011235468089580536, 0.005909695290029049, 0.01573234051465988, 0.004983474034816027, 0.00760441180318594, -0.012248942628502846, 0.01526251807808876, 0.01663171499967575, -0.0025521425995975733, -0.028994757682085037, -0.010993845760822296, -0.018913710489869118, -0.008832662366330624, 0.02421599254012108, 0.010644834488630295, 0.0462573766708374, 0.016618290916085243, 0.004530430771410465, -0.005866068881005049, -0.0336124412715435, 0.0032468086574226618, 0.010792492888867855, 0.005802307277917862, -0.010557581670582294, -0.009765595197677612, 0.015812881290912628, 0.016376668587327003, -0.014779272489249706, 0.005506990477442741, 0.006309044547379017, -0.0004029147094115615, 0.002078964374959469, -0.0018457310507073998, -0.006003659684211016, -0.008322569541633129, 0.00903401430696249, -0.017504243180155754, -0.011161639355123043, 0.004204911179840565, 0.02671276219189167, -0.007785629015415907, -0.005147911608219147, -0.02111516334116459, 0.015598105266690254, 0.015369906090199947, 0.012289213016629219, 0.022578325122594833, -0.010007218457758427, 0.002001779153943062, 0.02128966897726059, -0.024538155645132065, 0.014027556404471397, -0.020229212939739227, -0.012893270701169968, 0.0031729794573038816, 0.014443684369325638, 0.014457108452916145, 0.010752222500741482, -0.029558544978499413, -0.0072419773787260056, 0.035276953130960464, 0.01267178263515234, 0.0019145264523103833, 0.005845933686941862, 0.014027556404471397, 0.01704784296452999, -0.0243368037045002, 0.005798951257020235, -0.002748461440205574, -0.015437023714184761, 0.014604766853153706, 0.01920902729034424, -0.008718562312424183, 0.0019396955613046885, 0.01049046404659748, 0.02461869642138481, -0.0006392940995283425, -0.0033508408814668655, 0.0039599318988621235, -0.01718207821249962, -0.012597953900694847, -0.008490363135933876, -0.02773294784128666, 0.01884659193456173, -0.010826051235198975, 0.014269178733229637, 0.016175316646695137, 0.03345135971903801, 0.00882595032453537, 0.009832712821662426, 0.004369348753243685, 0.00615803012624383, -0.0030068636406213045, 0.012832865118980408, -0.01257781870663166, 0.02163868024945259, -0.008752121590077877, 0.026256363838911057, -0.026699338108301163, 0.006147962529212236, -0.013047641143202782, 0.03882075846195221, -0.006782222539186478, 0.01508801244199276, 0.009973659180104733, -0.00029720464954152703, 0.005295570008456707, -0.012363042682409286, 0.007101031020283699, -0.016551174223423004, -0.015275941230356693, 0.011758984997868538, 0.012067724950611591, 0.0069399490021169186, -0.014202062040567398, -0.007664817851036787, 0.012061013840138912, -0.009738747961819172, 0.04491502791643143, 0.0067083933390676975, 0.009289060719311237, -0.016349822282791138, 0.02527644857764244, 0.005419737659394741, -0.01848415844142437, -0.004110946319997311, -0.0062989769503474236, -0.009007168002426624, -0.013712103478610516, 0.013853050768375397, -0.009678342379629612, 0.010128029622137547, -0.013651697896420956, 0.04861991107463837, -0.00023302354384213686, -0.0008867898723110557, -0.008832662366330624, 0.007960135117173195, -0.01628270372748375, 0.010141453705728054, -0.025061672553420067, 0.0018406972521916032, -0.02486031875014305, 0.007027201354503632, -0.005332484841346741, -0.006654699333012104, -0.007859458215534687, 0.012705341912806034, 0.00900045596063137, 0.007315806578844786, -0.01538332924246788, -0.004761985968798399, 0.021544715389609337, 0.10056885331869125, 0.011732137762010098, -0.034256767481565475, 0.022269584238529205, -0.005121064838021994, -0.007859458215534687, -0.029290074482560158, -0.01829622872173786, 0.027706101536750793, -0.029800167307257652, 0.01573234051465988, 0.025061672553420067, 0.010852898471057415, -0.01639009267091751, 0.018511004745960236, 0.024229414761066437, 0.03302180767059326, 0.002038693754002452, -0.016188738867640495, 0.0007659784168936312, 0.014524225145578384, -0.013691968284547329, 0.0011577768018469214, -0.0016989115392789245, 0.02998809516429901, -0.003201504470780492, 0.03833751380443573, 0.016175316646695137, 0.0017182078445330262, -0.033531900495290756, -0.00867829192429781, 0.028699440881609917, -0.017276043072342873, -0.01177240815013647, -0.014296025969088078, 0.03310234844684601, -0.0027736304327845573, 0.025034824386239052, -0.005745257250964642, 0.0029112212359905243, 0.00039473475771956146, 0.012383177876472473, 0.014322873204946518, -0.017490819096565247, 0.0064063649624586105, 0.006859407760202885, -0.01668540947139263, 0.031088823452591896, -0.008933338336646557, -0.008476939052343369, 0.012067724950611591, -0.009644784033298492, -0.012087860144674778, -0.030337106436491013, -0.010000506415963173, 0.00960451364517212, 0.012020743452012539, 0.018443888053297997, -0.0170612670481205, -0.041586000472307205, -0.02778664231300354, -0.04384114593267441, -0.016846491023898125, -0.02486031875014305, 0.011973761022090912, -0.03315604105591774, -0.001507626730017364, -0.011020692065358162, -0.022256160154938698, -0.008074234239757061, -0.004020337946712971, -0.006198300514370203, -0.031223058700561523, 0.021571561694145203, 0.035276953130960464, -0.017437124624848366, 0.005174758844077587, 0.006966795772314072, -0.01159790251404047, 0.06373476982116699, 0.002642751205712557, -0.003634412307292223, -0.01156434416770935, -0.008584327064454556, 0.021383633837103844, -0.01272547710686922, -0.03350505232810974, 0.0019195603672415018, -0.027383936569094658, 0.001993389567360282, -0.021893726661801338, -0.012597953900694847, -0.009980371221899986, 0.021437328308820724, 0.007369500584900379, 0.022497784346342087, 0.010772357694804668, -0.004255249164998531, 0.017906947061419487, -0.017732441425323486, 0.0017316313460469246, -0.032833877950906754, 0.005943254102021456, -0.01418863795697689, 0.010819340124726295, 0.010302535258233547, -0.007993693463504314, 0.004597548395395279, 0.011946913786232471, -0.0050774384289979935, 0.03876706585288048, -0.011705290526151657, 0.0149403540417552, 0.000578049395699054, -0.030256565660238266, 0.02545095421373844, 0.0022501139901578426, 0.0021779625676572323, 0.005342552438378334, 0.017987487837672234, 0.023585086688399315, -0.01794721744954586, 0.009611224755644798, 0.0035438037011772394, -0.002827324438840151, 0.012450295500457287, 0.018739204853773117, -0.011020692065358162, -0.01404097955673933, 0.013316110707819462, -0.002201453782618046, -0.009732036851346493, -0.03849859535694122, -0.0038592559285461903, -0.013181875459849834, -0.03589443489909172, 0.0005121903959661722, 0.013416786678135395, -0.010765645653009415, -0.04580097645521164, -0.00020460347877815366, 0.019759390503168106, 0.012027454562485218, -0.0204439889639616, 0.007080895360559225, -0.02939746156334877, -0.010799204930663109, -0.004872730001807213, -0.0009614580776542425, 0.01145024411380291, -0.037048857659101486, 0.004506939556449652, -0.012289213016629219, -0.006476838141679764, 0.00391966151073575, -0.03248486667871475, 0.0031058620661497116, -0.005627801641821861, 0.03871336951851845, 0.02880682796239853, 0.008772256784141064, -0.009329332038760185, 0.012054301798343658, -0.007362789008766413, -0.0010436769807711244, -0.008396398276090622, -0.015839727595448494, 0.014054402709007263, 0.002226622775197029, 0.012745612300932407, 0.027289973571896553, 0.013309398666024208, 0.012826153077185154, -0.022793101146817207, -0.011517361737787724, 0.005174758844077587, -0.006913101766258478, -0.03307550027966499, -0.010879745706915855, -0.033531900495290756, -0.014913506805896759, -0.022699136286973953, 0.00029112212359905243, 0.02731681987643242, -0.029182685539126396, 0.015463870950043201, 0.04359952360391617, 0.02492743730545044, 0.02647113986313343, 0.0037619355134665966, 0.014389990828931332, -0.004218334332108498, -0.010013929568231106, 0.0075574298389256, 0.003926373552531004, -0.0018255958566442132, -0.011436820961534977, -0.038069043308496475, -0.018323075026273727, 0.006241926923394203, -0.008752121590077877, 0.008255451917648315, 0.02087354101240635, -0.013638274744153023, -0.04172023385763168, 0.02217561937868595, -0.022672289982438087, -0.024108603596687317, 0.018631815910339355, 0.004147861152887344, 0.00628890935331583, -0.010121317580342293, -0.018094876781105995, -0.017222348600625992, 0.0006241927039809525, 0.0004824069910682738, 0.004533786792308092, 0.014685307629406452, -0.04700909182429314, -0.016765950247645378, 0.025598611682653427, -0.011591191403567791, 0.03248486667871475, 0.019047943875193596, 0.033961452543735504, 0.018403615802526474, -0.006047286093235016, -0.015557834878563881, -0.014510801993310452, -0.0014321195194497705, -0.0038928145077079535, 0.01392016839236021, 0.033961452543735504, -0.029370615258812904, 0.0010747188935056329, 0.01622900925576687, -0.020645340904593468, -0.001193013391457498, -0.01860496960580349, -0.0004857628664467484, -0.0006216758047230542, 0.021840032190084457, -0.038015346974134445, -0.01496720127761364, -0.01389332115650177, 0.031142516061663628, 0.0047552743926644325, 0.018752627074718475, 0.00617145374417305, -0.01735658384859562, 0.010644834488630295, 0.004657953977584839, -0.032833877950906754, 0.03173315152525902, 0.008134639821946621, -0.01046361681073904, 0.021262822672724724, -0.0007164792623370886, 0.014470531605184078, -0.0006036379490979016, -0.029182685539126396, 0.00885279756039381, 0.003923017531633377, -0.010483752936124802, 0.010664969682693481, 0.02134336344897747, -0.014497378841042519, 0.017141807824373245, -0.0003427187039051205, 0.03143783286213875, -0.003708241507411003, -0.024135449901223183, 0.015450446866452694, -0.01103411614894867, 0.005325773265212774, -0.008268875069916248, -0.004104234743863344, -0.019101638346910477, -0.01616189256310463, -0.009456855244934559, 0.012913405895233154, 0.021262822672724724, -0.004624395165592432, -0.012148266658186913, 0.02283337153494358, -0.017504243180155754, 0.0005365204415284097, -0.005624446086585522, -0.008926626294851303, -0.016296127811074257, -0.015718916431069374, -0.0009010523208416998, -0.00128194410353899, 0.006560734938830137, 0.010926728136837482, 0.01938353292644024, -0.018323075026273727, 0.02778664231300354, 0.007080895360559225, 0.005181470420211554, -0.0008066683658398688, 0.021558139473199844, -0.02891421690583229, 0.009973659180104733, 0.008772256784141064, 0.005272079259157181, 0.04002887383103371, -0.0009958557784557343, -0.014081249944865704, -0.013497328385710716, 0.014376566745340824, -0.0022769609931856394, -0.007101031020283699, -0.02177291549742222, -0.0003292952023912221, 0.02861890010535717, -0.0049230679869651794, 0.0007999566150829196, -0.002297096187248826, 0.03632398694753647, -0.020900387316942215, -0.01813514716923237, -0.004392839968204498, -0.03119621053338051, 0.004772053565829992, -0.012389888986945152, 0.004228401929140091, -0.00370488571934402, -0.021477598696947098, -0.011967048980295658, -0.022283008322119713, 0.016430363059043884, 0.0014472209149971604, -0.0035505155101418495, -0.013101334683597088, 0.008443380706012249, -0.011960336938500404, -0.006664766930043697, -0.0020722525659948587, 0.010248841717839241, -0.001130090793594718, 0.024175720289349556, 0.03267279639840126, -0.005429805256426334, -0.016537750139832497, -0.010571004822850227, -0.008523921482264996, -0.018685510382056236, -0.0490226186811924, -0.0028508154209703207, 0.0010537446942180395, 0.020121823996305466, 0.014282602816820145, -0.017920371145009995, 0.012201960198581219, -0.02492743730545044, -0.0611574612557888, -0.0032921130768954754, 0.008067523129284382, 0.019652001559734344, 0.019759390503168106, 0.010671681724488735, 0.008872932754456997, 0.0016653528437018394, -0.024833472445607185, 0.016430363059043884, -0.024256262928247452, 0.02480662614107132, 0.023880403488874435, -0.008993743918836117, 0.03916976973414421, -0.01973254233598709, -0.0452103428542614, 0.0127321882173419, 0.021974267438054085, -0.002735037822276354, -0.023517969995737076, 0.0006292265024967492, -0.020524529740214348, 0.006986930966377258, -0.0006988609093241394, 0.002174606779590249, 0.010248841717839241, 0.016765950247645378, 0.03245801851153374, -0.02694096229970455, 0.0032149278558790684, -0.011738849803805351, -0.018403615802526474, -0.03146468102931976, 0.0068929665721952915, -0.003533736104145646, -0.007221842184662819, 0.02248436026275158, 0.010960286483168602, -0.005268723238259554, 0.011577767319977283, 0.010591140016913414, 0.014202062040567398, 0.0027736304327845573, 0.02032317779958248, 0.0332634299993515, 0.021866878494620323, -0.0037552237045019865, 0.006960084196180105, 0.015181977301836014, 0.02355824038386345, 0.008537345565855503, 0.017974065616726875, -0.026081858202815056, -0.0017584783490747213, -0.002785376040264964, 0.015329635702073574, -0.008208469487726688, 0.019034521654248238, -0.006413076538592577, 0.019235873594880104, -0.007188283372670412, -0.013141605071723461, 0.03082035295665264, 0.023048147559165955, 0.014926930889487267, -0.0036042092833667994, 0.008812527172267437, 0.032645948231220245, 0.003089082660153508, 0.016363244503736496, -0.0151148596778512, -0.005178114399313927, 0.024605272337794304, -0.03237747773528099, -0.0128194410353899, 0.01669883169233799, 0.021450750529766083, -0.010832763276994228, -0.011691867373883724, 0.20274852216243744, 0.01742370054125786, -0.030498189851641655, 0.027947723865509033, 0.022685712203383446, 0.007356077432632446, 0.030551882460713387, 0.010517311282455921, 0.020605070516467094, -0.013853050768375397, 0.007416483014822006, 0.0050472356379032135, 0.00914811436086893, -0.0006913102115504444, 0.007584276609122753, -0.003664615098387003, -0.018645239993929863, -0.02671276219189167, -0.018645239993929863, 0.035518579185009, -0.004517007153481245, -0.016054503619670868, 0.0021947419736534357, -0.00999379437416792, 0.022081654518842697, 0.02087354101240635, -0.02158498577773571, 0.004238469526171684, 0.03345135971903801, 0.03227009251713753, -0.023182382807135582, -0.01174556091427803, 0.017396854236721992, 0.03573335334658623, 0.0072419773787260056, -0.006580870132893324, 0.028887368738651276, -0.007436618208885193, -0.0012399957049638033, 0.010383076034486294, -0.01979966089129448, 0.008953473530709743, -0.015181977301836014, -0.006762087345123291, 0.00503716804087162, 0.02730339579284191, 0.0005449101445265114, 0.029316920787096024, -0.012215383350849152, 0.005436516832560301, -0.02056480012834072, 0.005845933686941862, 0.02636375091969967, 0.0227796770632267, -0.020242635160684586, 0.012309348210692406, -0.009698477573692799, 0.028484664857387543, 0.005668072495609522, 0.0024799914099276066, -0.024350225925445557, 0.027679255232214928, -0.0027182584162801504, -0.009523971937596798, -0.004396195989102125, -0.013483904302120209, 0.02652483433485031, -0.006788934580981731, 0.03012233041226864, 0.00043878061114810407, 0.006486905738711357, -0.003631056286394596, -0.023866981267929077, 0.01692703180015087, -0.01416179072111845, -0.0367266908288002, -0.006711749359965324, -0.004738495219498873, -0.019786236807703972, 0.02635032869875431, 0.03106197528541088, -0.0036847502924501896, 0.005634513683617115, -0.00499689718708396, -0.009430008009076118, -0.027357090264558792, 0.022135348990559578, -0.008362839929759502, -0.0036612593103200197, -0.015047742053866386, -0.0031545222736895084, 0.014121520332992077, -0.019893625751137733, -0.01735658384859562, 0.007772205863147974, 0.031813692301511765, 0.0014505768194794655, 0.030068637803196907, 0.0004991863388568163, -0.008174911141395569, -0.023048147559165955, 0.03941139206290245, -0.010779069736599922, 0.026967808604240417, -0.022511206567287445, -0.0019682205747812986, -0.00739634782075882, 0.014806118793785572, -0.011839525774121284, 0.005664716474711895, 0.003015253460034728, 0.017155231907963753, 0.00618823291733861, -0.01825595833361149, 0.021678950637578964, 0.025598611682653427, 0.007711799815297127, -0.057452574372291565, 0.03358559310436249, -0.01824253425002098, 0.040995366871356964, -0.016497479751706123, 0.004517007153481245, 0.02354481630027294, -0.013604715466499329, -0.013564445078372955, 0.0048928651958703995, 0.015477294102311134, -0.02437707409262657, -0.02236354909837246, 0.02993440255522728, -0.015450446866452694, -0.003067269455641508, -0.024954283609986305, -0.01296709943562746, 0.011000556871294975, 0.029316920787096024, 0.0041914875619113445, -0.024135449901223183, 0.01526251807808876, -0.013168452307581902, -0.00388274691067636, -0.012483853846788406, 0.013255705125629902, -0.004157928749918938, -0.029424309730529785, 0.03404199331998825, -0.015195400454103947, -0.00188264565076679, -0.007329230196774006, -0.01520882360637188, -0.0014321195194497705, -0.02116885781288147, 0.012389888986945152, 0.005919762887060642, 0.007013778202235699, -0.04282096028327942, -0.03149152919650078, -0.010376364924013615, 0.01621558703482151, -0.06099637970328331, 0.009342755191028118, 0.028216194361448288, 0.0003498499281704426, -0.02056480012834072, 0.0004220012342557311, -0.1701025813817978, 0.01416179072111845, -0.003513600677251816, 0.00615803012624383, 0.031867384910583496, -0.01168515533208847, 0.004976761993020773, 0.003037066664546728, 0.004899577237665653, 0.005460008047521114, 0.01877947524189949, 0.013396651484072208, -0.01979966089129448, -0.01735658384859562, 0.02177291549742222, 0.005919762887060642, -0.0015755831263959408, 0.011000556871294975, 0.023115264251828194, 0.017987487837672234, 0.03720993921160698, -0.023236075416207314, 0.013785933144390583, -0.027048349380493164, 0.007315806578844786, 0.0204439889639616, -0.011483803391456604, -0.007033913396298885, 0.024229414761066437, 0.0037686473224312067, 0.00867829192429781, -0.027410784736275673, 0.016255857422947884, -0.0075574298389256, 0.00036600008024834096, -0.01124218013137579, -0.006241926923394203, -0.003318960079923272, -0.01261137705296278, 0.02904845029115677, 0.00960451364517212, 0.014591342769563198, 0.01818884164094925, 0.0046009039506316185, 0.00882595032453537, 0.005335840862244368, 0.02486031875014305, 0.008611174300312996, 0.008329280652105808, -0.012054301798343658, 0.02778664231300354, -0.03312919661402702, 0.017101537436246872, 0.009295772761106491, -0.002667920431122184, 0.006265418138355017, 0.017276043072342873, -0.0004563989641610533, 0.017141807824373245, -0.011799255385994911, -0.0069533721543848515, 0.003483397886157036, 0.0044062635861337185, 0.004684801213443279, -0.005973456893116236, 0.007114454172551632, -0.005768748465925455, 0.005221740808337927, -0.018229112029075623, 0.00511435279622674, -0.014832966029644012, 0.009503836743533611, -0.012201960198581219, -0.0027165806386619806, -0.005248588044196367, -0.021209128201007843, -0.039921484887599945, 0.021437328308820724, 0.0018591545522212982, 0.02123597450554371, 0.0035840740893036127, -0.003030354855582118, 0.000572596094571054, 0.01168515533208847, -0.009295772761106491, 0.0018591545522212982, 0.005413025617599487, 0.018980827182531357, -0.011107944883406162, 0.010584428906440735, 0.0035169566981494427, -0.050767671316862106, -0.0015806169249117374, 0.012571106664836407, 0.02426968514919281, 0.01610819809138775, 0.03041764721274376, 0.0029649152420461178, 0.019034521654248238, -0.0020319821778684855, 0.017262618988752365, -0.012269077822566032, -0.015839727595448494, 0.0036444799043238163, 0.025732846930623055, 0.04410961642861366, 0.007939999923110008, 0.02629663422703743, 0.02153129130601883, 0.001518533332273364, -0.03546488285064697, 0.04145176336169243, 0.01433629635721445, -0.005134488455951214, -0.02527644857764244, 0.02432337962090969, -0.003939796704798937, -0.0202694833278656, 0.005553972441703081, 0.01506116520613432, 0.05772104486823082, -0.004641174804419279, -0.03484740108251572, -0.01040321122854948, -0.01120862178504467, -0.033961452543735504, -0.07130562514066696, -0.022444089874625206, 0.01520882360637188, 0.00740977143868804, -0.012631512247025967, 0.011651596985757351, -0.022215889766812325, 0.025128789246082306, -0.04166654124855995, 0.03299495950341225, 0.015893422067165375, -0.02499455399811268, -0.01302750501781702, -0.022819947451353073, 0.01351075153797865, -0.014134944416582584, -0.010819340124726295, 0.02141048014163971, -0.010913304053246975, -0.0003202763036824763, -0.006386229302734137, -0.029128992930054665, 0.00634931493550539, 0.018739204853773117, -0.021840032190084457, 0.0057486132718622684, -0.010383076034486294, 0.0024867032188922167, 0.03530380129814148, 0.006644631735980511, -0.0043592811562120914, -0.013759085908532143, 0.03659245744347572, -0.01747739501297474, -0.0001834195281844586, 0.01523567084223032, -0.025773117318749428, -0.014698730781674385, 0.017987487837672234, -0.015329635702073574, -0.006913101766258478, -0.012014031410217285, 0.005953321699053049, -0.032887570559978485, -0.014322873204946518, -0.007490312214940786, -0.008544056676328182, 0.005480143241584301, 0.020846692845225334, -0.017329737544059753, -0.002008490962907672, -0.01604108139872551, -0.005751969292759895, -0.04276726767420769, 0.011087809689342976, 0.005134488455951214, -0.00247495761141181, 0.014376566745340824, -0.01231606025248766, -0.0026846998371183872, 0.005966745316982269, 0.011524073779582977, -0.009678342379629612, 0.030498189851641655, 0.0038995263166725636, -0.0002443496196065098, -0.014900083653628826, -0.0037988501135259867, 0.027410784736275673, -0.03627029433846474, 0.014309450052678585, -0.0031293530482798815, -0.00853063352406025, 0.0066781905479729176, -0.03769318386912346, -0.009617936797440052, -0.01694045588374138, -0.013853050768375397, 0.02355824038386345, 0.0017182078445330262, -0.016416938975453377, -0.015437023714184761, -0.018054606392979622, -0.004074031952768564, 0.0044364663772284985, 0.0051109972409904, -0.015933692455291748, -0.00894005037844181, 0.03124990500509739, -0.03661930561065674, 0.028941063210368156, -0.003131031058728695, 0.006027150899171829, -0.012228807434439659, -0.0049398476257920265, -0.012517412193119526, 0.013879898004233837, 0.00897360872477293, -0.005624446086585522, 0.0029061874374747276, -0.02021578885614872, -0.010577716864645481, -0.08596408367156982, 0.01002064161002636, 0.0017433768371120095, -0.010248841717839241, -0.0019396955613046885, -0.005614378489553928, -0.0003878132556565106, 0.012953676283359528, 0.0018725780537351966, 0.011913355439901352, -0.022148773074150085, -0.002567244227975607, -0.019155332818627357, -0.002130980370566249, -0.03624344617128372, 0.01962515525519848, 0.0015613207360729575, -0.015893422067165375, 0.025236178189516068, -0.016027657315135002, 0.005590887274593115, -0.009530683979392052, 0.0026393954176455736, 0.03237747773528099, -0.007792341057211161, 0.00798698142170906, 0.00504052359610796, -0.007651394233107567, -0.0028256464283913374, -0.020108401775360107, 0.0035740064922720194, -0.002109167166054249, 0.004379416350275278, 0.056969329714775085, -0.02302129939198494, -0.00975217204540968, -0.0024514663964509964, 0.010060911998152733, -0.006268773693591356, 0.023397158831357956, -0.02515563741326332, -0.038069043308496475, 0.006225147750228643, -0.01848415844142437, -0.025961047038435936, -0.010396500118076801, -0.010752222500741482, -0.013799356296658516, 0.01920902729034424, 0.021920572966337204, -0.020484259352087975, -0.008087658323347569, -0.02612212859094143, -0.00623185932636261, -0.016967302188277245, -0.039921484887599945, 0.022457513958215714, 0.003996846731752157, 0.004607615992426872, -0.023517969995737076, 0.04086112976074219, -0.0026461072266101837, -0.0015453803353011608, 0.016363244503736496, 0.015504141338169575, 0.004748562816530466, 0.0021578273735940456, 0.002886052243411541, 0.017370007932186127, -0.00026217769482173026, -0.00251858402043581, 0.013074487447738647, 0.034256767481565475, -0.011141504161059856, -0.017678746953606606, -0.011396550573408604, -0.013678545132279396, 0.010839475318789482, -0.01914190873503685, 0.03304865211248398, 0.004711647983640432, 0.016765950247645378, 4.699535566032864e-06, 0.04872730001807213, 0.053157053887844086, 0.007725223433226347, -0.02342400513589382, 0.000513029342982918, 0.001600752235390246, 0.002078964374959469, -0.03173315152525902, 0.014416837133467197, -0.010832763276994228, -0.030363954603672028, -0.021061468869447708, 0.007288959808647633, 0.0001252160727744922, 0.01747739501297474, 0.007846035063266754, 0.009819289669394493, 0.0013389940140768886, 0.024766355752944946, 0.01788010075688362, -0.015195400454103947, -0.043196819722652435, 0.007329230196774006, -0.01908821426331997, -0.019047943875193596, 0.010369652882218361, 0.0019380176672711968, 0.013329533860087395, -0.005238520447164774, 0.000568401301279664, 0.0028759846463799477, -0.03661930561065674, -0.008054099045693874, -0.00013098398630972952, -0.023410581052303314, -0.02200111374258995, 0.01389332115650177, 0.0036109210923314095, 0.004456601571291685, 0.042122937738895416, -0.008168199099600315, -0.009570954367518425, 0.00394986430183053, 0.0029632372315973043, -0.029800167307257652, -0.008503786288201809, 0.02271256037056446, -0.01514170691370964, -0.003664615098387003, -0.005835866089910269, 0.006077488884329796, -0.03484740108251572, -0.009074284695088863, 0.0027400716207921505, -0.026578526943922043, 0.004587480798363686, 0.051492542028427124, 0.03146468102931976, -0.01302750501781702, -0.00761783542111516, 0.00612782733514905, 0.013571157120168209, 0.018269382417201996, 0.018349923193454742, -0.02891421690583229, -0.030847199261188507, 0.012530836276710033, 0.00624863849952817, 0.007725223433226347, 0.006886254996061325, -0.01616189256310463, 0.025544917210936546, -0.019061367958784103, 0.014779272489249706, -0.020068131387233734, 0.0405389666557312, 0.008456803858280182, -0.020779576152563095, -0.0024397207889705896, -0.009544107131659985, -0.008148063905537128, 0.0021494377870112658, 0.0044062635861337185, 0.0226051714271307, 0.01979966089129448, -0.024726085364818573, -0.001608302933163941, -0.01481954287737608, -0.031276751309633255, -0.015490717254579067, -0.014430261217057705, -0.00914811436086893, -0.008698427118360996, -0.007235265802592039, 0.013081199489533901, 0.03245801851153374, 0.015101435594260693, 0.029075298458337784, -0.008322569541633129, 0.006919813808053732, 0.003708241507411003, -0.005621090065687895, -0.010369652882218361, -0.018940556794404984, 0.0014514158247038722], [0.022376632317900658, -0.01769222877919674, -0.010103228501975536, -0.026955174282193184, -0.004591775126755238, 0.011188316158950329, -0.04017472267150879, -0.01818183995783329, -0.018684687092900276, 0.0003781680716201663, 0.017414338886737823, -0.007522835861891508, 0.013199699111282825, -0.005812498740851879, 0.01950511895120144, -0.004122011363506317, 0.014516360126435757, -0.0406511016190052, -0.011651463806629181, -0.019809473305940628, -0.033134881407022476, 0.02289270982146263, -0.004952368326485157, 0.022760383784770966, -0.0019319859566166997, -0.011505902744829655, -0.009779024869203568, -0.029429703950881958, 0.008382966741919518, 0.0061962497420609, 0.007092770654708147, 0.0011305756634101272, -0.016990890726447105, 0.0077742584981024265, -0.01308722048997879, -0.005445289425551891, 6.631897849729285e-05, 0.015985198318958282, 0.024771764874458313, 0.01233295165002346, 0.025036420673131943, 0.01681886427104473, -0.006613082252442837, 0.00283346907235682, -0.024388015270233154, 0.001071855193004012, -0.004743951838463545, 0.009117386303842068, 0.012002131901681423, -0.009706244803965092, -0.0008009967859834433, 0.03332014009356499, -0.002123861340805888, -0.002687908476218581, -0.019002273678779602, -0.0013993665343150496, -0.03228798508644104, -0.0009825340239331126, 0.032605573534965515, -0.0021188990212976933, 0.0066726296208798885, 0.023885169997811317, -0.020563742145895958, -0.0035728507209569216, -0.0001338785223197192, 0.007416973821818829, -0.026611121371388435, 0.029853153973817825, -0.03414057567715645, 0.012187391519546509, 0.011459588073194027, 0.02662435546517372, -0.011909502558410168, 0.0054221320897340775, -0.009249714203178883, -0.019822705537080765, 0.021040121093392372, -0.01803627982735634, 0.002671367721632123, -0.01644834689795971, -0.01742757298052311, -0.0119028864428401, 0.0035860836505889893, 0.0031527099199593067, 0.025367241352796555, 0.017851021140813828, 0.0027441480197012424, -0.003996299579739571, -0.009388658218085766, 0.002315736608579755, 0.03353186696767807, 0.02635969966650009, -0.0036985622718930244, 0.005769492592662573, -0.03750170022249222, 0.017268778756260872, -0.022456029430031776, 0.017414338886737823, 0.005008607637137175, -0.008184474892914295, 0.000126021564938128, -0.001892287633381784, -0.023064736276865005, -0.014436963945627213, -0.045203179121017456, -0.006249180529266596, -2.324782508367207e-05, 0.008303569629788399, 0.04517671465873718, -0.007727943826466799, -0.007648547179996967, 0.008343268185853958, -0.010533293709158897, 0.0005756259779445827, 0.004783650394529104, -0.010989824309945107, 0.0014539518160745502, -0.008495445363223553, 0.0036787129938602448, -0.0308588445186615, 0.03834860026836395, 0.014357566833496094, 0.009130618534982204, -0.010381116531789303, 0.03324074670672417, -0.010374500416219234, -0.00509131234139204, -0.023038271814584732, 0.02557896450161934, -0.010526676662266254, 0.005521377548575401, -0.02297210693359375, 0.01836710050702095, 0.01091704424470663, 0.002686254447326064, -0.012438814155757427, -0.028688669204711914, 0.02213844284415245, -0.022905943915247917, -0.015786707401275635, -0.016765933483839035, 0.019372791051864624, 0.0034173657186329365, 0.007522835861891508, 0.0010139618534594774, 0.02172822505235672, 0.014264937490224838, 0.017070287838578224, 0.04043937847018242, 0.02372637577354908, 0.019333092495799065, -0.024904092773795128, 0.005250105634331703, -0.016077829524874687, 0.0026647511404007673, -0.0050449976697564125, -0.001612745109014213, 0.013047521933913231, -0.00875348411500454, -0.03271143510937691, -0.02232370153069496, 0.046632319688797, 0.00014576734974980354, -0.0009122348274104297, 0.019849171862006187, 0.00835650134831667, 0.005382433533668518, -0.010215707123279572, -0.008680704049766064, 0.012670387513935566, 0.011512518860399723, 0.027206597849726677, -0.02486439421772957, 0.01499274093657732, -0.007053072098642588, -0.009686395525932312, -0.013477587141096592, -0.02651849202811718, -0.006623006891459227, -0.01086411252617836, 0.029429703950881958, 0.012227089144289494, 0.0005954751395620406, -0.005964675918221474, -0.0008200188749469817, 0.007125852629542351, 0.0252746120095253, 0.0031460935715585947, 0.026796381920576096, -0.008244022727012634, 0.006381508428603411, 0.01614399254322052, -0.00805214699357748, 0.010784716345369816, -0.6368672847747803, -0.024308618158102036, -0.006209482438862324, -0.015363258309662342, 0.009547451511025429, -0.004227873403578997, 0.012590991333127022, -0.004204716067761183, -0.011512518860399723, 0.00231077428907156, -0.01742757298052311, -0.01636894978582859, -0.0050185322761535645, -0.002419944852590561, -0.02935030683875084, -0.03646954521536827, -0.017215847969055176, 0.008568225428462029, 0.03337307274341583, -0.002988954307511449, -0.0188567116856575, 0.01276963297277689, 0.011155233718454838, -0.01263730600476265, 0.019399257376790047, 0.008713786490261555, 0.004575233906507492, -0.0011628306237980723, -0.015045671723783016, -0.002315736608579755, 0.0009932855609804392, 0.005805882625281811, 0.0027590347453951836, 0.0005847234860993922, 0.03228798508644104, -0.009216631762683392, -0.006047380622476339, 0.03353186696767807, -0.0011901232646778226, 0.029482634738087654, -0.04319179803133011, -0.008515294641256332, 0.01746726967394352, 0.01728201098740101, -0.0130541380494833, 0.021304776892066002, -0.004079004749655724, -0.041815586388111115, -0.03607255965471268, 0.007641931064426899, 0.006113544572144747, -0.039248429238796234, -0.01542942225933075, -0.006341810338199139, -0.014688386581838131, -0.0023603972513228655, 0.007489753887057304, 0.00010865353397093713, 0.010758250951766968, -0.006355043035000563, -0.01840679720044136, 0.001748381182551384, -0.0003763072018045932, -0.0498611181974411, -0.012968124821782112, 0.027365390211343765, -0.0021023580338805914, -0.0035298443399369717, 0.003814348950982094, -0.012121227569878101, 0.017784858122467995, 0.014185541309416294, 0.009249714203178883, -0.027365390211343765, 0.0008609577780589461, 0.03681359440088272, 0.024586506187915802, 0.0030088035855442286, 0.010037064552307129, 0.008422665297985077, 0.006695786956697702, -0.01490011066198349, -0.009342343546450138, -0.009395274333655834, 0.019716843962669373, -0.00321556581184268, -0.008184474892914295, -0.008244022727012634, 0.018208306282758713, -0.009163700975477695, 0.020510809496045113, 0.012233706191182137, -0.005997757893055677, -0.01728201098740101, -0.00031055681756697595, 0.015111835673451424, -0.005458522122353315, -0.005494912154972553, -0.009494519792497158, -0.027338925749063492, -0.016580674797296524, -0.006407974287867546, 0.04583835229277611, -0.02305150404572487, 0.010288487188518047, 0.0051674009300768375, 0.00805214699357748, -0.011386808007955551, 0.03993653133511543, -0.04046584293246269, -0.0052037909626960754, -0.03271143510937691, -0.024017497897148132, 0.002052735071629286, -0.004456138703972101, -0.025565732270479202, 0.013007823377847672, 0.012405731715261936, -0.011003057472407818, -0.009554067626595497, 0.005683479364961386, -0.02195318415760994, 0.0013786903582513332, -0.013576832599937916, -0.01454282645136118, 0.01754666678607464, -0.001679736073128879, -0.020232921466231346, -0.039698343724012375, -0.0054618301801383495, -0.00350337871350348, -0.006652780342847109, 0.020735766738653183, 0.0046413978561758995, 0.012194007635116577, 0.01112876832485199, 0.003764726221561432, -0.007509603165090084, 0.0023256612475961447, -0.027788840234279633, -0.00969301164150238, -0.010348034091293812, -0.00427088001742959, 0.013358492404222488, -0.005402282811701298, -0.03112350031733513, -0.015376491472125053, -0.005041689611971378, -0.012524827383458614, -0.007218481972813606, -0.010910428129136562, -0.005762876011431217, 0.013629764318466187, 0.01648804545402527, 0.037395838648080826, 0.00698690814897418, -0.010850880295038223, -0.024163058027625084, -0.026240603998303413, -0.02580392174422741, 0.01799658127129078, -0.001539137796498835, -0.01867145299911499, -0.003093162551522255, -0.010169392451643944, -0.004651322495192289, 0.005329502280801535, 0.03459049016237259, -0.001495304168201983, -0.0347757488489151, 0.006881046108901501, -0.002142056357115507, -0.004624857101589441, 0.007019990123808384, 0.009865038096904755, 0.012425580993294716, 0.002854972379282117, 0.015151534229516983, 0.0025175365153700113, 0.017480503767728806, -0.020881328731775284, -9.88581723504467e-06, -0.015508819371461868, 0.006338501814752817, 0.00811169482767582, 3.8819602195871994e-05, 0.0318380706012249, -0.002031231764703989, -0.0008431762689724565, -0.02376607432961464, -0.03795161470770836, 0.006034147925674915, -0.001415080507285893, 0.005051614250987768, -0.01499274093657732, -0.011810257099568844, -0.0014779361663386226, 0.0037084869109094143, 0.006788416299968958, 0.000864266010466963, 0.00698690814897418, 0.019094903022050858, 0.01284241396933794, 0.00899829063564539, 0.012749784626066685, -0.012220473028719425, 0.005395666230469942, -0.026055345311760902, 0.00405584741383791, -0.005068155005574226, 0.019174300134181976, -0.01746726967394352, -0.004753876477479935, -0.007383891846984625, 0.03821627050638199, 0.010076762177050114, -0.0021255153696984053, 0.01235280092805624, -0.008382966741919518, -0.012696852907538414, 0.004624857101589441, -0.011294178664684296, 0.001395231345668435, -0.014754550531506538, 0.00074020866304636, 0.02354111708700657, 0.025936249643564224, -0.011624997481703758, 0.011300794780254364, -0.02085486240684986, -0.013947350904345512, 0.03821627050638199, -0.002831815043464303, 0.015125068835914135, 0.013365108519792557, 0.020682835951447487, 0.015905803069472313, -0.02606857754290104, 0.007860272191464901, 0.009210015647113323, -0.004327119328081608, 0.015892568975687027, 0.01924046315252781, -0.011988899670541286, 0.01908166892826557, 0.0004846506053581834, 0.02266775257885456, -0.0005260030156932771, -0.01214769296348095, 0.005160784348845482, 0.00675202626734972, -0.005657013971358538, -0.005822423379868269, -0.02553926594555378, 0.021662062034010887, -0.002808657707646489, 0.014701619744300842, 0.02119891531765461, 0.015495586208999157, 0.016607139259576797, 0.022985341027379036, 0.0025655054487288, 0.011565450578927994, 0.00201303674839437, 0.013371724635362625, -0.026240603998303413, 0.014622222632169724, -0.006047380622476339, 0.015548516996204853, -0.026571422815322876, 0.0020692760590463877, -0.014820714481174946, 0.04477972909808159, -0.005478371400386095, 0.017070287838578224, 0.0031394772231578827, -0.010268637910485268, 0.009474671445786953, -0.00837635062634945, 0.02486439421772957, -0.020074129104614258, -0.03591376543045044, 0.011849954724311829, 0.004247722681611776, 0.0030088035855442286, -0.026505259796977043, 0.005766184069216251, -0.005977908615022898, -0.00487627973780036, 0.030752982944250107, -0.009401890449225903, -0.0015432731015607715, -0.03501393646001816, 0.023594047874212265, 0.01757313311100006, 0.00451568653807044, 0.00019290913769509643, -0.0042609553784132, -0.017970116809010506, -0.0039698341861367226, 0.007933052256703377, -0.009342343546450138, -0.0029740675818175077, -0.011347109451889992, 0.04335058853030205, -0.009368808940052986, -0.020682835951447487, -0.0021801006514579058, -0.0023405482061207294, -0.023038271814584732, 0.01961098052561283, -0.03429936617612839, 0.0034702967386692762, -0.019478652626276016, 0.00039760369691066444, 0.010996440425515175, 0.0069670588709414005, -0.014820714481174946, 0.005088004283607006, 0.01783778890967369, 0.0031328608747571707, 0.0026283611077815294, -0.01587933674454689, 0.018472962081432343, 0.11327259987592697, 0.016024896875023842, -0.03239384666085243, 0.013920885510742664, -0.01622338965535164, -0.00856160931289196, -0.026902243494987488, -0.014886878430843353, 0.02456004172563553, -0.028265219181776047, 0.00924309715628624, 0.021529734134674072, 0.0067818001843988895, -0.008488829247653484, 0.01325924601405859, 0.016461579129099846, 0.025062886998057365, 0.009183550253510475, -0.016130760312080383, 0.023924866691231728, 0.013682695105671883, -0.029112117365002632, 0.014159074984490871, 0.0015755279455333948, 0.028609272092580795, 0.0031146658584475517, 0.03466988727450371, 0.01950511895120144, 0.006358351092785597, -0.03218212351202965, 0.00025700542028062046, 0.02560543082654476, -0.011254480108618736, 0.0007807340589351952, -0.017705461010336876, 0.02990608476102352, -0.004145168699324131, -0.0025936251040548086, -0.019028738141059875, -0.00873363483697176, -0.00723171466961503, 0.011836722493171692, 0.011942584998905659, -0.011446354910731316, 0.008144776336848736, 0.008005832321941853, 0.0056206234730780125, 0.04282127693295479, -0.022508960217237473, -0.01231310237199068, 0.026055345311760902, -0.0198359377682209, -0.02399103157222271, -0.0046281651593744755, -0.0018393564969301224, 0.015588215552270412, 0.0019584514666348696, 0.0015788361197337508, -0.02266775257885456, -0.016832096502184868, -0.03504040464758873, -0.04274188354611397, -0.008144776336848736, -0.038375064730644226, 0.012888728640973568, -0.028847461566329002, -0.008641005493700504, -0.005647089332342148, -0.02462620474398136, -0.020550508052110672, -0.008270488120615482, -0.0188567116856575, -0.020074129104614258, 0.04043937847018242, 0.051846034824848175, -0.007675013039261103, 0.003979758825153112, 0.018128909170627594, -0.011155233718454838, 0.049358271062374115, 0.0019137909403070807, -0.01708352006971836, -0.006163167767226696, -0.021860552951693535, 0.002279346575960517, -0.0374223031103611, -0.028635738417506218, 0.003900362178683281, -0.023713143542408943, 0.008938743732869625, -5.2414216042961925e-05, -0.005144243594259024, -0.002034540055319667, 0.006106928456574678, 0.017678994685411453, 0.03273789957165718, 0.0030121116433292627, 0.005398974753916264, 0.006636239588260651, -0.008455746807157993, -0.0060109905898571014, -0.03138815611600876, 0.007139085326343775, -0.012174158357083797, 0.005967983976006508, 0.029376773163676262, -0.010328185744583607, 0.0023653595708310604, -0.00877333339303732, -0.006920744199305773, 0.04176265746355057, -0.0028830920346081257, 0.00903137307614088, -0.005521377548575401, -0.026147974655032158, 0.01632925122976303, 0.032340917736291885, -0.008323418907821178, 0.0062425644136965275, 0.0033429311588406563, 0.015548516996204853, -0.031626347452402115, 0.011347109451889992, 0.008177858777344227, 0.003903670236468315, 0.014569291844964027, 0.024652671068906784, -0.002433177549391985, -0.005471754819154739, 0.005236872937530279, -0.004234489984810352, -0.012610839679837227, -0.028953325003385544, 0.0027391857001930475, -0.023289693519473076, -0.028318149968981743, -0.0034603720996528864, -0.0001718193816486746, 0.006355043035000563, -0.027550648897886276, -0.010500211268663406, 0.010149543173611164, 0.008250638842582703, -0.013338643126189709, 0.0175334345549345, -0.03326721116900444, -0.0039566014893352985, -0.01329894457012415, -0.008634389378130436, 0.014132609590888023, -0.024639436975121498, 0.00976579263806343, -0.009587150067090988, -0.008872579783201218, -0.0016408647643402219, -0.03776635602116585, -0.014317869208753109, -0.0175334345549345, 0.03572850674390793, 0.021926717832684517, 0.027709443122148514, -0.0175334345549345, 0.0056801713071763515, 0.011439738795161247, 0.021291544660925865, -0.011955817230045795, -0.020801931619644165, 0.020206457003951073, -0.003632398322224617, 0.011585299856960773, 0.022456029430031776, -0.0028682053089141846, 0.006745410151779652, -0.007966133765876293, -0.01746726967394352, 0.0015854525845497847, -0.00975255947560072, -0.029932549223303795, -0.006510528270155191, -0.020960723981261253, -0.013722393661737442, -0.022985341027379036, 0.008151393383741379, 0.013656229712069035, -0.028847461566329002, 0.022985341027379036, 0.0583830289542675, 0.02354111708700657, 0.02696840651333332, 0.008065380156040192, 0.009534218348562717, -0.0018625138327479362, -0.009110769256949425, 0.00020603853045031428, 0.008925510570406914, -0.01844649575650692, -0.01795688271522522, -0.028371082618832588, -0.0022065662778913975, 0.012167542241513729, 0.0043469686061143875, 0.01953158527612686, 0.02158266492187977, -0.0010991478338837624, -0.03885144367814064, 0.03122936189174652, -0.01423847209662199, -0.012213856913149357, 0.018512660637497902, -0.004727411083877087, 0.002532423473894596, -0.02564512938261032, -0.012756400741636753, -0.02908565290272236, 0.003996299579739571, 0.006775183603167534, 0.006692478898912668, 0.024017497897148132, -0.0374223031103611, -0.014423730783164501, 0.021741459146142006, -0.015072137117385864, 0.02587008662521839, 0.027061035856604576, 0.019306626170873642, 0.02440124750137329, 0.018208306282758713, -0.005398974753916264, -0.01867145299911499, -0.005418823566287756, 0.004906053654849529, 0.009249714203178883, 0.0357549749314785, -0.020391715690493584, -0.0022264153230935335, 0.013563600368797779, -0.02017999067902565, -0.001418388681486249, -0.011042755097150803, 0.0006583308568224311, -0.015125068835914135, 0.018420031294226646, -0.02629353478550911, -0.02010059356689453, -0.008422665297985077, 0.021900251507759094, 0.01591903530061245, 0.015072137117385864, -0.0026515184435993433, -0.00827710423618555, 1.1126390745630488e-05, 0.008574841544032097, -0.03580790385603905, 0.014661921188235283, 0.0012901960872113705, -0.0009469708893448114, 0.0198359377682209, -0.007853655144572258, 0.014185541309416294, 0.01095674280077219, -0.04192144796252251, 0.008495445363223553, 0.0044693718664348125, -0.013537134975194931, 0.0085219107568264, 0.025856854394078255, -0.018605289980769157, 0.017176149412989616, -0.010996440425515175, 0.03316134959459305, -0.009911352768540382, -0.014304636046290398, 0.016885029152035713, 0.006861196830868721, 0.010897194966673851, -0.007873504422605038, 0.0017384565435349941, 0.00993781816214323, 0.0033313524909317493, -0.005226948298513889, 0.0022098743356764317, 0.014145842753350735, -0.029932549223303795, -0.007833805866539478, 0.002019653096795082, -0.02580392174422741, 0.0008684012573212385, 0.005587541498243809, 0.012763016857206821, -0.018764082342386246, -0.0035430770367383957, -0.00044743341277353466, -0.021939950063824654, -0.003380975453183055, 0.023858703672885895, 0.004161709453910589, -0.02150326780974865, 0.014291402883827686, 0.016501277685165405, -0.002585354493930936, 0.006030839867889881, 0.003642322961241007, -0.024546807631850243, 0.015323559753596783, -0.008528526872396469, -0.0021155907306820154, 0.03173220902681351, -0.0037250276654958725, -0.0015482353046536446, -0.013841488398611546, 0.012736551463603973, -0.00640135770663619, -0.0012356109218671918, -0.010434047318994999, 0.020537275820970535, 0.014397265389561653, -0.011347109451889992, -0.0025059578474611044, -0.01093689352273941, 0.042530156672000885, -0.007443439215421677, -0.01157868281006813, -9.485215559834614e-05, -0.03040893003344536, 0.004456138703972101, -0.002029577735811472, -0.013047521933913231, 0.005001991055905819, -0.02633323334157467, -0.02587008662521839, -0.011307410895824432, 0.022429563105106354, 0.008746867999434471, -0.016355717554688454, -0.02523491345345974, 0.0032949624583125114, -0.010354651138186455, 0.0040657720528542995, -0.012074911966919899, 0.021410638466477394, 0.005924977362155914, 0.021741459146142006, 0.03549031913280487, 0.0017748466925695539, -0.022231072187423706, -0.011730859987437725, -0.0050449976697564125, 0.002393479226157069, -0.040836360305547714, -0.014622222632169724, -0.005977908615022898, 0.01542942225933075, 0.009124002419412136, -0.023210298269987106, -0.007813956588506699, -0.033664193004369736, -0.048193786293268204, -0.0037051786202937365, 0.00021441240096464753, 0.011142001487314701, 0.02319706417620182, 0.014688386581838131, -0.00041827993118204176, -0.00567686278373003, -0.007860272191464901, 0.015641147270798683, -0.010751633904874325, 0.025883318856358528, 0.04078343138098717, -0.01803627982735634, 0.045997146517038345, -0.012114610522985458, -0.04684404283761978, -0.006173092406243086, 0.009137234650552273, -0.00041435143793933094, -0.014860413037240505, -0.010308336466550827, -0.027034571394324303, -0.008951975964009762, -0.007648547179996967, 0.0002181341260438785, 0.010923660360276699, 0.020246153697371483, 0.023170599713921547, -0.025036420673131943, 0.002957526594400406, -0.004459447227418423, -0.015747008845210075, -0.037475235760211945, 0.007860272191464901, -0.003222182160243392, 0.012366033159196377, 0.010553142987191677, 0.005428748205304146, -0.008204324170947075, 0.01769222877919674, 0.01090381108224392, 0.020153524354100227, -0.01352390181273222, 0.0023686678614467382, 0.017586365342140198, 0.006881046108901501, -0.0036720966454595327, 0.016382182016968727, 0.0023388939443975687, 0.02847694419324398, -0.005835656076669693, 0.006216098554432392, -0.01928016170859337, 5.187146598473191e-05, -0.009633464738726616, 0.005875354632735252, -0.008257254958152771, -0.003065042896196246, -0.003397516440600157, 0.006004374474287033, -0.015257395803928375, -0.0050449976697564125, 0.035252127796411514, 0.002573775826022029, 0.017824554815888405, -0.012815948575735092, 0.005786033347249031, 0.03337307274341583, -0.0014225239865481853, 0.011300794780254364, -0.005799266044050455, -0.00673217698931694, 0.026690518483519554, -0.02964142896234989, -0.010228939354419708, 0.013418039306998253, 0.03273789957165718, -0.0012819255935028195, 0.005415515508502722, 0.21320655941963196, 0.02342202141880989, -0.03980420529842377, 0.019068436697125435, 0.030197205021977425, 0.016435112804174423, 0.04533550515770912, 0.006546918302774429, 0.031705740839242935, -0.009573916904628277, -0.0016623680712655187, 0.019253695383667946, 0.007635314483195543, -0.003999608103185892, -0.002170176012441516, -0.006788416299968958, -0.02085486240684986, -0.015072137117385864, -0.017255546525120735, 0.030091343447566032, 0.0018459729617461562, -0.00995766744017601, 0.007099386770278215, -0.004131936002522707, 0.021066587418317795, 0.013590065762400627, -0.02568482793867588, 0.004595083184540272, 0.03284376114606857, 0.02715366519987583, -0.034114107489585876, 0.013550367206335068, 0.011208165436983109, 0.04591774940490723, 0.004568617325276136, -0.014344334602355957, 0.007139085326343775, -0.01810244470834732, -0.01928016170859337, -0.003410749137401581, -0.012213856913149357, 0.020007964223623276, -0.023792540654540062, -0.004323811270296574, -0.004509069956839085, 0.0188567116856575, 0.01286226324737072, 0.012432197108864784, -0.02180762216448784, 0.01139342412352562, -0.03353186696767807, -0.01659390702843666, 0.018618522211909294, 0.00860130786895752, -0.027921168133616447, 0.014516360126435757, 0.012928427197039127, 0.03533152490854263, -0.006834731437265873, 0.016607139259576797, -0.027709443122148514, 0.024242455139756203, -0.006980292033404112, -0.002929406939074397, -3.266842759330757e-05, 0.002732569118961692, 0.011691161431372166, 0.0034339067060500383, 0.022839779034256935, 0.005918361246585846, 0.001228994457051158, -0.013179849833250046, -0.019028738141059875, 0.00926294643431902, -0.019902102649211884, -0.028768064454197884, 0.0075889998115599155, 0.010367883369326591, -0.00971286091953516, 0.036601871252059937, 0.03167927637696266, 0.009335726499557495, 0.013907652348279953, -0.004945751745253801, 0.004796883091330528, -0.035781439393758774, 0.008402816019952297, -0.007522835861891508, -0.014436963945627213, -0.019253695383667946, 0.001629286096431315, -0.003523227758705616, -0.013947350904345512, -0.021820856258273125, 0.006265721749514341, 0.021450337022542953, 0.006947210058569908, 0.039883602410554886, 0.0020858170464634895, -0.009335726499557495, -0.03141462057828903, 0.05398974567651749, 0.0023240072187036276, 0.016355717554688454, -0.008118310943245888, -0.0037051786202937365, 0.003382629482075572, 0.0058257319033145905, -0.001673119724728167, 0.005815807264298201, -0.023554349318146706, 0.013762092217803001, 0.011611765250563622, 0.00037878836155869067, 0.013629764318466187, 0.04258308932185173, 0.0021205530501902103, -0.04382697120308876, 0.030647119507193565, -0.026584656909108162, 0.025327542796730995, -0.028344616293907166, -0.0020973957143723965, 0.018248004838824272, -0.019558049738407135, -0.015297094359993935, -0.004962292965501547, 0.014648688025772572, -0.017189381644129753, -0.0449649877846241, 0.02131800912320614, -0.02244279533624649, 0.01374885905534029, -0.02225753664970398, -0.01832740195095539, 0.006642855703830719, 0.04152446612715721, 0.0006037456332705915, -0.02221783809363842, 0.011538985185325146, -0.004707561805844307, -0.008627773262560368, -0.002859934698790312, 0.0045454599894583225, -0.0005284841754473746, -0.015058904886245728, 0.03443169593811035, -0.005630548112094402, 0.010877345688641071, -0.011089070700109005, -0.025221679359674454, 0.005246797576546669, -0.017268778756260872, 0.01754666678607464, 0.011969050392508507, 0.0037415686529129744, -0.03922196105122566, -0.025817155838012695, -0.0042510307393968105, -0.006232639774680138, -0.05684802681207657, 0.004227873403578997, 0.034008245915174484, -0.00488620437681675, -0.02105335332453251, 0.00017626477347221226, -0.16726234555244446, 0.025737758725881577, 0.009362192824482918, -0.0026482101529836655, 0.024427713826298714, -0.005789341405034065, 0.009818723425269127, -0.0012868879130110145, 0.0034769130870699883, -0.007787491660565138, 0.02387193590402603, 0.020299086347222328, -0.023355858400464058, -0.009309261105954647, 0.02082839608192444, -0.02062990516424179, 0.012504978105425835, 0.0061466265469789505, 0.02535400725901127, 0.019253695383667946, 0.024189522489905357, -0.00835650134831667, 0.01712321862578392, -0.009904736652970314, 0.009110769256949425, 0.017705461010336876, -0.024533575400710106, -0.0014638763386756182, 0.014608990401029587, -0.010473745875060558, -0.003625781973823905, -0.02066960372030735, 0.01542942225933075, -0.01163823064416647, -0.004416440613567829, -0.010003982111811638, -0.020193222910165787, -0.005637164693325758, -0.006100311875343323, 0.020656371489167213, 0.0027590347453951836, 0.012736551463603973, 0.01685856282711029, -0.007106003351509571, -0.008720402605831623, 0.005246797576546669, 0.013854721561074257, -0.0015598139725625515, 0.004767109174281359, -0.01832740195095539, 0.02564512938261032, -0.039777737110853195, 0.028979789465665817, -0.0022611513268202543, -0.005643780808895826, -0.0028764756862074137, 0.01720261573791504, -0.0015308673027902842, 0.03326721116900444, -0.007985983043909073, -0.007800724357366562, -0.005690095946192741, 0.011651463806629181, 0.01261745672672987, -0.008700553327798843, -0.00809184554964304, 0.00438666669651866, 0.00942835584282875, -0.013656229712069035, 0.019822705537080765, -0.016580674797296524, 0.008938743732869625, -0.008925510570406914, -0.019333092495799065, -0.00786688830703497, 0.0018426646711304784, -0.01942572183907032, 0.006788416299968958, -0.010010598227381706, 0.015350026078522205, 0.011314027942717075, -0.0008167107007466257, 0.00929602887481451, -0.004022765439003706, -0.015297094359993935, -0.009044605307281017, 0.009851804934442043, 0.00786688830703497, -0.0064410557970404625, 0.009798874147236347, 0.014794249087572098, -0.022839779034256935, 0.0030385772697627544, 0.006738793570548296, 0.020471110939979553, 0.02131800912320614, 0.03202332928776741, 0.00544198090210557, -0.004790266510099173, -0.004952368326485157, 0.00569671206176281, -0.008131544105708599, -0.00040422010351903737, -0.010281871072947979, 0.02587008662521839, 0.028847461566329002, 0.016527744010090828, 0.03257910534739494, 0.023183831945061684, -0.0005549497436732054, -0.03877204656600952, 0.014119377359747887, 0.02557896450161934, 0.005428748205304146, -0.014714851975440979, 0.012716702185571194, -0.00488620437681675, -0.021939950063824654, 0.0026482101529836655, 0.009143851697444916, 0.061082515865564346, -0.00899829063564539, -0.020960723981261253, -0.008799798786640167, -0.005025148391723633, -0.030832380056381226, -0.07113943248987198, -0.02564512938261032, 0.026875777170062065, 0.011486053466796875, -0.017030589282512665, 0.007661779876798391, -0.01331217773258686, 0.00511116161942482, -0.046605855226516724, 0.028529874980449677, 0.014781015925109386, -0.01991533488035202, -0.013457737863063812, -0.012498361058533192, 0.015932267531752586, -0.0018459729617461562, -0.012246938422322273, 0.018195074051618576, -0.020510809496045113, -0.003245339496061206, 0.013947350904345512, -0.027868235483765602, 0.008502061478793621, 0.00226776790805161, -0.03432583436369896, -0.005954751279205084, -0.016527744010090828, 0.013007823377847672, 0.025962715968489647, 0.008396198973059654, 0.0019088286207988858, 0.004889512434601784, 0.03496100753545761, -0.013960584066808224, -0.015230930410325527, 0.00860130786895752, -0.013193082064390182, -0.009798874147236347, 0.008852730505168438, -0.018565591424703598, -0.009534218348562717, -0.018155375495553017, 0.008349884301424026, -0.04435628280043602, -0.021675294265151024, -0.008442514576017857, -0.017983349040150642, 0.012928427197039127, 0.018049512058496475, -0.02504965476691723, -0.028424013406038284, -0.0021040120627731085, -0.011446354910731316, -0.03874558210372925, 0.010910428129136562, -0.01632925122976303, -0.00880641583353281, 0.007787491660565138, -0.02252219244837761, -0.008078612387180328, 0.0029806839302182198, 0.019266929477453232, -0.013093836605548859, 0.030223671346902847, 0.006887662224471569, 0.004992066416889429, -0.018023047596216202, -0.012306486256420612, 0.02810642682015896, -0.01924046315252781, 0.0006182189681567252, -0.0011165158357471228, -0.013060754165053368, 0.024004263803362846, -0.04250369220972061, -0.015151534229516983, -0.01614399254322052, -0.01261745672672987, 0.0175334345549345, -0.007926435209810734, -0.010189240798354149, -0.02066960372030735, -0.0019402564503252506, -0.015866104513406754, 0.008158009499311447, -0.002289270982146263, -0.001353051862679422, -0.010043680667877197, 0.009329110383987427, -0.010189240798354149, 0.03040893003344536, 0.00010260574345011264, 0.013550367206335068, -0.01454282645136118, 0.011975666508078575, -0.0019419105956330895, -0.0077477931044995785, 0.00950775295495987, -0.024851161986589432, 0.011102302931249142, -0.02474530041217804, -0.01261745672672987, -0.08765394240617752, 0.02935030683875084, 0.0007244947482831776, -0.016236621886491776, -0.004459447227418423, -0.028159357607364655, 0.010096611455082893, 0.008217556402087212, 0.006583308335393667, 0.017057053744792938, -0.0298796184360981, -0.016130760312080383, -0.030382463708519936, -0.011849954724311829, -0.014754550531506538, 0.0053261942230165005, -0.00101148069370538, -0.01632925122976303, 0.015045671723783016, -0.009137234650552273, 0.009461438283324242, -0.003533152397722006, 0.01346435397863388, 0.018949342891573906, 0.0008890774333849549, 0.018737617880105972, -0.011069221422076225, -0.01490011066198349, 0.00404592277482152, -0.006914128083735704, 0.01544265542179346, -0.0021089743822813034, -0.003089854260906577, 0.039327822625637054, -0.019147833809256554, -0.01991533488035202, -0.0005400628433562815, 0.01282256469130516, 0.00038023569504730403, 0.024639436975121498, -0.011896270327270031, -0.04567955806851387, 0.012154309079051018, -0.017758391797542572, -0.03787221759557724, 0.0022594972979277372, 0.008442514576017857, -0.014873645268380642, 0.006232639774680138, 0.02195318415760994, -0.006338501814752817, -0.004710869863629341, -0.030276602134108543, -0.02134447544813156, -0.02213844284415245, -0.015045671723783016, 0.01803627982735634, -0.005547843407839537, 0.00255558080971241, -0.0344846248626709, 0.03885144367814064, 0.008349884301424026, -0.01276963297277689, 0.020987190306186676, 0.022694218903779984, -0.01397381629794836, -0.016196923330426216, 0.0014531246852129698, 0.0188567116856575, -0.011042755097150803, 0.0007877639727666974, 0.010698703117668629, 0.02270745113492012, -0.0032866918481886387, -0.01689826138317585, -0.013537134975194931, -0.02387193590402603, 0.009984132833778858, -0.03316134959459305, 0.029165048152208328, -0.001145462621934712, 0.006149935070425272, -0.013642996549606323, 0.03784575313329697, 0.01738787442445755, 0.01708352006971836, -0.023514650762081146, -0.003490146016702056, -0.015072137117385864, 0.019584516063332558, -0.014384032227098942, 0.0003206881810911, -0.021926717832684517, -0.03856032341718674, -0.02315736562013626, 0.020616672933101654, 0.02293240837752819, 0.03292315825819969, -0.013040905818343163, 0.017136450856924057, 0.00665608886629343, 0.019412489607930183, 0.009845188818871975, -0.00336608849465847, -0.043509382754564285, -0.013113685883581638, -0.01659390702843666, -0.003371050814166665, 0.01565437950193882, -0.00015279726358130574, 0.010281871072947979, 0.006834731437265873, 0.023448487743735313, 0.012200623750686646, -0.0564245767891407, 0.0018310860032215714, -0.005650397390127182, -0.007628697901964188, -0.023249994963407516, 0.014833947643637657, 0.019412489607930183, -0.0038408145774155855, 0.03906317055225372, -0.008727018721401691, -0.0071853999979794025, 0.017440805211663246, 0.013656229712069035, -0.04144506901502609, -0.004548768512904644, 0.01044728048145771, -0.007033222820609808, -0.0020808547269552946, -0.008343268185853958, 0.00429072929546237, -0.03628428652882576, -0.005471754819154739, 0.022191373631358147, -0.00903137307614088, 0.006894278805702925, 0.06145303323864937, 0.022641288116574287, -0.021490035578608513, -0.011724243871867657, -0.004019457381218672, 0.005779416766017675, 0.008588074706494808, 0.0015862795989960432, -0.03191746771335602, -0.03257910534739494, 0.007549301255494356, -0.0006703230319544673, -0.0017202615272253752, 0.006834731437265873, -0.00037651395541615784, 0.033293675631284714, -0.007536068558692932, 0.02010059356689453, -0.019981499761343002, 0.02180762216448784, 0.025367241352796555, -0.01742757298052311, 0.004982141777873039, 0.0011628306237980723, -0.008793182671070099, 0.007152318023145199, 0.017096752300858498, 0.01828770339488983, 0.021331243216991425, -0.031017638742923737, 0.006546918302774429, -0.010751633904874325, -0.023369090631604195, -0.017215847969055176, -0.012048446573317051, -0.02021968923509121, -0.01397381629794836, 0.005551151465624571, 0.023342624306678772, 0.019438954070210457, -0.00013801376917399466, 0.019703609868884087, -0.00924309715628624, -0.005663630086928606, 0.021370941773056984, 0.0075889998115599155, -0.0023306235671043396, -0.01186318788677454, 0.010579608380794525], [0.015091261826455593, -0.031814735382795334, -0.0017726881196722388, -0.005261204671114683, -0.004612333606928587, 0.011746566742658615, -0.03135985508561134, -0.01939922757446766, -0.010756537318229675, -0.005920109339058399, 0.010488961823284626, -0.003026948543265462, 0.008314910344779491, -0.007458668667823076, 0.02706526778638363, -0.0040537696331739426, 0.0053414772264659405, -0.02377408929169178, -0.011525817215442657, -0.018342304974794388, -0.023961391299962997, 0.024389512836933136, 0.008415251038968563, 0.00227940920740366, -0.0020904340781271458, -0.01610804907977581, 0.001116291736252606, -0.03210906684398651, 0.016335487365722656, 0.002933297073468566, 0.019024621695280075, 0.007124199066311121, -0.01713821478188038, -0.006568979937583208, -0.012415505945682526, -0.015265185385942459, 0.004093905910849571, 0.020215334370732307, 0.005639154929667711, 0.0037460578605532646, 0.011030802503228188, 0.0004406635125633329, -0.003986875992268324, 0.006201063748449087, -0.022021468728780746, 0.009164462797343731, 0.011224795132875443, 0.007244608364999294, 0.014127989299595356, -0.024402890354394913, -0.006548911798745394, 0.00804064515978098, -0.005936832632869482, -0.005194310564547777, 0.004057114478200674, 0.004746121354401112, -0.029165735468268394, 0.014020958915352821, 0.027613798156380653, -0.0040604593232274055, -0.034677792340517044, 0.03713948652148247, -0.02155321091413498, -0.012796801514923573, -0.028255978599190712, -0.024964800104498863, -0.019238682463765144, 0.02155321091413498, -0.01608129031956196, -0.001985076116397977, 0.01890421286225319, 0.0314401276409626, 0.007819895632565022, 0.00978657603263855, -0.013064377009868622, -0.02267702855169773, 0.010890325531363487, -0.02017519809305668, 0.013679800555109978, -0.004990284331142902, -0.013994202017784119, -0.025780905038118362, -0.009592583402991295, 0.004659159574657679, 0.021178605034947395, 0.012308475561439991, -0.012194756418466568, 0.005625776015222073, -0.0038029176648706198, 0.0036791639868170023, 0.016295351088047028, 0.015064503997564316, -0.004772879183292389, 0.021486317738890648, -0.021593347191810608, 0.014837064780294895, -0.011485680937767029, 0.024068420752882957, -0.0038530880119651556, 0.0011932197958230972, 0.010843499563634396, 0.010957218706607819, -0.027506766840815544, -0.011947249062359333, -0.025914693251252174, -0.006017105188220739, 0.004077182617038488, -0.004070493392646313, 0.04388239234685898, -0.013378777541220188, -0.028255978599190712, 0.018783804029226303, 0.000505048839841038, -0.00241486937738955, 0.018810560926795006, 0.011117764748632908, 0.033901821821928024, -0.009967189282178879, -0.00016681663691997528, -0.019907621666789055, 0.006575669161975384, 0.015051125548779964, 0.003155719256028533, -0.009712993167340755, 0.017954319715499878, -0.007826585322618484, -0.003578823059797287, -0.012188066728413105, 0.018168380483984947, -0.015345457941293716, 0.005381613504141569, -0.012903830967843533, 0.008783168159425259, 0.0022309112828224897, -0.011786703020334244, -0.024255724623799324, -0.02108495496213436, 0.023372724652290344, -0.027720827609300613, -0.017231866717338562, -0.00021991366520524025, 0.022141877561807632, -0.010983976535499096, -0.005013696849346161, -0.008769788779318333, 0.0048464625142514706, 0.000938186829444021, 0.012569362297654152, 0.04722708463668823, 0.014582867734134197, 0.018917592242360115, -0.027881372720003128, -0.010555855929851532, -0.02596820890903473, 0.011224795132875443, -0.007010479457676411, -0.004321345128118992, 0.019987894222140312, -0.0020218677818775177, -0.020750485360622406, -0.025941450148820877, 0.011405408382415771, 0.007211161311715841, 0.009184530936181545, 0.003145685186609626, -0.0016564599936828017, 0.0033630903344601393, -6.72074529575184e-05, -0.00038547604344785213, 0.00011183822061866522, 0.001747602829709649, 0.020710349082946777, -0.016857260838150978, 0.024469785392284393, 0.0032443536911159754, -0.012823558412492275, -0.004157455172389746, -0.006180995609611273, -0.01059599220752716, -0.015291943214833736, 0.05070556700229645, -0.017151594161987305, 0.00387315615080297, 0.013860413804650307, -0.002871420234441757, 0.007612524554133415, 0.01961328834295273, 0.015305321663618088, 0.02465708740055561, -0.01961328834295273, 0.006766316946595907, 0.015265185385942459, 0.004705985076725483, 0.0002761463401839137, -0.6267690062522888, -0.03122606687247753, 0.004000254441052675, -0.03716624528169632, 0.0016932515427470207, 0.006535532884299755, 0.011385340243577957, 5.424676419352181e-05, -0.02381422556936741, 0.006428502965718508, -0.00156113610137254, -0.0076927971094846725, -0.014248398132622242, -0.002956709824502468, -0.022141877561807632, -0.018609879538416862, -0.0017208453500643373, -0.003615614725276828, 0.033687762916088104, 0.00565253384411335, -0.04431051388382912, 0.007184403948485851, 0.005987002979964018, -0.020643454045057297, 0.0076325926929712296, 0.0020586594473570585, -0.005552192684262991, 0.020509665831923485, -0.025887934491038322, 0.022837573662400246, -0.009030675515532494, 0.012857005931437016, 0.003299541072919965, 0.0049936287105083466, 0.040644727647304535, -0.003615614725276828, -0.01063612848520279, 0.037353549152612686, -0.0035253081005066633, 0.02108495496213436, -0.03775491192936897, -0.010221386328339577, 0.023305831477046013, 0.03168094530701637, 0.0011764962691813707, 0.009425349533557892, 0.015158155001699924, -0.03208230808377266, -0.03333991393446922, 0.00017883663531392813, 0.01865001581609249, -0.032911792397499084, -0.022810816764831543, 0.0004908338887616992, 0.007244608364999294, -0.015118018724024296, 0.006542222574353218, -0.011057560332119465, 0.02303825505077839, -0.001337041612714529, -0.00856910739094019, -0.004572197329252958, -0.008763100020587444, -0.0419023334980011, -0.00312227220274508, 0.019760455936193466, -0.004067148547619581, 0.0014875528868287802, -0.0010226403828710318, -0.004140731878578663, 0.028978433459997177, 0.014101232402026653, 0.004956837277859449, -0.02769407071173191, -0.0014574506785720587, 0.05402350425720215, 0.030904976651072502, 0.0035988911986351013, -0.004321345128118992, 0.004130697809159756, 0.026717418804764748, -0.018810560926795006, -0.020683590322732925, -0.021285636350512505, 0.01961328834295273, 0.0018245308892801404, -0.013820277526974678, -0.015372215770184994, 0.01095052994787693, 0.008167743682861328, 0.032269611954689026, 0.0234529972076416, -0.01755295693874359, -0.03609594330191612, -0.013318573124706745, 0.009017296135425568, -0.01406109519302845, -0.0018813906935974956, -0.013204853981733322, -0.0160010177642107, -0.013586148619651794, -0.007371706888079643, 0.026610389351844788, -0.01617494225502014, 0.02356002852320671, -0.006639218423515558, -0.005378268659114838, 0.0021623449865728617, 0.05118720605969429, -0.03596215695142746, 0.0014683208428323269, -0.03443697467446327, -0.028496796265244484, -0.014917337335646152, 0.00022137696214485914, -0.024135315790772438, 0.01582709513604641, -0.00529799610376358, -0.015974260866642, -0.02628929913043976, -0.0005267894011922181, -0.013499187305569649, 0.02101805992424488, -0.01372662652283907, 0.004344758111983538, 0.025887934491038322, -0.008475455455482006, -0.028041917830705643, -0.033259641379117966, -0.018074728548526764, -0.022422831505537033, -0.017071321606636047, 0.001408952521160245, 0.005709393415600061, 0.003177459817379713, 0.01015449222177267, 0.009217978455126286, -0.010288280434906483, 0.005354855675250292, -0.0157200638204813, -0.017392411828041077, -0.022743921726942062, -0.006053897086530924, 0.001466648536734283, 0.0010502340737730265, -0.024001527577638626, -0.014596247114241123, -0.008930333890020847, -0.006883381400257349, -0.017405789345502853, -0.02879112958908081, -0.00816105492413044, 0.00047661896678619087, 0.020215334370732307, 0.029914947226643562, 0.007826585322618484, -0.020188575610518456, -0.0234529972076416, -0.0077864485792815685, -0.05380944535136223, 0.01342560350894928, -0.003152374643832445, -0.016897397115826607, -0.0026807726826518774, -0.012060968205332756, -0.003531997324898839, -0.0025369508657604456, 0.032724492251873016, 0.0017961009871214628, -0.029807917773723602, 0.011151211336255074, -0.008910265751183033, 0.002232583472505212, 0.019773833453655243, 0.0017961009871214628, 0.018061351031064987, -0.011378650553524494, 0.01780715398490429, 0.014368807896971703, -0.0012534242123365402, -0.02140604518353939, -0.005083935800939798, -0.029968462884426117, -0.01656292751431465, 0.026275919750332832, 0.0028563691303133965, 0.03823654726147652, 0.0013061031932011247, -0.005779631901532412, -0.013030929490923882, -0.028068676590919495, 0.01068964321166277, 0.014542731456458569, 0.00633150665089488, 0.003179132007062435, -0.00807409267872572, 0.005468575283885002, 0.024951420724391937, -0.008676137775182724, 0.0032794729340821505, 0.014877201057970524, -0.010034083388745785, 0.0053682345896959305, -0.009365144185721874, -0.003779504681006074, -0.006482018157839775, 0.0010167871369048953, -0.012408816255629063, -0.0002719654585234821, 0.00022952965809963644, 0.029165735468268394, -0.01342560350894928, -0.019840728491544724, -0.03288503736257553, 0.02855031192302704, 0.00964609906077385, 0.004324689973145723, 0.016455896198749542, -0.020683590322732925, 0.006421813275665045, 0.024857768788933754, -0.03010225109755993, 0.017860667780041695, -0.016763608902692795, -0.016482654958963394, 0.012107794173061848, 0.018716910853981972, 0.019171789288520813, 0.004552129190415144, -0.03454400599002838, -0.011545885354280472, 0.04024336487054825, 0.004344758111983538, -0.0068198321387171745, 0.011739877983927727, 0.017579713836312294, 0.020188575610518456, -0.03342018648982048, 0.01467651966959238, -0.015465867705643177, -0.0023529925383627415, 0.027332844212651253, 0.031145794317126274, -0.011378650553524494, 0.012234892696142197, 0.011947249062359333, 0.012863694690167904, 8.711883856449276e-05, -0.003602236043661833, 0.004903322085738182, -0.0050003184005618095, -0.005491988267749548, -0.004006944131106138, -0.031279582530260086, 0.018074728548526764, -0.011231483891606331, 0.012863694690167904, 0.006849934346973896, 0.03561430796980858, 0.01549262460321188, 0.021071575582027435, 0.004451788496226072, 0.009438727982342243, -0.007157646119594574, 0.015613033436238766, -0.013084445148706436, 0.02599496580660343, -0.011693052016198635, 0.023653678596019745, -0.025339405983686447, 0.008147675544023514, -0.008696205914020538, 0.03243015706539154, -0.011345203965902328, 0.005451851990073919, 0.017338896170258522, 0.001771015697158873, 0.0037861941382288933, -0.006150893401354551, 0.01621507853269577, -0.011927180923521519, -0.012455642223358154, 0.02519223839044571, 0.012335233390331268, 0.00736501719802618, -0.02769407071173191, -0.006030484102666378, 0.010341795161366463, -0.00613082479685545, 0.04712005704641342, 0.005772942677140236, 0.02020195499062538, -0.0025871212128549814, 0.028817888349294662, 0.0020770553965121508, -0.01427515596151352, 0.005405026488006115, -0.007779759354889393, 0.003344694385305047, -0.010375242680311203, 0.011606089770793915, -2.1008861949667335e-05, -0.002217532368376851, -0.009706303477287292, 0.04607651010155678, -0.004863185808062553, -0.02176727168262005, -0.017044562846422195, 0.002980122808367014, -0.022315802052617073, 0.014623004011809826, -0.020937787368893623, 0.005662567913532257, -0.024469785392284393, 0.002448316430673003, -0.0035721338354051113, -0.007231229450553656, -0.022061605006456375, 0.00901060737669468, 0.01918516680598259, 0.0011104386067017913, -0.016950910910964012, -0.011151211336255074, 0.023359347134828568, 0.10109004378318787, 0.016121426597237587, -0.020268848165869713, 0.008589175529778004, -0.017606472596526146, -0.02144618146121502, -0.0239881481975317, -0.027332844212651253, 0.021205363795161247, -0.013492497615516186, 0.010816741734743118, 0.026971615850925446, 0.022128498181700706, -0.004712674766778946, 0.01819513738155365, 0.020108303055167198, 0.01427515596151352, -0.00610406743362546, -0.024215588346123695, -0.002511865459382534, 0.025981586426496506, -0.013699868693947792, 0.002628929913043976, 0.010435447096824646, 0.04481890797615051, 0.004110629670321941, 0.03342018648982048, 0.013659732416272163, -0.0034182777162641287, -0.04200936108827591, -0.01858312264084816, 0.03585512563586235, -0.014020958915352821, 0.0025252443738281727, -0.01656292751431465, 0.025780905038118362, -0.008729652501642704, 0.026730798184871674, -0.012555982917547226, 0.004254451487213373, -0.010535787791013718, 0.017512820661067963, 0.01741916872560978, -0.01802121475338936, 0.00036937970435246825, 0.00532475346699357, -0.01215462014079094, 0.03550727665424347, -0.023198800161480904, -0.01293058879673481, 0.010355174541473389, 0.010034083388745785, -0.020496288314461708, -0.027961645275354385, 0.002326234942302108, 0.00888350885361433, 0.008187811821699142, 0.02306501381099224, -0.02101805992424488, -0.04655814915895462, -0.025673875585198402, -0.02618226781487465, -0.01638900302350521, -0.022730544209480286, 0.018676774576306343, -0.024081800132989883, -0.002946675755083561, 0.004910011310130358, -0.03515942767262459, -0.0021840855479240417, -0.004535405896604061, -0.012582740746438503, -0.021486317738890648, 0.013873793184757233, 0.02582104131579399, 0.0011480663670226932, 0.008094160817563534, 0.00901060737669468, -0.008843372575938702, 0.05110693350434303, 0.011104385368525982, -0.013860413804650307, 0.0016589685110375285, -0.022141877561807632, 0.017298759892582893, -0.03296530991792679, -0.033928580582141876, 0.006629184354096651, -0.021713756024837494, -6.485571793746203e-05, -0.030182523652911186, -0.007003790233284235, -0.003040327224880457, 0.009906984865665436, 0.0036524063907563686, 0.02282419614493847, 0.0025871212128549814, -0.012047589756548405, 0.008970470167696476, -0.006512120366096497, -0.000985012506134808, -0.034008853137493134, -0.010328416712582111, -0.022730544209480286, 0.018315546214580536, 0.019091516733169556, -0.003428311785683036, 0.004321345128118992, 0.008207879960536957, -0.012950656935572624, 0.030851462855935097, -0.015211670659482479, 0.003471792908385396, 0.0039935652166605, -0.028710857033729553, 0.015626411885023117, 0.020121682435274124, -0.004916701000183821, 0.007472047582268715, 0.016910774633288383, 0.020108303055167198, -0.03478482365608215, 0.005709393415600061, -0.0028195774648338556, 0.0007207816815935075, 0.011010734364390373, 0.02030898444354534, -0.0154391098767519, -0.007351638283580542, 0.01724524423480034, -0.007472047582268715, -0.012683081440627575, -0.029085462912917137, -0.0050605228170752525, -0.015626411885023117, -0.01638900302350521, -0.007866721600294113, 0.01329850498586893, -0.004726053215563297, -0.0469059944152832, 0.0007981277303770185, 0.02321217954158783, 0.01345905102789402, -0.0187570471316576, 0.014154747128486633, -0.03173446282744408, -0.003909947816282511, 0.003224285552278161, -0.00955913681536913, 0.010027393698692322, -0.023546649143099785, -0.0015628085238859057, -0.01238205935806036, -0.006565635092556477, 0.004388239234685898, -0.02879112958908081, 0.014596247114241123, -0.014087853021919727, 0.03499888256192207, 0.029861431568861008, 0.021847544237971306, -0.012275028973817825, 0.010856878012418747, -0.0019767144694924355, 0.008462077006697655, -0.02030898444354534, -0.010870257392525673, 0.010729779489338398, -0.005789665970951319, 0.017004426568746567, 0.033714521676301956, 0.00309551483951509, 0.012529226019978523, -0.021526454016566277, -0.0012826903257519007, -0.000843699206598103, -0.002685789717361331, -0.03906603157520294, -0.012796801514923573, -0.02558022364974022, -0.01804797165095806, -0.011425476521253586, -0.0022242218255996704, 0.01748606190085411, -0.03154715895652771, 0.015024367719888687, 0.049367692321538925, 0.023372724652290344, 0.025339405983686447, -0.000419550109654665, 0.005384958349168301, -0.002874764846637845, 0.006903449539095163, -0.002824594499543309, 0.010970598086714745, -0.0010460532503202558, -0.006277991458773613, -0.048136841505765915, -0.019171789288520813, 0.007940304465591908, -0.006144203711301088, 0.007291433867067099, 0.01798107847571373, -0.01576020009815693, -0.040858786553144455, 0.02265027165412903, -0.022315802052617073, -0.030958492308855057, 0.00664256326854229, 0.013673110865056515, 0.005505367182195187, -0.015572897158563137, -0.009445417672395706, -0.03146688640117645, 0.008013888262212276, -0.007599146105349064, -0.001911492901854217, 0.01823527365922928, -0.032724492251873016, -0.011699741706252098, 0.030155764892697334, -0.024563435465097427, 0.02420220896601677, 0.011432166211307049, 0.03366100415587425, 0.02166024222970009, -0.0033931925427168608, -0.01319147553294897, -0.028282737359404564, -0.0043012769892811775, 0.00893702358007431, 0.005415060557425022, 0.03146688640117645, -0.013345330953598022, -0.012863694690167904, 0.027225812897086143, -0.035908639430999756, -0.008930333890020847, -0.02360016480088234, -0.007498804945498705, -0.014261777512729168, 0.017887426540255547, -0.01836906187236309, -0.024242345243692398, -0.005545503459870815, 0.03794221580028534, -0.008281463757157326, 0.030503613874316216, 0.009746439754962921, -0.0035988911986351013, -0.01072309073060751, 0.017432548105716705, -0.03783518448472023, 0.03462427854537964, 0.01935909129679203, -0.009017296135425568, 0.01946612261235714, 0.0005067212041467428, 0.000401572382543236, -0.013037619180977345, -0.019452743232250214, 0.01211448386311531, 0.005137450527399778, -0.007104130927473307, 0.02366705797612667, 0.03243015706539154, -0.009993947111070156, 0.02168699912726879, -0.002428248291835189, 0.0336342491209507, -0.009358455426990986, -0.02250310406088829, -0.0018328925361856818, 0.0032042174134403467, -0.0032828175462782383, -0.0013270075432956219, 0.0029951739124953747, 0.011485680937767029, -0.012696459889411926, -0.018984485417604446, 0.007278055418282747, 0.021753892302513123, -0.023894498124718666, -0.017954319715499878, 0.026476601138710976, -0.029834674671292305, 0.007411843165755272, -0.010910393670201302, 0.0016598046058788896, -0.012188066728413105, -0.025700632482767105, 0.006910138763487339, -0.0025369508657604456, 0.012816869653761387, 0.012622877024114132, 0.026730798184871674, -0.015666548162698746, 0.03299206495285034, 0.013927307911217213, 0.018957728520035744, 0.0096594775095582, 0.01260949857532978, -0.02306501381099224, 0.0193189550191164, -0.00033342422102577984, -0.012562672607600689, 0.02416207268834114, -0.00687000248581171, -0.014315292239189148, 0.007451979443430901, 0.0008654397097416222, -0.0005347330588847399, -0.00668604439124465, -0.02299811877310276, 0.004806325770914555, 0.00888350885361433, -0.008395182900130749, -0.006518809590488672, -0.011371960863471031, 0.03267097473144531, -0.010816741734743118, -0.01830216869711876, 0.014114610850811005, -0.03874494135379791, 0.00906412210315466, 0.0021389322355389595, 0.005144140217453241, 0.0021623449865728617, -0.021205363795161247, -0.013994202017784119, -0.02719905599951744, 0.021352529525756836, 0.005077246110886335, -0.011244863271713257, -0.0006350738694891334, 0.00396680785343051, -0.011472302488982677, -0.006522154435515404, -0.004398273304104805, 0.021566590294241905, -0.0033630903344601393, 0.004980250261723995, 0.033794794231653214, 0.002814560430124402, -0.01677698828279972, -0.008950402028858662, -0.021044818684458733, -0.012602808885276318, -0.03992227464914322, -0.009485553950071335, -0.005980313755571842, 0.011244863271713257, 0.01473003439605236, -0.024576814845204353, 0.019492879509925842, -0.03352721780538559, -0.05402350425720215, 0.0004774551489390433, 0.005067212041467428, 0.00920459907501936, 0.029914947226643562, 0.00509731424972415, 0.0076660397462546825, -0.005789665970951319, -0.01869015209376812, 0.020830757915973663, -0.02063007652759552, 0.02430924028158188, 0.017338896170258522, -0.014395564794540405, 0.03218933939933777, -0.017405789345502853, -0.03497212380170822, 0.01314464956521988, 0.019693560898303986, -0.013438982889056206, -0.005177587270736694, -0.008361736312508583, -0.030262796208262444, -0.013505876064300537, -0.011111075058579445, 0.000831992772873491, 0.02162010595202446, 0.023185422644019127, 0.025914693251252174, -0.03119930997490883, 0.002356337383389473, -0.010756537318229675, -0.015666548162698746, -0.02116522751748562, 0.00915108434855938, 0.0005857396172359586, 0.00232289033010602, 0.026556873694062233, 0.008455387316644192, -0.010080909356474876, 0.010575924068689346, 0.00514079537242651, 0.011398718692362309, 0.002873092656955123, 0.00901060737669468, 0.01319816429167986, 0.012475710362195969, -0.009304939769208431, 0.01473003439605236, 0.020937787368893623, 0.028737615793943405, 0.0044551328755915165, 0.012415505945682526, -0.03499888256192207, 0.00844200886785984, -0.005970279686152935, 0.005481954198330641, -0.0018144968198612332, 0.00022639401140622795, -0.006441881414502859, 0.01608129031956196, -0.0042745196260511875, -0.0234262403100729, 0.026342812925577164, 0.018074728548526764, 0.009853470139205456, -0.010107667185366154, 0.0060672760009765625, 0.024282481521368027, -0.007813205942511559, 0.01770012266933918, -0.01759309321641922, 0.007498804945498705, 0.016362246125936508, -0.02532602660357952, -0.0239881481975317, 0.008401872590184212, 0.01006752997636795, 0.012669702991843224, -0.0042410725727677345, 0.20753160119056702, 0.028603827580809593, -0.036898668855428696, 0.016201701015233994, 0.026262540370225906, 0.021700378507375717, 0.03826330602169037, -0.004388239234685898, 0.02487114816904068, -0.00964609906077385, -0.00011183822061866522, 0.0049668713472783566, -8.058623643592e-05, 0.0010519063798710704, 0.002811215817928314, -0.012415505945682526, -0.023078391328454018, -0.01165960542857647, -0.01830216869711876, 0.027426494285464287, -0.0007354146800935268, -0.0063147833570837975, -0.006468639243394136, -0.015706684440374374, 0.021111711859703064, 0.011291688308119774, -0.023466376587748528, 0.006756282877177, 0.03759436681866646, 0.03577485308051109, -0.020536424592137337, -0.0015143104828894138, 0.023693814873695374, 0.0463440865278244, 0.010943840257823467, -0.002898177830502391, 0.036363519728183746, -0.018315546214580536, -0.010174560360610485, -0.0021840855479240417, -0.01042206771671772, 0.006655942182987928, -0.006231165956705809, 0.0009565826039761305, 0.011325135827064514, 0.04281209036707878, -0.004729398060590029, 0.0195731520652771, -0.008241327479481697, -0.008649379946291447, -0.03518618643283844, 0.005398336797952652, 0.010428757406771183, 0.02437613345682621, -0.02162010595202446, 0.02515210211277008, -0.011171279475092888, 0.030503613874316216, 0.0038798456080257893, 0.007779759354889393, -0.020723726600408554, 0.015746822580695152, -0.01086356770247221, -0.004110629670321941, -0.012683081440627575, -0.016683336347341537, 0.013713247142732143, 0.0038196411915123463, 0.02698499523103237, 0.006655942182987928, 0.008702894672751427, 0.003762781387194991, -0.010943840257823467, 0.011024112813174725, -0.019546395167708397, -0.033580731600522995, -0.0075456309132277966, 0.011632847599685192, -0.004629057366400957, 0.02521899715065956, 0.025513330474495888, -0.008468766696751118, 0.007371706888079643, -0.009385212324559689, -0.0011313429567962885, -0.032938551157712936, 0.023118527606129646, -0.0016414087731391191, -0.012555982917547226, -0.0004153692570980638, 0.0008612588280811906, 0.009806644171476364, -0.015840472653508186, -0.0363902747631073, 0.006756282877177, 0.02607523836195469, -0.005364889744669199, 0.03339343145489693, 0.021218741312623024, -0.0015694978646934032, -0.029299523681402206, 0.06197049841284752, -0.006990411318838596, 0.018007835373282433, -0.021887680515646935, -0.006762972101569176, 0.008047334849834442, 0.016589684411883354, -0.0035453762393444777, -0.0036657850723713636, -0.008743030950427055, 0.020228711888194084, 0.00902398582547903, -0.022770680487155914, 0.01886407658457756, 0.026583632454276085, 0.004023667424917221, -0.03681839630007744, 0.024108557030558586, -0.01494409516453743, 0.030744431540369987, -0.01713821478188038, -0.0017275346908718348, 0.013064377009868622, -0.01862325891852379, 0.00279616448096931, -0.002005144255235791, 0.011345203965902328, -0.022904468700289726, -0.037112731486558914, 0.03617621585726738, -0.013405535370111465, -0.0001419404725311324, -0.019599908962845802, -0.00808747112751007, 0.012482400052249432, 0.03895900025963783, -0.0025185549166053534, -0.022208770737051964, 0.012228203006088734, -0.0005201000021770597, 0.007478736806660891, -0.024616951122879982, 0.013211543671786785, -0.005478609353303909, -0.02275730110704899, 0.040537696331739426, -0.007833274081349373, -0.014596247114241123, -0.012361991219222546, -0.01776701770722866, 0.004585576243698597, -0.0113050676882267, 0.016830502077937126, 0.013438982889056206, -0.0016397364670410752, -0.042838845402002335, -0.01862325891852379, 0.005294651258736849, 0.008140986785292625, -0.05603032186627388, -0.005572260823100805, 0.039547666907310486, -0.00036603500484488904, -0.004047080408781767, 0.005505367182195187, -0.16900072991847992, 0.011980695649981499, -0.007853342220187187, 0.014796928502619267, 0.018382441252470016, -0.023573406040668488, 0.008415251038968563, -0.0015377233503386378, -0.003097187029197812, -0.008368426002562046, 0.018328925594687462, -0.002038591308519244, -0.02780110016465187, -0.01812824420630932, 0.019800592213869095, -0.00037857762072235346, 0.005177587270736694, 0.020576560869812965, 0.0203892569988966, 0.01273659709841013, 0.036363519728183746, -0.016937533393502235, 0.0025637082289904356, -0.029914947226643562, 5.994319508317858e-05, 0.018890835344791412, -0.02709202468395233, -0.0014532697387039661, 0.021245500072836876, -0.011592711322009563, 0.00034763917210511863, -0.01911827363073826, 0.013860413804650307, 0.010174560360610485, -0.005267893895506859, -0.005849870853126049, -0.0027058578561991453, -0.009298251010477543, -0.003956773784011602, 0.021954575553536415, 0.019439363852143288, 0.014342050068080425, 0.010268212296068668, 0.002498486777767539, 0.018141623586416245, 0.00793361570686102, 0.028068676590919495, -0.0058130789548158646, 0.0035587549209594727, -0.005672601982951164, 0.033928580582141876, -0.03604242950677872, 0.01058261375874281, -0.0012258305214345455, -0.004669193644076586, -0.004281208850443363, 0.004983594641089439, -0.003038655035197735, 0.018395820632576942, -0.016629820689558983, -0.0035453762393444777, -0.006023794878274202, 0.0035587549209594727, 0.0035119291860610247, -0.016241837292909622, 0.0037962282076478004, -0.001934905769303441, 0.012147930450737476, -0.0267441775649786, 0.01081005297601223, -0.004903322085738182, 0.025513330474495888, -0.02844328247010708, -0.008943713270127773, 0.006482018157839775, -0.0057261171750724316, -0.04107284918427467, 0.023867739364504814, 0.007204472087323666, 0.016348866745829582, 0.013331952504813671, 0.002531933831050992, -0.001936578075401485, 0.004281208850443363, -0.010943840257823467, 0.016161562874913216, 0.0017626540502533317, 0.019867485389113426, -0.003602236043661833, 0.018636638298630714, 0.014957473613321781, -0.04037715122103691, 0.003331315703690052, 0.0228910893201828, 0.022342558950185776, 0.024643709883093834, 0.038557637482881546, -0.008602553978562355, 0.006267957389354706, -0.0027995093259960413, 0.016589684411883354, -0.0018713566241785884, -0.0032644218299537897, -0.017539577558636665, 0.03441021591424942, 0.02822922170162201, 0.01858312264084816, 0.022021468728780746, 0.010161181911826134, 0.00029307886143215, -0.03285827860236168, 0.02946006879210472, 0.01471665594726801, -0.012836937792599201, -0.007886789739131927, 0.029647372663021088, 0.0005322244833223522, -0.02607523836195469, 0.012475710362195969, 0.0060338289476931095, 0.054531898349523544, 0.002533606020733714, -0.03585512563586235, -0.0192921981215477, -0.007298123557120562, -0.03288503736257553, -0.07556334137916565, -0.008234637789428234, 0.029165735468268394, 0.009084190241992474, -0.006405089981853962, 0.013572770170867443, -0.018944349139928818, 0.02525913342833519, -0.04342751204967499, 0.019412606954574585, -0.005067212041467428, -0.024121936410665512, -0.014970852993428707, -0.02946006879210472, 0.019024621695280075, -0.020188575610518456, -0.026275919750332832, 0.03604242950677872, -0.015064503997564316, 0.003980186302214861, 0.0021305703558027744, -0.016335487365722656, 0.011171279475092888, 0.023586785420775414, -0.022208770737051964, 0.009452106431126595, -0.026409707963466644, 0.0021673620212823153, 0.025606980547308922, 0.0007028039544820786, 0.0010025721276178956, -0.017967699095606804, 0.04971553757786751, -0.003391520120203495, 0.006575669161975384, 0.012368679977953434, -0.03133309632539749, -0.029647372663021088, 0.015572897158563137, -0.012515846639871597, -0.004485235083848238, -0.006582358852028847, 0.002473401604220271, -0.057635776698589325, -0.008716274052858353, -0.014127989299595356, -0.013445671647787094, 0.012776733376085758, 0.005759563762694597, -0.020536424592137337, -0.013967444188892841, -0.012582740746438503, -0.016977669671177864, -0.03994902968406677, 0.010254832915961742, -0.0025720701087266207, -0.007023858372122049, 0.004983594641089439, -0.014395564794540405, 0.002899850020185113, -1.5181777598627377e-05, -0.00036018178798258305, -0.01215462014079094, 0.043400757014751434, -0.00036979778087697923, 0.004364826250821352, -0.03111903741955757, 0.00036791639286093414, 0.015037746168673038, -0.029085462912917137, -0.0012400455307215452, -0.018716910853981972, -0.009632719680666924, 0.007398464251309633, -0.04203611984848976, -0.009084190241992474, -0.019439363852143288, -0.01058261375874281, 0.02822922170162201, 0.00033990456722676754, -0.013713247142732143, -0.017151594161987305, -0.005013696849346161, -0.022208770737051964, 0.0017726881196722388, 0.011826839298009872, -0.007652660831809044, -0.009920364245772362, 0.013873793184757233, -0.029272766783833504, 0.030904976651072502, -0.0011246534995734692, 0.021419422701001167, -0.010261522606015205, 0.017191730439662933, -0.0162552148103714, -0.004297932609915733, 0.00504379952326417, -0.0022961327340453863, 0.0077596912160515785, -0.02084413543343544, -0.008669448085129261, -0.08690854161977768, 0.009184530936181545, 0.0033262986689805984, -0.014957473613321781, 0.0033948649652302265, -0.017726881429553032, 0.00010337196727050468, -0.01028159074485302, 0.007866721600294113, 0.02275730110704899, -0.029727645218372345, 0.006585703231394291, -0.00844200886785984, -0.010629438795149326, -0.026904722675681114, 0.02687796577811241, 0.01081005297601223, -0.02063007652759552, 0.02508520893752575, -0.011338514275848866, 0.010254832915961742, -0.007525562774389982, -0.006876691710203886, 0.02780110016465187, -0.009619341231882572, 0.004756155423820019, 0.004836428444832563, -0.003133978694677353, 0.0009072484099306166, -0.0201350599527359, 0.019720319658517838, -0.0004644944565370679, -0.004776223562657833, 0.04674544930458069, -0.01589398831129074, -0.012214824557304382, -0.02194119617342949, 0.01423501968383789, -0.0007299795979633927, 0.03122606687247753, -0.029593857005238533, -0.030048735439777374, 0.02321217954158783, -0.034463733434677124, -0.019773833453655243, -0.01171312015503645, 0.0011898750672116876, -0.01406109519302845, 0.015974260866642, 0.013693179003894329, -0.006595737766474485, -0.011519127525389194, -0.033259641379117966, -0.016509411856532097, -0.011913801543414593, -0.03505240008234978, 0.023145286366343498, -0.011438854970037937, 0.0025302614085376263, -0.025379542261362076, 0.03411588445305824, 0.011900423094630241, -0.009619341231882572, 0.007318191695958376, 0.00047118382644839585, -0.0004143240221310407, -0.004358137026429176, 0.010060841217637062, 0.01549262460321188, -0.012034210376441479, -0.007070684339851141, 0.01356608048081398, 0.03146688640117645, -0.0054016816429793835, -0.002190775005146861, -0.005311375018209219, -0.000949893263168633, -1.167376740340842e-05, -0.00973306130617857, 0.026690661907196045, 0.012134552001953125, 0.008174433372914791, -0.0031941833440214396, 0.05284617468714714, 0.024951420724391937, 0.004709329921752214, -0.010796673595905304, -0.0034584139939397573, -0.005207689478993416, -0.004140731878578663, -0.02624916285276413, 0.008060713298618793, -0.009880227968096733, -0.029834674671292305, -0.019666804000735283, 0.00849552359431982, 0.016375623643398285, 0.033366672694683075, 0.006237855181097984, 0.007438600528985262, 0.001243390142917633, 0.02493804134428501, 0.013291816227138042, -0.009284871630370617, -0.038102760910987854, 0.015506003983318806, -0.018141623586416245, -0.012355301529169083, 0.011579331941902637, 0.010355174541473389, 0.00408052746206522, 0.003986875992268324, 0.006652597337961197, 0.0028914883732795715, -0.035132672637701035, 0.0041474211029708385, -0.009766507893800735, -0.020589938387274742, -0.023506512865424156, 0.0028329561464488506, -3.877755079884082e-05, 0.022837573662400246, 0.026275919750332832, -0.0037962282076478004, -0.0031941833440214396, 0.015465867705643177, -0.006645908113569021, -0.023158663883805275, -0.015813715755939484, 0.019158409908413887, -0.00978657603263855, -0.011780014261603355, 0.0004598954983521253, 0.002829611534252763, -0.03507915511727333, -0.007492115721106529, 0.010268212296068668, -0.02250310406088829, 0.00964609906077385, 0.05699359253048897, 0.02409517951309681, -0.014743413776159286, -0.009251425042748451, -0.008321600034832954, 0.005920109339058399, 0.01188704464584589, 0.01494409516453743, -0.01450259517878294, -0.03098524920642376, 0.01091708242893219, 0.01310451328754425, 0.007993820123374462, 0.0013922291109338403, -0.008856751024723053, 0.020496288314461708, -0.03596215695142746, 0.016870638355612755, -0.023974770680069923, 0.03941388055682182, 0.002391456626355648, -0.017847290262579918, -0.0034550693817436695, -0.011572643183171749, -0.01494409516453743, 0.00996050052344799, 0.0157200638204813, 0.016790365800261497, 0.01942598633468151, -0.02540629915893078, 0.00021385141008067876, -0.01921192556619644, -0.026690661907196045, -0.01632210984826088, -0.006890070624649525, -0.010007325559854507, -0.0010744831524789333, -0.016455896198749542, 0.0237071942538023, 0.029861431568861008, 0.004174178931862116, 0.01914503052830696, 0.004411652218550444, 0.0019516291795298457, 0.013539323583245277, -0.01925206184387207, 0.001888080034404993, -0.031948521733284, 0.009231356903910637], [0.02169886603951454, -0.028232725337147713, -0.0030988778453320265, -0.029577141627669334, 0.0012461051810532808, 0.02155098132789135, -0.04261797294020653, -0.024938907474279404, -0.010916654020547867, -0.010432664304971695, 0.008624425157904625, -0.006829631049185991, 0.008846254087984562, -0.005955760832875967, 0.014022253453731537, 0.0025123765226453543, 0.0036400051321834326, -0.03917626664042473, -0.022129079326987267, -0.028017619624733925, -0.03172820806503296, 0.02635054476559162, 0.0035895893815904856, 0.005686877761036158, -0.001413316815160215, -0.0013124856632202864, -0.004745787009596825, -0.033556610345840454, 0.0137937031686306, 0.012610618025064468, 0.017154742032289505, -0.002369532361626625, 0.005340690724551678, 0.005680155474692583, -0.021295541897416115, -0.007300176192075014, -0.005791069939732552, 0.015460778027772903, 0.015286004170775414, 0.019211698323488235, 0.030303126201033592, 0.008933641016483307, -0.006997682619839907, 0.005760820582509041, -0.019426804035902023, 0.010869599878787994, 0.017853837460279465, 0.011004040949046612, 0.017477402463555336, -0.01525911595672369, -0.005831402260810137, 0.01778661645948887, -0.01136703323572874, 0.005401189438998699, -0.010735157877206802, 0.01197874266654253, -0.02277439832687378, 0.005327246617525816, 0.02618921361863613, 0.0034097738098353148, -0.012610618025064468, 0.04073578864336014, -0.024885131046175957, -0.011945132166147232, -0.015191894955933094, 0.006443111225962639, -0.024065038189291954, 0.02255929261445999, -0.01863359846174717, -0.006184311583638191, 0.013208882883191109, 0.027802512049674988, -0.0018149609677493572, 0.014613796956837177, -0.016240539029240608, -0.017275739461183548, 0.03121732920408249, -0.019373027607798576, 0.011770358309149742, -0.01310132909566164, -0.014788570813834667, -0.02602788433432579, -0.014546575956046581, 0.0034753140062093735, 0.015245672315359116, 0.010083116590976715, -0.008792477659881115, -0.007575781550258398, -0.019063811749219894, 0.005579324439167976, 0.018835261464118958, 0.023056726902723312, 0.007663168478757143, 0.009585682302713394, -0.024347364902496338, 0.008395874872803688, -0.004305490758270025, 0.01602543331682682, 0.0027980648446828127, 0.004476903472095728, -0.0027778984513133764, 0.01669764146208763, -0.025382565334439278, -0.01327610295265913, -0.04103156179189682, 0.00426515843719244, 0.006056591868400574, -0.010311666876077652, 0.04221464693546295, -0.014076030813157558, -0.026753868907690048, 0.017195073887705803, 0.001228459645062685, 0.0077774436213076115, 0.015904435887932777, -0.002445155754685402, 0.020609889179468155, -0.015487667173147202, 0.007468228228390217, -0.024038149043917656, 0.02121487632393837, 0.018499158322811127, -0.0028501609340310097, -0.011057817377150059, 0.024871686473488808, 9.894058166537434e-05, -0.007501838728785515, -0.02413225919008255, 0.010136893019080162, -0.016791749745607376, 0.009202524088323116, -0.01535322517156601, 0.007468228228390217, 0.00853031687438488, -0.0001943100505741313, -0.021066991612315178, -0.009444518946111202, 0.031459324061870575, -0.03210464119911194, -0.010231002233922482, -0.008174045942723751, 0.02621610276401043, -0.010358721949160099, 0.005535630974918604, -0.008234544657170773, 0.023137390613555908, 0.012435843236744404, 0.01257700752466917, 0.05366906896233559, 0.007239677477627993, 0.014452466741204262, -0.020233454182744026, -0.004355906508862972, -0.003707225900143385, 0.0026619427371770144, -0.015057453885674477, -0.006880046334117651, 0.006984238512814045, -0.01825716346502304, -0.020959438756108284, -0.03756297007203102, 0.03600344806909561, 0.0037441973108798265, 0.011414087377488613, 0.001557841431349516, 0.0061036464758217335, 0.0049608931876719, -0.01743706874549389, -0.004718898329883814, 0.0029745192732661963, 0.0031795427203178406, 0.023029837757349014, -0.033153288066387177, 0.012402232736349106, -0.006574192084372044, -0.016616975888609886, -0.005276830866932869, -0.020099012181162834, 4.582041219691746e-05, -0.00637589069083333, 0.060283590108156204, 0.0002113253140123561, 0.01490956824272871, 0.021322431042790413, -0.011239313520491123, -0.0026787479873746634, 0.015326336957514286, 0.0069909607991576195, 0.021671978756785393, -0.014506243169307709, 0.007353953085839748, 0.014116362668573856, 0.0030887946486473083, -0.0006818707333877683, -0.6276807188987732, -0.020072123035788536, -0.004281963221728802, -0.03127110376954079, 0.01223418116569519, 0.003419857006520033, 0.013592041097581387, -0.006214560940861702, -0.0224248506128788, -0.002445155754685402, -0.010876321233808994, -0.008254711516201496, -0.005374301224946976, 0.00030060290009714663, -0.017100965604186058, -0.02687486633658409, -0.002082163468003273, -0.0031408907379955053, 0.03702520206570625, 0.0021829947363585234, -0.03479347378015518, 0.004554207436740398, 0.013901256024837494, -0.02341971918940544, 0.015366669744253159, 0.0076900566928088665, -0.00486678397282958, 0.010224279947578907, -0.020663665607571602, 0.012287957593798637, -0.009673069231212139, 0.01812272146344185, -0.006043147761374712, -0.0009184038499370217, 0.04710831865668297, -0.009000862017273903, -0.007031293120235205, 0.04382794722914696, -0.0007658966933377087, 0.019964570179581642, -0.04070890322327614, -0.0035089245066046715, 0.014371802099049091, 0.014775126241147518, -0.009464684873819351, 0.009975562803447247, 0.008691646158695221, -0.030383789911866188, -0.019722575321793556, -0.00011028408334823325, 0.015985099598765373, -0.0361647792160511, -0.019346138462424278, -0.008866420015692711, 0.0061910334043204784, -0.009693236090242863, 0.008086659014225006, 0.010970430448651314, 0.010163781233131886, 0.0030686284881085157, -0.007098514121025801, 0.009464684873819351, -0.0028568829875439405, -0.05275486409664154, -0.004527319222688675, 0.017114410176873207, -0.002196438843384385, -0.00275605171918869, 0.013094606809318066, -0.0036063946317881346, 0.020260341465473175, 0.018351271748542786, 0.011205703020095825, -0.027291635051369667, 0.006295225583016872, 0.04436571151018143, 0.021174544468522072, 0.0010167142609134316, -0.0024585998617112637, 0.011777079664170742, 0.0215778686106205, -0.01862015575170517, -0.007468228228390217, -0.014156695455312729, 0.01516500674188137, 0.0075354487635195255, -0.015581775456666946, -0.02241140604019165, 0.013168550096452236, -7.04242629581131e-05, 0.011656082235276699, 0.02118798904120922, -0.01570277288556099, -0.021483760327100754, -0.0007759798318147659, 0.027641182765364647, -0.0053037190809845924, -0.00853703822940588, -0.0003421957662794739, -0.02225007675588131, -0.014923011884093285, -0.01170985959470272, 0.03167442977428436, -0.03291129320859909, 0.009256300516426563, -0.011434254236519337, 0.005098695866763592, -0.00047138569061644375, 0.04718898609280586, -0.030088018625974655, 0.0007516123005189002, -0.036971427500247955, -0.0163749810308218, 0.001436003833077848, -0.0020451920572668314, -0.02518090233206749, 0.01009656023234129, -0.0038383062928915024, -0.004547485616058111, -0.01543388981372118, -0.006816186476498842, -0.024535583332180977, 0.011689692735671997, -0.020031791180372238, -0.004994503688067198, 0.016348091885447502, -0.009121859446167946, -0.01927891932427883, -0.03670254349708557, -0.019440248608589172, -0.011535084806382656, -0.013780259527266026, 0.004994503688067198, 0.010567106306552887, 0.010634326376020908, 0.01113176066428423, 0.009713402017951012, -0.013504654169082642, -0.0011368714040145278, -0.025947218760848045, -0.008570648729801178, -0.007051459513604641, 0.011165371164679527, 0.006547303404659033, -0.005841485224664211, -0.027130305767059326, -0.016428757458925247, -0.0022535764146596193, -0.0035727841313928366, -0.014519687741994858, -0.010567106306552887, -0.009545350447297096, 0.010311666876077652, 0.021174544468522072, 0.032857514917850494, 0.00984112173318863, -0.02034100703895092, -0.02086532860994339, -0.01414325088262558, -0.04275241494178772, 0.00711868004873395, -0.008584093302488327, -0.018351271748542786, -0.004651677794754505, -0.013706316240131855, -0.01809583231806755, -0.006755687762051821, 0.024253256618976593, 0.009545350447297096, -0.030545121058821678, 0.012886222451925278, 0.002855202415958047, 0.0006852317601442337, 0.022666845470666885, 0.0006818707333877683, 0.005572602152824402, -0.00791860744357109, 0.0036063946317881346, 0.015944767743349075, 0.007038015406578779, -0.0198032408952713, 0.004013080149888992, -0.01414325088262558, -2.5457242372795008e-05, 0.021093878895044327, 0.005680155474692583, 0.04667810723185539, 0.00749511644244194, -0.01319543831050396, -0.0081874905154109, -0.04014424607157707, 0.012590451166033745, -0.005068446509540081, 0.013672705739736557, -0.013780259527266026, -0.0019409998785704374, -0.017517734318971634, 0.011313256807625294, -0.008382430300116539, 0.006930462084710598, 0.004295407794415951, 0.016603531315922737, -0.004638233687728643, 0.017853837460279465, -0.008254711516201496, -0.02083844132721424, 0.013423988595604897, -0.009330243803560734, -0.008832809515297413, -0.006917017977684736, 0.023755822330713272, -0.006231365725398064, -0.020730886608362198, -0.021940860897302628, 0.03414815291762352, 0.0018687376286834478, 0.006412861868739128, 0.01396847702562809, -0.005922150332480669, -0.00672543840482831, 0.01490956824272871, -0.013753370381891727, 0.004342461936175823, -0.01525911595672369, 0.006678384263068438, 0.013013942167162895, 0.011098150163888931, 0.006742243655025959, -0.0027980648446828127, -0.03495480492711067, -0.008590815588831902, 0.03947203978896141, 0.01207957323640585, -0.002191397361457348, 0.023339053615927696, 0.033852383494377136, 0.01223418116569519, -0.03651432693004608, 0.015958212316036224, 0.010728435590863228, -1.5951805835356936e-05, 0.014318025670945644, 0.022626513615250587, -0.011077984236180782, 0.03170131891965866, 0.0024065037723630667, 0.019252030178904533, 0.01302066445350647, -0.011440976522862911, -0.004436571151018143, -0.003253485541790724, -0.003436662256717682, -0.01997801475226879, -0.021443426609039307, 0.017490845173597336, -0.010997318662703037, 0.02136276289820671, 0.015931323170661926, 0.023244943469762802, 0.023823043331503868, 0.015554887242615223, 0.010042783804237843, 0.005229776259511709, 0.00048819088260643184, 0.009484851732850075, -0.017356405034661293, 0.017705952748656273, -0.013141661882400513, 0.019937682896852493, -0.03296506777405739, 0.010358721949160099, -0.010244445875287056, 0.023070169612765312, -0.0008184129255823791, 0.009357132017612457, 0.008059770800173283, -0.009599126875400543, 0.01259717345237732, -0.007421173620969057, 0.01232829038053751, -0.011279646307229996, -0.017894171178340912, 0.024575915187597275, 0.004685288295149803, 0.01847226917743683, -0.017880726605653763, -0.01052005123347044, 0.0006297746440395713, -0.011333422735333443, 0.03428259491920471, -0.004056773614138365, -9.468676580581814e-05, -0.02395748533308506, 0.03479347378015518, 0.01879492960870266, 0.00034324609441682696, -0.0021493842359632254, -0.007105235941708088, -0.009794066660106182, -0.012919832952320576, 0.009484851732850075, -0.003184584202244878, 0.008409319445490837, -0.012442565523087978, 0.03936448693275452, -0.008873142302036285, -0.017531178891658783, -0.013296269811689854, -0.003097197273746133, -0.018660487607121468, 0.012388789094984531, -0.02882426790893078, 0.014264248311519623, -0.01585065945982933, -0.006184311583638191, 0.01025116816163063, -0.005643184296786785, -0.011924965307116508, 0.00793877337127924, 0.013074440881609917, -0.0015981739852577448, -0.00999572966247797, -0.017356405034661293, 0.029200704768300056, 0.09916409105062485, 0.013074440881609917, -0.027452964335680008, 0.023917151615023613, -0.018687374889850616, -0.01638842560350895, -0.038020070642232895, -0.014654128812253475, 0.020744331181049347, -0.0137937031686306, 0.008073215372860432, 0.0008011876489035785, 0.017867282032966614, -0.024750689044594765, 0.009814233519136906, 0.021255210041999817, 0.023218056187033653, 0.0004722259473055601, -0.012146794237196445, 0.010856155306100845, 0.011266201734542847, -0.025463229045271873, 0.002554389415308833, -0.0008234545239247382, 0.033556610345840454, -0.00377108552493155, 0.043343957513570786, 0.01778661645948887, 0.00801271665841341, -0.03382549434900284, 0.0037341141141951084, 0.02187363989651203, -0.012644227594137192, -0.004050051793456078, -0.01841849274933338, 0.03242730349302292, -0.001724212896078825, 0.012133349664509296, -0.013766814954578876, -0.005757459439337254, -0.005034836009144783, 0.021671978756785393, 0.020273786038160324, -0.010029340162873268, -0.004947449080646038, 0.013336601667106152, -0.008826088160276413, 0.040950898081064224, -0.026162326335906982, -0.004577734973281622, 0.010755323804914951, 0.0035828673280775547, -0.021819863468408585, 0.005135667510330677, 0.0012091336539015174, 0.02379615418612957, 0.01224762573838234, 0.012012352235615253, -0.010062949731945992, -0.04259108379483223, -0.026458097621798515, -0.037320975214242935, -0.01344415545463562, -0.02882426790893078, 0.015743106603622437, -0.020905660465359688, -0.008053048513829708, -0.0020031791646033525, -0.018862150609493256, -0.00949829537421465, -0.007864831015467644, -0.012738336808979511, -0.01794794760644436, 0.021604757755994797, 0.04745786637067795, -0.0012217375915497541, -0.0025762361474335194, 0.025826221331954002, -0.009686513803899288, 0.055228590965270996, 0.008731978945434093, -0.019399916753172874, 0.00016290534404106438, -0.019346138462424278, 0.0076026697643101215, -0.029254481196403503, -0.03240041434764862, 0.002058636164292693, -0.027036195620894432, 0.007522004656493664, -0.01929236203432083, -0.006651495583355427, -0.004668483044952154, 0.020435115322470665, 0.01741018146276474, 0.030894668772816658, 0.008563926443457603, -0.007401007227599621, 0.024871686473488808, -0.0038383062928915024, -0.009538628160953522, -0.0275874063372612, 0.0009074804838746786, -0.019588133320212364, 0.008516872301697731, 0.0215375367552042, -0.0044836257584393024, -0.002658581594005227, -0.0006297746440395713, -0.0002539684937801212, 0.0361916646361351, -0.006372529547661543, 0.0018233635928481817, -0.00265354011207819, -0.024454917758703232, 0.019090700894594193, 0.018203387036919594, -0.0036534492392092943, 0.01742362603545189, 0.01535322517156601, 0.022639958187937737, -0.03417504206299782, 0.00922941230237484, 0.001361220725812018, -0.005703683011233807, 0.009027750231325626, 0.01173002552241087, -0.007401007227599621, 0.00200822064653039, 0.00853031687438488, -0.003976108971983194, -0.01622709445655346, -0.018929369747638702, 0.008792477659881115, -0.013860924169421196, -0.023661714047193527, 0.006059953011572361, 0.018835261464118958, -0.00469201011583209, -0.030760226771235466, -0.004406321793794632, 0.01622709445655346, 0.007743833586573601, -0.01794794760644436, 0.024038149043917656, -0.028232725337147713, -0.009605849161744118, -0.0076698907651007175, -0.019359583035111427, 0.0012150155380368233, -0.014842347241938114, 0.005051641259342432, -0.007649724371731281, -0.006658217869699001, 0.012442565523087978, -0.024952352046966553, -0.005256664473563433, -0.022801287472248077, 0.03632610663771629, 0.014102919027209282, 0.03033001348376274, -0.016469089314341545, 0.006184311583638191, 0.008254711516201496, 0.006140617653727531, -0.008046327158808708, -0.01482890360057354, 0.0010578869841992855, -0.0005079369875602424, 0.015138118527829647, 0.027668071910738945, 0.0077236671932041645, 0.009068083018064499, -0.024589359760284424, -0.016092654317617416, 0.009363854303956032, -0.018673932179808617, -0.0284747201949358, -0.01318199373781681, -0.018673932179808617, -0.029039375483989716, -0.011945132166147232, 0.0012351818149909377, 0.0258531104773283, -0.021671978756785393, 0.025584226474165916, 0.04592523351311684, 0.023675156757235527, 0.01585065945982933, 0.00607675826177001, 0.0037173088639974594, -0.00845637358725071, 0.006268337368965149, 0.01283244602382183, 0.011172092519700527, -0.010620882734656334, -0.003875277703627944, -0.04436571151018143, -0.01825716346502304, 0.012933277525007725, 0.007427895907312632, 0.0061910334043204784, 0.03194331377744675, -0.007394285406917334, -0.04347839951515198, 0.013739926740527153, -0.029254481196403503, -0.019883904606103897, 0.019265474751591682, 0.0146406851708889, 0.0007507720147259533, -0.019924238324165344, -0.012368623167276382, -0.014479354955255985, 0.0129467211663723, 0.006039786618202925, 0.013423988595604897, 0.012133349664509296, -0.037320975214242935, -0.008584093302488327, 0.036460548639297485, -0.021940860897302628, 0.023661714047193527, 0.03159376606345177, 0.02220974490046501, 0.024885131046175957, 0.0076564461924135685, -0.012866056524217129, -0.033018846064805984, 0.004029885400086641, 0.0009259661892428994, 0.01148130837827921, 0.02930825762450695, -0.006705272477120161, -0.005367578938603401, 0.015568331815302372, -0.019399916753172874, -0.00732034258544445, -0.01948058046400547, 0.005142389331012964, -0.0069573502987623215, 0.012691282667219639, -0.03223908320069313, -0.025557339191436768, 0.005071807652711868, 0.03944515064358711, 0.005055002402514219, 0.011373755522072315, 0.010392331518232822, -0.004886950366199017, -0.005515464581549168, 0.01102420687675476, -0.02515401504933834, 0.03084089234471321, 0.019789796322584152, -0.008852976374328136, 0.0172622948884964, -0.00749511644244194, 0.006883407477289438, 0.006486804690212011, -0.02825961448252201, 0.0006869123317301273, 0.013518097810447216, -0.004288685508072376, 0.021483760327100754, 0.02620265819132328, -0.01103765144944191, 0.016455646604299545, -0.01223418116569519, 0.034363262355327606, -0.007300176192075014, -0.01864704303443432, 0.008496706373989582, 0.00037643633550032973, 0.00811354722827673, -0.01207957323640585, -0.005115501116961241, 0.006281781475991011, -0.01258372887969017, -0.02467002533376217, -0.00036425256985239685, 0.011447697877883911, -0.01441213395446539, -0.006513693369925022, 0.019359583035111427, -0.01490956824272871, 0.007676612585783005, -0.0015763272531330585, 0.006285142619162798, -0.028528496623039246, -0.008348820731043816, 0.005888539832085371, -0.012603895738720894, -0.0035559791140258312, 0.01318199373781681, 0.01859326660633087, -0.018028611317276955, 0.02000490203499794, 0.022290408611297607, 0.0028182310052216053, 0.011958575807511806, 0.0004381954204291105, -0.0292813703417778, 0.018956258893013, -0.0005268428358249366, -0.0041912151500582695, 0.02532878890633583, -0.0033643997740000486, -0.003009810345247388, 0.009256300516426563, 0.008920197375118732, -0.008174045942723751, -0.00879919994622469, -0.015783438459038734, 0.008980696089565754, 0.015030565671622753, -0.007616113871335983, -0.015635551884770393, -0.012173682451248169, 0.029093151912093163, -0.005364217795431614, -0.01337021216750145, 0.009753734804689884, -0.032158419489860535, 0.008328653872013092, 0.014223916456103325, -0.00013465162192005664, 0.008167324587702751, -0.030760226771235466, -0.018929369747638702, -0.015447334386408329, 0.024965796619653702, 0.012355178594589233, -0.013632372952997684, -0.02432047761976719, 0.003992914222180843, -0.013820591382682323, 0.006624607369303703, 0.0003209792193956673, 0.016348091885447502, -0.005142389331012964, 0.019709130749106407, 0.020945994183421135, 2.0087459233764093e-06, -0.02015278860926628, -0.011501474305987358, -0.024266699329018593, -0.00982767716050148, -0.05331952124834061, -0.01706063374876976, -0.00456429086625576, 0.027668071910738945, 0.008308487944304943, -0.026108549907803535, 0.004113911651074886, -0.03412126749753952, -0.06609147042036057, 8.098002581391484e-05, 0.011877911165356636, 0.005717127118259668, 0.028904933482408524, 0.014667573384940624, 0.009034472517669201, -0.005444882903248072, -0.01933269575238228, 0.013686150312423706, -0.023150835186243057, 0.021792976185679436, 0.021470315754413605, -0.007522004656493664, 0.03847717121243477, -0.014022253453731537, -0.03694453835487366, -0.0025342232547700405, 0.008832809515297413, -0.003730752971023321, -0.015460778027772903, -0.011508196592330933, -0.0361647792160511, -0.015783438459038734, -0.010432664304971695, -0.0019174726912751794, 0.0030820725951343775, 0.0328037403523922, 0.025422897189855576, -0.024750689044594765, -0.005071807652711868, 0.004587817937135696, -0.01841849274933338, -0.023513827472925186, -5.280506957205944e-05, -0.006335557904094458, 0.000628514273557812, 0.020233454182744026, 0.006090202368795872, -0.005575963295996189, 0.0030467817559838295, 0.014049142599105835, 0.010795656591653824, -0.0038080569356679916, 0.00538438418880105, 0.0258799996227026, 0.003656810149550438, -0.012812280096113682, 0.012375344522297382, 0.013356768526136875, 0.02140309475362301, 0.00776399951428175, 0.00853031687438488, -0.020663665607571602, -0.009014305658638477, -0.009881454519927502, 0.011178814806044102, 0.0003844188177026808, -0.004113911651074886, 0.0010368804214522243, 0.005471771117299795, -0.014116362668573856, -0.019440248608589172, 0.023070169612765312, 0.015810325741767883, 0.008140436373651028, -0.0035257297568023205, 0.002969477791339159, 0.02842094376683235, -0.0002611106901895255, 0.019386472180485725, -0.005071807652711868, -0.012624061666429043, 0.018754595890641212, -0.029039375483989716, -0.019063811749219894, 0.0033358309883624315, 0.017974834889173508, 0.0010814142879098654, 0.019588133320212364, 0.2224200963973999, 0.023823043331503868, -0.03288440406322479, 0.018862150609493256, 0.037858739495277405, 0.03430948406457901, 0.04530680179595947, 0.009162191301584244, 0.02571866847574711, -0.012301402166485786, 0.00010020096669904888, 0.0049743372946977615, 0.007327064406126738, -0.00037244512350298464, 0.003142571309581399, -0.026310211047530174, -0.01790761388838291, -0.019426804035902023, -0.01300721988081932, 0.03718653321266174, 0.013161827810108662, -0.010916654020547867, -0.005206249188631773, -0.004244992043823004, 0.022855063900351524, 0.016079209744930267, -0.02602788433432579, 0.009686513803899288, 0.027493298053741455, 0.03898805007338524, -0.027614295482635498, -0.002848480362445116, -0.0015889310743659735, 0.047995634377002716, 0.0050415582954883575, -0.0086311474442482, 0.020583001896739006, -0.013995365239679813, -0.02467002533376217, 0.0032837348990142345, -0.0022855063434690237, 0.012382066808640957, -0.013860924169421196, -0.0033660803455859423, 0.0016233817441388965, 0.033153288066387177, 0.0035324518103152514, 0.024710357189178467, -0.014170140027999878, -0.004349184222519398, -0.023191167041659355, 0.0026333739515393972, 0.023903707042336464, 0.03127110376954079, -0.0232987217605114, 0.014586908742785454, -0.005629740189760923, 0.01914447732269764, -0.011279646307229996, 0.01739673689007759, -0.030545121058821678, 0.01997801475226879, -0.007649724371731281, -0.007306898478418589, -0.017719397321343422, -0.026592539623379707, 0.005256664473563433, 0.0020972881466150284, 0.019399916753172874, 0.011777079664170742, 0.00448698690161109, -0.011272924020886421, -0.017679063603281975, -0.001602375297807157, -0.019023479893803596, -0.03293817862868309, 0.0035727841313928366, 0.006305309012532234, -0.002618249272927642, 0.03412126749753952, 0.025261567905545235, 0.014156695455312729, 0.0039055270608514547, -0.008342098444700241, 0.0041912151500582695, -0.039230044931173325, 0.02756051905453205, -0.01257700752466917, -0.010116727091372013, -0.022276965901255608, -0.004127355758100748, 0.007407729513943195, -0.01259717345237732, -0.033180173486471176, 0.013457599096000195, 0.025127125903964043, -0.016979968175292015, 0.026458097621798515, 0.004365989472717047, -0.005992732010781765, -0.029523365199565887, 0.05313130095601082, -0.004402960650622845, 0.011440976522862911, -0.02274751104414463, 0.0062078386545181274, 0.009619292803108692, 0.02312394604086876, 0.008597536943852901, 0.009989007376134396, -0.0060330647975206375, 0.01311477366834879, 0.0035190077032893896, -0.016926191747188568, 0.008745422586798668, 0.03557323291897774, 0.009249579161405563, -0.046812549233436584, 0.027022751048207283, -0.01927891932427883, 0.029953578487038612, -0.022196300327777863, 0.012106461450457573, 0.009108414873480797, -0.02308361418545246, 0.0027476493269205093, 0.006100285332649946, 0.012066129595041275, -0.015070897527039051, -0.03170131891965866, 0.03049134463071823, -0.021618202328681946, 4.8630030505592003e-05, -0.019359583035111427, -0.008826088160276413, 0.009612570516765118, 0.027721848338842392, -0.005744015332311392, -0.018337827175855637, 0.015501110814511776, -0.00965290330350399, 0.0015502790920436382, -0.014761682599782944, 0.013168550096452236, -0.009363854303956032, -0.01605232059955597, 0.03705209121108055, -0.004305490758270025, 0.0004818889428861439, -0.01130653452128172, -0.017100965604186058, 0.006708633620291948, -0.007629557978361845, 0.014129807241261005, 0.014882680028676987, 0.00595239968970418, -0.043720394372940063, -0.025745557621121407, 0.007481672335416079, -0.004607984330505133, -0.053346406668424606, -0.010600716806948185, 0.039714034646749496, 0.009041194804012775, -0.020233454182744026, -0.004365989472717047, -0.1704718917608261, 0.018189942464232445, 0.00011049414752051234, -0.00018370177713222802, 0.028205838054418564, -0.02480446547269821, -0.0010015895823016763, 0.006530498154461384, 0.0030081297736614943, 0.0044298493303358555, 0.016858970746397972, 0.010641048662364483, -0.020744331181049347, -0.021255210041999817, 0.024522138759493828, -0.01111831609159708, 0.009370576590299606, 0.015904435887932777, 0.025127125903964043, 0.014976789243519306, 0.01708752103149891, -0.014439023099839687, -0.0043458230793476105, -0.02118798904120922, 0.009021027944982052, 0.01966879889369011, -0.013235771097242832, 0.003898805007338524, 0.020892217755317688, -0.016791749745607376, 0.00012225778482388705, -0.013087885454297066, 0.013208882883191109, -0.0023947402369230986, -0.0033778438810259104, -0.01225434709340334, -0.006890129763633013, -0.000986464903689921, -0.007098514121025801, 0.023876819759607315, 0.007199345156550407, 0.0024300310760736465, 0.018001724034547806, 0.003902166150510311, 0.003171140095219016, 0.015729662030935287, 0.03379860520362854, -0.007434617727994919, -0.004033246543258429, -0.018042055889964104, 0.03049134463071823, -0.0396602563560009, 0.022545848041772842, 0.004097106400877237, 0.0053877453319728374, 0.006873324513435364, 0.010714991949498653, 0.011514918878674507, 0.02273406647145748, -0.016321204602718353, -0.006214560940861702, -0.012093017809092999, 0.01456002052873373, 0.014344913884997368, -0.008315210230648518, -0.0009696597116999328, 0.0037441973108798265, 0.012301402166485786, -0.025799334049224854, 0.016832081601023674, -0.013229048810899258, 0.018015168607234955, -0.0172219630330801, -0.00443993229418993, -0.004671843722462654, -0.0052667479030787945, -0.022868508473038673, 0.014976789243519306, 0.0027812595944851637, 0.016469089314341545, 0.006846435833722353, -0.004883589223027229, 0.008295043371617794, -0.0053373295813798904, -0.012523230165243149, -0.003201389452442527, 0.0010982194216921926, 0.019547801464796066, -0.010042783804237843, 0.013746649026870728, 0.006910295691341162, -0.027103416621685028, 0.013652539812028408, 0.01862015575170517, 0.025651447474956512, 0.02583966590464115, 0.038719166070222855, -0.0009301675017923117, -0.010936819948256016, -0.004281963221728802, 0.0172219630330801, -0.006513693369925022, 0.00017162304720841348, 0.0052835531532764435, 0.031055998057127, 0.028340280055999756, 0.012435843236744404, 0.028340280055999756, 0.01283244602382183, 0.005246581509709358, -0.03167442977428436, 0.029765360057353973, 0.021295541897416115, -0.0011662804754450917, -0.020287230610847473, 0.012691282667219639, -0.0019863739144057035, -0.03172820806503296, -0.0008356382604688406, 0.005696960724890232, 0.055282365530729294, -0.0007020369521342218, -0.02450869418680668, -0.012792113237082958, -0.007522004656493664, -0.0396871455013752, -0.06990960985422134, -0.03487413749098778, 0.029523365199565887, 0.005636462010443211, -0.011817412450909615, 0.02122832089662552, -0.012745059095323086, 0.027372300624847412, -0.05409928038716316, 0.025046460330486298, 0.0051457504741847515, -0.021429983898997307, -0.026135437190532684, -0.02138965018093586, 0.014761682599782944, 0.00845637358725071, -0.015286004170775414, 0.01741018146276474, -0.0224248506128788, -0.0015124675119295716, 0.004631511401385069, -0.025933776050806046, 0.009686513803899288, 0.005491937510669231, -0.021967750042676926, 0.007380841299891472, -0.009363854303956032, -0.006513693369925022, 0.03361038863658905, 0.007353953085839748, 0.009888175874948502, -0.013457599096000195, 0.044043052941560745, 0.001816641422919929, -0.00024682629737071693, 0.008489984087646008, -0.024710357189178467, -0.02328527718782425, 0.01965535432100296, -0.03183576092123985, -0.007730389013886452, -0.01622709445655346, 0.011145204305648804, -0.041139114648103714, -0.014304581098258495, -0.016509423032402992, -0.02070399932563305, 0.011340145021677017, 0.02346005104482174, -0.02376926690340042, -0.027036195620894432, -0.010829267092049122, -0.012240903452038765, -0.03584211692214012, 0.008046327158808708, -0.01603887788951397, -0.008577371016144753, 0.0008423603721894324, -0.011488030664622784, -0.008308487944304943, -0.0021308986470103264, 0.009081526659429073, 0.0040870229713618755, 0.025059904903173447, 0.005044919438660145, 0.006238088011741638, -0.016966523602604866, -0.010567106306552887, 0.025772444903850555, -0.030383789911866188, -0.0033425530418753624, -0.008819365873932838, -0.005122222937643528, 0.018660487607121468, -0.026121992617845535, -0.0024955712724477053, -0.028743604198098183, -0.004073578864336014, 0.019924238324165344, 0.002613207558169961, -0.023486938327550888, -0.019359583035111427, 0.00513230636715889, -0.00955879408866167, 0.013417267240583897, 0.002584638772532344, -0.016267428174614906, -0.009276467375457287, 0.0129399998113513, -0.023728933185338974, 0.024024704471230507, -0.017329515889286995, 0.01792105846107006, -0.009552071802318096, 0.011642638593912125, -0.022169411182403564, 0.00396938668563962, 0.0038954438641667366, -0.0284747201949358, -0.0026484986301511526, -0.022196300327777863, -0.020650222897529602, -0.0878710001707077, 0.020287230610847473, -0.012523230165243149, -0.008550482802093029, 0.0002705636143218726, -0.019695688039064407, -0.00034282595152035356, 4.24593745265156e-05, 0.01119225937873125, 0.004809646401554346, -0.03654121235013008, -0.01914447732269764, -0.030383789911866188, -0.01968224346637726, -0.023849930614233017, 0.022276965901255608, 0.007206066977232695, -0.014304581098258495, 0.030598897486925125, -0.010970430448651314, 0.008731978945434093, -0.02120143361389637, -0.006187672261148691, 0.02102665789425373, -0.008765589445829391, -0.010210836306214333, -0.00011490551696624607, -0.010284778662025928, -0.008987417444586754, -0.014089474454522133, 0.02480446547269821, -0.0007327064522542059, -0.003458508988842368, 0.04724276065826416, -0.01622709445655346, -0.011400643736124039, -0.003754280274733901, 0.009706679731607437, 0.000631455157417804, 0.020448559895157814, -0.027721848338842392, -0.048506513237953186, 0.013074440881609917, -0.020475449040532112, -0.030545121058821678, -0.002969477791339159, 0.0015015440294519067, -0.021066991612315178, 0.011326700448989868, 0.01396847702562809, 0.0006839713896624744, 0.0010822544572874904, -0.03070645034313202, -0.024280143901705742, -0.020031791180372238, -0.0361647792160511, 0.009007584303617477, 0.0007432096754200757, -0.008543760515749454, -0.024952352046966553, 0.040762677788734436, 0.004554207436740398, -0.014250804670155048, 0.007293454371392727, 0.016267428174614906, 0.0008238746086135507, -0.017477402463555336, 0.014788570813834667, 0.005572602152824402, -0.0009478129213675857, -0.012025796808302402, 0.002261979039758444, 0.023164279758930206, -0.011501474305987358, -0.002819911576807499, -0.012859334237873554, -0.008913475088775158, 0.010056228376924992, -0.00920924637466669, 0.032830625772476196, 0.006318753119558096, 0.0060532307252287865, -0.013437433168292046, 0.046651218086481094, 0.01587754674255848, 0.012718170881271362, -0.023339053615927696, -0.004917199723422527, -0.018136166036128998, 0.008852976374328136, -0.021954305469989777, 0.012550119310617447, -0.02052922546863556, -0.03487413749098778, -0.020125899463891983, 0.02257273718714714, 0.011770358309149742, 0.03323395177721977, -0.013087885454297066, 0.019265474751591682, -0.007595947477966547, 0.022357629612088203, 0.0181092768907547, -0.010150337591767311, -0.038880497217178345, -0.014667573384940624, -0.025651447474956512, -0.004513875115662813, 0.00676913233473897, 0.006059953011572361, 0.0133500462397933, 0.001158718136139214, 0.01825716346502304, 0.001113344100303948, -0.04807629808783531, -0.003996274899691343, -0.014008809812366962, -0.020932549610733986, -0.018216829746961594, -0.0006213720189407468, 0.011689692735671997, 0.0026854700408875942, 0.03172820806503296, -0.004944087937474251, -0.008967251516878605, 0.02121487632393837, 0.0026686647906899452, -0.03882671892642975, -0.0026333739515393972, 0.000807489559520036, -0.015810325741767883, -0.004211381543427706, -0.0018771401373669505, -0.003038379130885005, -0.038719166070222855, -0.005915428511798382, 0.0038551115430891514, -0.02397092804312706, 0.004591179080307484, 0.058347634971141815, 0.02500612847507, -0.016926191747188568, -0.001840168726630509, 0.0053877453319728374, 0.02207530289888382, 0.013188716024160385, 0.00260648550465703, -0.015568331815302372, -0.03551945835351944, 0.015138118527829647, -0.003858472453430295, 0.0066985501907765865, 0.007770721800625324, -0.0037341141141951084, 0.029523365199565887, -0.010748602449893951, 0.02187363989651203, -0.03240041434764862, 0.03775118663907051, 0.0028921738266944885, -0.01000245101749897, -0.004970976151525974, -0.006873324513435364, -0.014627240598201752, 0.004063495900481939, 0.015070897527039051, 0.028394056484103203, 0.02828650176525116, -0.029388923197984695, -0.0005251623224467039, -0.021255210041999817, -0.020892217755317688, -0.013060996308922768, -0.01086287759244442, -0.007703500799834728, -0.008658035658299923, 0.0029476310592144728, 0.01636153645813465, 0.018687374889850616, 0.005918789189308882, 0.009720124304294586, -0.025611115619540215, 0.011232591234147549, 0.023204611614346504, -0.0051121399737894535, -0.006406140048056841, -0.024065038189291954, 0.008987417444586754], [0.006920458748936653, -0.029014261439442635, 0.021468376740813255, -0.019170621410012245, 0.006546563468873501, 0.028932683169841766, -0.028361644595861435, -0.028361644595861435, -0.00811692327260971, -0.012175383977591991, 0.008599587716162205, -0.000898198049981147, 0.006346019916236401, -0.006111485417932272, 0.022610457614064217, -0.004401765298098326, 0.0025934723671525717, -0.036220237612724304, -0.01627463474869728, -0.03148876503109932, -0.01808292791247368, 0.021155664697289467, 0.008728750981390476, 0.00039195254794321954, -0.005169949494302273, -0.012889184057712555, -0.00808293279260397, -0.023031938821077347, 0.007185584399849176, 0.006845679599791765, 0.019755257293581963, 0.021087683737277985, 0.014534322544932365, 0.003249488305300474, -0.010795371606945992, -0.0008527357713319361, 0.0020989112090319395, -0.002658054232597351, 0.002114206785336137, 0.0007316447445191443, -0.0034364359453320503, 0.011767499148845673, -0.0020734183490276337, 0.009123040363192558, -0.02588713727891445, -0.001580556621775031, 0.015472459606826305, 0.016519365832209587, 0.0039734854362905025, -0.01197144202888012, 0.0036573740653693676, 0.025180136784911156, -0.019891219213604927, 0.005469065625220537, 0.005713797174394131, 0.0007341940072365105, -0.027817796915769577, 0.00307443761266768, 0.021305223926901817, -0.019360968843102455, -0.011672325432300568, 0.02628142759203911, -0.017593463882803917, -0.0020088364835828543, -0.0025560830254107714, -0.019442545250058174, -0.03216857463121414, 0.022188974544405937, -0.01915702596306801, -0.01899387128651142, 0.02194424346089363, 0.030917726457118988, -0.0030166537035256624, -0.002595172030851245, -0.015295709483325481, -0.016492173075675964, 0.007946970872581005, -0.0229775533080101, 0.022229764610528946, -0.0006131029804237187, -0.005486060865223408, -0.007994557730853558, -0.020244721323251724, -0.003081235568970442, 0.010067976079881191, 0.02057102881371975, -0.0031696108635514975, 0.008823924697935581, -0.012780414894223213, -0.0046838861890137196, 0.013419435359537601, 0.01800134964287281, -0.00013224415306467563, 0.009313386864960194, -0.03382730856537819, 0.03902105242013931, 0.014982996508479118, 0.013664166443049908, 0.009299791418015957, -0.0029010861180722713, -0.0002923179999925196, 0.007607066072523594, -0.03581235185265541, -0.013664166443049908, -0.028715144842863083, -0.012236567214131355, 0.008300471119582653, 0.0006747107254341245, 0.04160432890057564, -0.018259678035974503, -0.016220249235630035, 0.017511887475848198, -0.0078517971560359, -0.012481298297643661, 0.017675042152404785, -0.017403118312358856, 0.044568296521902084, -0.001023962744511664, 0.0077906143851578236, -0.02164512872695923, 0.015010189265012741, 0.02320868894457817, 0.017226368188858032, -0.011753902770578861, 0.013650570996105671, 0.003732152981683612, -0.0022484692744910717, -0.0063120294362306595, 0.013874907977879047, -0.020122354850172997, 0.013473819941282272, -0.004779059439897537, 0.01838204264640808, -0.003769542556256056, -0.0006296733627095819, -0.00569680193439126, -0.002238271990790963, 0.024867424741387367, -0.02343982458114624, -0.006821886170655489, -0.0007401423645205796, 0.03227734565734863, -0.010951727628707886, -0.006832083221524954, 0.004694083239883184, 0.016247441992163658, -0.00502718985080719, 0.01669611595571041, 0.047586649656295776, 0.006080894265323877, 0.02367096021771431, -0.03306592255830765, -0.014534322544932365, -0.02038068324327469, 0.00654996233060956, -0.0017335136653855443, 0.008314067497849464, 0.025914330035448074, -0.014806246384978294, -0.011264439672231674, -0.02443234622478485, 0.010720592923462391, 0.002625763416290283, -8.184266334865242e-05, 0.016451384872198105, 0.009259002283215523, -0.005268522072583437, -0.030129147693514824, -0.0073827290907502174, -0.0011072393972426653, 0.005200541112571955, 0.019809642806649208, -0.032494883984327316, 0.019469738006591797, -0.0029503724072128534, 0.0026342610362917185, 0.003694763407111168, -0.011944249272346497, -0.014371168799698353, -0.012970761395990849, 0.052753202617168427, -0.003409243654459715, 0.004581914748996496, 0.001312031876295805, -0.014316783286631107, 0.007015631999820471, 0.02750508487224579, 0.020734183490276337, 0.017104001715779305, -0.0016485375817865133, 0.009503734298050404, 0.0006407202454283834, -0.008647174574434757, -4.846296724281274e-05, -0.6212912797927856, -0.030863340944051743, 0.01566280610859394, -0.03543166071176529, 0.0014343976508826017, 0.009061858057975769, 0.017906175926327705, -0.002802513772621751, -0.010503053665161133, -0.009544522501528263, -0.007620661985129118, -0.0019136631162837148, -0.011271238327026367, 0.003718556836247444, -0.020978914573788643, -0.019238602370023727, -0.0059959180653095245, -0.013501012697815895, 0.026131868362426758, -0.004146836698055267, -0.03559481352567673, 0.0021430987399071455, 0.015730787068605423, -0.02314070798456669, 0.004833444021642208, 0.001974846003577113, 0.008042143657803535, -0.004384770058095455, -0.02666212059557438, 0.005050982814282179, -0.01808292791247368, 0.014765458181500435, 0.011549959890544415, -0.008184904232621193, 0.03709039464592934, -0.024309979751706123, -0.02048945240676403, 0.0307545717805624, 0.003484022570773959, 0.014275995083153248, -0.03972805663943291, -0.0008990477654151618, 0.015227728523314, 0.017593463882803917, -0.015146151185035706, 0.01789258047938347, 0.026485370472073555, -0.03273961693048477, -0.023956479504704475, 0.0022926568053662777, 0.026947639882564545, -0.03475185111165047, -0.004724674392491579, 0.00689326599240303, 0.00681848730891943, -0.0015678101917728782, 0.029014261439442635, -0.010265120305120945, 0.018409235402941704, 0.002601969987154007, -0.007328344043344259, -0.0094833392649889, -0.018871506676077843, -0.05710398033261299, -0.031162457540631294, 0.01210060529410839, -0.006951049901545048, -0.007858595810830593, -0.003390548750758171, -0.0012720931554213166, 0.01233174093067646, 0.012821203097701073, 0.016002710908651352, -0.024160422384738922, 0.006458188407123089, 0.04772261157631874, 0.02305913157761097, 0.006451390217989683, -0.004082254599779844, 0.0018269874854013324, 0.0176614448428154, -0.031815074384212494, -0.015458863228559494, -0.018205292522907257, 0.00919102132320404, -0.0021447984036058187, -0.02634940855205059, -0.01853160187602043, 0.010237927548587322, 0.001981644192710519, 0.029014261439442635, 0.027369122952222824, -0.009891225025057793, -0.04386129602789879, -0.0014641393208876252, 0.014140033163130283, -0.009177425876259804, -0.013908898457884789, -0.02209380269050598, -0.01903465948998928, -0.007369132712483406, -0.014765458181500435, 0.03176068887114525, -0.02099251002073288, 0.016709713265299797, 0.005452070385217667, 0.01397687941789627, -0.0006479432340711355, 0.04611826315522194, -0.046444572508335114, -0.011876268312335014, -0.025669598951935768, -0.029231799766421318, -0.02639019675552845, -0.0046193040907382965, -0.026743697002530098, 0.006743708159774542, -0.010040783323347569, -0.01704961620271206, -0.014493534341454506, -0.0007945271208882332, -0.02213459089398384, 0.010659409686923027, -0.023222286254167557, 0.011196458712220192, 0.0015508149517700076, -0.0014216512208804488, -0.014765458181500435, -0.031923845410346985, -0.019007468596100807, -0.006288236007094383, -0.017403118312358856, 0.018368447199463844, 0.008110124617815018, 0.003959889058023691, -0.0027345328126102686, 0.0029214804526418447, -0.006278038956224918, -0.0023368443362414837, -0.027600256726145744, -0.007974162697792053, -0.01838204264640808, 0.008572394959628582, 0.01009516790509224, -0.016981635242700577, -0.038857899606227875, -0.008110124617815018, 0.004836842883378267, -0.019388161599636078, -0.004143437836319208, -0.031923845410346985, -0.01108768954873085, -0.00262406375259161, 0.01401766762137413, 0.022651245817542076, 0.01265804935246706, -0.008280077017843723, -0.033990465104579926, -0.02769543044269085, -0.034833427518606186, 0.015431670472025871, 0.014874227344989777, -0.029041452333331108, -0.015676401555538177, -1.3483327165886294e-05, -0.0011905160499736667, 0.003647176781669259, 0.053106702864170074, 0.016437789425253868, -0.027790604159235954, -0.0018167903181165457, -0.014643091708421707, 0.015227728523314, 0.021169262006878853, -0.0015950025990605354, 0.00372535502538085, -0.024146826937794685, 0.005768181756138802, 0.027355525642633438, -0.006104687228798866, -0.007743027992546558, -0.0071244011633098125, -0.024309979751706123, -0.005054382141679525, 0.015078170225024223, 0.005465666763484478, 0.04704280197620392, 0.014180822297930717, -0.0033650558907538652, -0.014874227344989777, -0.009394964203238487, 0.0010137655772268772, -0.0028670956380665302, 0.00982324406504631, -0.007049622479826212, -0.022392917424440384, 0.0005536196986213326, 0.006373212207108736, 0.0016833777772262692, -0.005611825734376907, 0.00419442355632782, 0.0016655328217893839, 0.006142077036201954, 0.006254245527088642, 0.0013927592663094401, -0.018218889832496643, 0.0025900735054165125, -0.02474505826830864, 0.000810672587249428, -0.005040785763412714, 0.035948313772678375, -0.01869475468993187, -0.012780414894223213, -0.031815074384212494, 0.0343167744576931, 0.014316783286631107, 0.01373214740306139, -0.0010035684099420905, -0.016383403912186623, -0.0028229081071913242, 0.025152944028377533, -0.025669598951935768, 0.017294349148869514, -0.038776323199272156, -0.020054373890161514, 0.02565600350499153, 0.007532286923378706, 0.022338533774018288, 0.013568993657827377, -0.04135959595441818, 0.004731472581624985, 0.01601630635559559, 0.004109447356313467, -0.0048912279307842255, 0.028171297162771225, 0.008687962777912617, 0.010774977505207062, -0.031923845410346985, 0.009707676246762276, -0.012182182632386684, 0.000763935677241534, 0.021509166806936264, 0.022270552814006805, -0.01179469097405672, 0.03143438324332237, 0.007811008952558041, 0.021930648013949394, -0.003800133941695094, -0.014425553381443024, -0.012610462494194508, -0.012848395854234695, -0.011006112210452557, -0.006770900450646877, -0.02091093361377716, 0.015798768028616905, -0.02696123719215393, 0.005122363101691008, 0.00018089301011059433, 0.03581235185265541, 0.029041452333331108, 0.011672325432300568, 0.016641732305288315, 0.008341260254383087, 0.001985043054446578, 0.013793330639600754, -0.01865396648645401, 0.014479937963187695, -0.009252204559743404, 0.010944929905235767, -0.034643080085515976, 0.021006107330322266, 0.0003416041727177799, 0.024581903591752052, -0.007709037512540817, -0.002601969987154007, 0.007933374494314194, -0.011346017010509968, 0.0031441180035471916, 0.007627460174262524, 0.02076137624680996, -0.006696121301501989, -0.023181496188044548, 0.03026510961353779, -0.0038613167125731707, 0.010768178850412369, -0.009945609606802464, -0.023874903097748756, -0.011604344472289085, 0.003116925712674856, 0.036709703505039215, 0.0019136631162837148, 0.015567632392048836, -0.01338544487953186, 0.012977559119462967, -0.004462948068976402, -0.010027186945080757, 0.0026648524217307568, -0.012644452974200249, 0.005292315501719713, -0.007933374494314194, -0.005978922825306654, -0.0009483339381404221, 0.007722633425146341, -0.01865396648645401, 0.028524797409772873, -0.003127122763544321, -0.026634927839040756, -0.011114882305264473, 0.005112166050821543, -0.0298028402030468, 0.017688637599349022, -0.027029218152165413, 0.00783140305429697, -0.013861311599612236, 3.770817056647502e-05, 0.012787212617695332, -0.017824599519371986, -0.024337172508239746, 0.01654655858874321, 0.03282119333744049, 0.004228413570672274, -0.037362318485975266, -0.0065091741271317005, 0.018450023606419563, 0.08222973346710205, 0.020163143053650856, -0.020271912217140198, 0.029965993016958237, -0.010645813308656216, 0.0015125756617635489, -0.03320188447833061, -0.020040778443217278, 0.030618609860539436, -0.023181496188044548, -0.016913654282689095, 0.005700200796127319, 0.023575786501169205, -0.009585310705006123, 0.021019702777266502, 0.020013585686683655, 0.02025831677019596, 0.007566277403384447, -0.03456150367856026, 0.0012482998427003622, 0.008755943737924099, -0.012236567214131355, 0.011930652894079685, 0.010319504886865616, 0.04122363403439522, 0.006230452097952366, 0.03597550839185715, 0.02225695550441742, 0.0032256951089948416, -0.019510526210069656, -0.002861997112631798, 0.0291502233594656, -0.012617260217666626, 0.014874227344989777, -0.028334451839327812, 0.011203257367014885, -0.0009440851281397045, 0.02470427006483078, -0.012256961315870285, 0.011481978930532932, 3.2636158721288666e-05, 0.019782450050115585, 0.006651933770626783, -0.011264439672231674, 0.010346697643399239, 0.0010944929672405124, -0.0048470403999090195, 0.034262388944625854, -0.01888510212302208, -0.018164504319429398, 0.004445952828973532, -0.004819848109036684, -0.02033989317715168, -0.014140033163130283, -0.0015627116663381457, 0.022297745570540428, 0.020503047853708267, 0.01704961620271206, -0.013344656676054, -0.04745068773627281, -0.043045524507761, -0.016288230195641518, -0.00844323169440031, -0.017987754195928574, -0.005183545872569084, -0.03733512759208679, 0.0016570352017879486, 0.01331066619604826, -0.03513254597783089, -0.009809647686779499, 0.0032953754998743534, -0.021006107330322266, -0.017253559082746506, 0.016954444348812103, 0.03420800343155861, 0.002777020912617445, 0.01275322213768959, 0.017783811315894127, -0.019428949803113937, 0.041305214166641235, 0.003606388345360756, -0.013154310174286366, -0.007858595810830593, -0.024758653715252876, 0.01396328303962946, -0.040543824434280396, -0.021658724173903465, -0.009816446341574192, -0.01930658333003521, 0.0014768856344744563, -0.01658734679222107, -0.01723996363580227, -0.0027464295271784067, 0.02126443386077881, 0.008660770021378994, 0.012229769490659237, 0.02309991978108883, -0.013902099803090096, 0.014194417744874954, -0.011869470588862896, 0.0010231130290776491, -0.025560829788446426, -0.01302514597773552, -0.022229764610528946, 0.03771581873297691, 0.006070696748793125, 0.001126783899962902, 0.007171988021582365, 0.010673006065189838, -0.019809642806649208, 0.015907537192106247, -0.002234873129054904, 0.0017420112853869796, -0.002788917627185583, -0.02371174842119217, 0.0037593452725559473, 0.02811691164970398, -0.007192382123321295, -0.003382051130756736, 0.00714479573071003, 0.021210050210356712, -0.007933374494314194, 0.012324942275881767, -0.0015533642144873738, 0.004609107039868832, 0.02033989317715168, 0.036247432231903076, -0.003885110141709447, -0.010972121730446815, 0.02209380269050598, 0.005594830494374037, -0.0023028540890663862, -0.022569669410586357, -0.010142754763364792, -0.01972806639969349, -0.032005421817302704, 0.018667563796043396, 0.016097884625196457, -0.005999316927045584, -0.04829365387558937, 0.0014547918690368533, 0.018014946952462196, -0.002974165603518486, -0.024609096348285675, 0.00698164151981473, -0.02482663467526436, -0.004853838123381138, -0.0025509842671453953, -0.004748467821627855, 0.01378653198480606, -0.02048945240676403, 0.013555397279560566, -0.028443221002817154, -0.012739625759422779, -0.011264439672231674, -0.0314071886241436, 0.0034347365144640207, -0.022950362414121628, 0.03545885160565376, 0.02145478129386902, 0.024078845977783203, -0.010278716683387756, 0.008640375919640064, -0.0011939150281250477, 0.0043473802506923676, -0.005543844774365425, -0.022895976901054382, 0.0011845676926895976, 0.007865393534302711, 0.023303862661123276, 0.025574425235390663, 0.013201896101236343, 0.0024711068253964186, -0.020693395286798477, -0.01202582661062479, -0.005761383567005396, 0.002231474034488201, -0.016791289672255516, -0.03412642702460289, -0.04361656308174133, -0.013439829461276531, -0.010999314486980438, -0.00246090954169631, 0.020747778937220573, -0.0147246690467, 0.014615899883210659, 0.04451391100883484, 0.032494883984327316, 0.016900058835744858, 0.01604349911212921, 0.030319495126605034, 0.010693400166928768, 0.007185584399849176, 0.014357572421431541, 0.02171310968697071, -0.01462949626147747, 0.007586671505123377, -0.039619285613298416, -0.0150509774684906, 0.009959205985069275, 0.00016538485942874104, 0.010428274981677532, 0.026648525148630142, -0.00012374653306324035, -0.0333106555044651, 0.030482647940516472, -0.018681159242987633, -0.025955118238925934, 0.01593472994863987, -0.0035893931053578854, -0.004184226039797068, -0.0027277348563075066, -0.016981635242700577, -0.0153772858902812, 0.011257641948759556, -0.004850439261645079, -0.007933374494314194, 0.019021064043045044, -0.028280066326260567, -0.001057953224517405, 0.013575791381299496, -0.008891905657947063, 0.021658724173903465, 0.000618201564066112, 0.03831405192613602, 0.019510526210069656, -0.0021685915999114513, -0.011733508668839931, -0.024989789351820946, -0.005520051345229149, 0.002256966894492507, 0.026974832639098167, 0.03907543793320656, -0.01208700891584158, 0.0001766442001098767, 0.030047571286559105, -0.03404485061764717, -0.009435753338038921, -0.02999318577349186, 0.007464305963367224, 0.004245408810675144, 0.03083615005016327, -0.029748454689979553, -0.036220237612724304, -0.006342620588839054, 0.028633566573262215, -0.01528211310505867, 0.01715838722884655, 0.006726712919771671, 0.0077566239051520824, 0.008660770021378994, -0.001126783899962902, -0.03638339415192604, 0.040462248027324677, 0.03246769309043884, -0.0066417367197573185, 0.014167225919663906, 0.002651256276294589, -0.005037386901676655, -0.024609096348285675, -0.011543162167072296, 0.01589394174516201, 0.0153772858902812, -0.014602303504943848, 0.01528211310505867, 0.02647177316248417, 0.0005361996009014547, 0.02371174842119217, 0.0005982322036288679, 0.03263084590435028, -0.010203937068581581, -0.0213732048869133, 0.0002521667629480362, -0.007097208872437477, 0.005853157956153154, 0.00146498903632164, 0.0015134254936128855, -0.004568318370729685, -0.011583950370550156, -0.017756618559360504, 0.007131199352443218, 0.005941533017903566, -0.025152944028377533, -0.013568993657827377, 0.026879658922553062, -0.023725343868136406, 0.003446632996201515, 0.0022433707490563393, -0.008280077017843723, -0.013793330639600754, -0.04057101905345917, 0.002986062318086624, -0.0215227622538805, 0.009734869003295898, -0.009055059403181076, 0.019891219213604927, -0.01715838722884655, 0.0333106555044651, -0.0016850773245096207, 0.0078517971560359, -4.129310400458053e-05, 0.0030914328526705503, -0.03176068887114525, 0.032005421817302704, -0.002222976414486766, -0.011944249272346497, 0.02803533524274826, -0.015458863228559494, -0.01926579512655735, 0.002488102065399289, -0.011774296872317791, -0.0056458162143826485, 0.005397685803472996, -0.003014954272657633, 0.011651931330561638, 0.010774977505207062, -0.0056458162143826485, -0.007600267883390188, -0.004228413570672274, 0.03007476218044758, 0.005730792414397001, -0.0042895968072116375, 0.019197814166545868, -0.031543150544166565, 0.010577832348644733, -0.0026563548017293215, -0.01116246823221445, -0.007267161272466183, -0.03665531799197197, -0.022352129220962524, -0.03312030807137489, 0.016261037439107895, 0.019864028319716454, -0.004095850978046656, -0.003810330992564559, 0.0006912810495123267, -0.017743023112416267, -0.017253559082746506, -2.3209113351185806e-05, 0.0153772858902812, 0.003390548750758171, 0.006373212207108736, 0.021359607577323914, -0.006495577748864889, -0.022800803184509277, -0.009904821403324604, -0.02343982458114624, -0.03779739513993263, -0.03899386152625084, -0.00878993421792984, -0.008898703381419182, 0.020516645163297653, 0.007933374494314194, -0.03768862783908844, -0.0051971422508358955, -0.01972806639969349, -0.04399725794792175, 0.009830042719841003, -0.015200535766780376, 0.02527530863881111, 0.042692024260759354, -0.004027870018035173, 0.0075934696942567825, 0.02371174842119217, -0.017906175926327705, 0.018871506676077843, -0.024731462821364403, 0.023847710341215134, 0.005135959014296532, -0.025302501395344734, 0.03842282295227051, -0.025452060624957085, -0.03507816046476364, 0.005656013265252113, -0.0081033268943429, -0.019524123519659042, -0.0043779718689620495, -0.009571715258061886, -0.02082935720682144, -0.017253559082746506, 0.0005820866790600121, 0.012501693330705166, -0.00011206231283722445, 0.019252199679613113, 0.01654655858874321, -0.03374573215842247, -0.014140033163130283, -0.0028942881617695093, -0.01307953055948019, -0.02447313442826271, 0.009530926123261452, 0.0007337691495195031, -0.008028547279536724, 0.020734183490276337, 0.012909578159451485, 0.007709037512540817, 0.013297069817781448, 0.00582256680354476, 0.010441870428621769, 0.005849759094417095, 0.023915691301226616, 0.019755257293581963, 0.009592109359800816, -0.01471107266843319, 0.01305913645774126, 0.018137311562895775, 0.011930652894079685, -0.008048942312598228, 0.024799443781375885, -0.029177414253354073, -0.007443911861628294, -0.012236567214131355, -0.007301151752471924, -0.007341940421611071, -0.0005582933663390577, -0.004830045159906149, 0.0074167195707559586, -0.026267830282449722, -0.030237916857004166, 0.01692725159227848, 0.010985718108713627, 0.010849756188690662, -0.0009653291781432927, -0.0043337843380868435, 0.03420800343155861, -0.00309313228353858, 0.023127112537622452, 0.0016051996499300003, -0.010040783323347569, 0.010203937068581581, -0.0065329670906066895, -0.013602984137833118, 0.02063900977373123, 0.010251523926854134, 0.005921138916164637, -0.0006080044549889863, 0.20622694492340088, 0.03292996063828468, -0.037634242326021194, 0.024255596101284027, 0.02019033581018448, 0.026648525148630142, 0.03709039464592934, 0.0055574411526322365, 0.02126443386077881, 0.00435757776722312, -0.005125761963427067, -0.003305572783574462, 0.005224334541708231, -0.0011658729054033756, -0.006036706734448671, -0.020176740363240242, -0.01930658333003521, -0.004184226039797068, -0.01229775045067072, 0.02240651473402977, 0.0015499652363359928, -0.008055740036070347, -0.0038987062871456146, -0.01239292323589325, 0.014180822297930717, 0.008014951832592487, -0.017457501962780952, 0.013684561476111412, 0.0314071886241436, 0.048157691955566406, -0.025615213438868523, -0.005989119876176119, 0.002071718918159604, 0.02963968552649021, 0.011930652894079685, -0.0018677760381251574, 0.03157034516334534, -0.013065934181213379, -0.012889184057712555, 0.01242691371589899, -0.004469746258109808, 0.003810330992564559, -0.018450023606419563, -0.0012992855627089739, 0.000138511139084585, 0.028660759329795837, -0.006872871890664101, 0.028334451839327812, -0.02122364565730095, -0.0031220242381095886, -0.040081556886434555, 0.013568993657827377, 0.006587352138012648, 0.030700188130140305, -0.015757979825139046, 0.01903465948998928, -0.022297745570540428, 0.02248809114098549, 0.004140038508921862, 0.0017980955308303237, -0.029503723606467247, 0.020013585686683655, -0.000640295387711376, 0.025995906442403793, -0.019483333453536034, -0.015554036945104599, 0.003461928805336356, 0.000618201564066112, 0.03320188447833061, 0.010856554843485355, 0.0023895297199487686, 0.006563558708876371, -0.01080216933041811, -0.004524130839854479, -0.02501698210835457, -0.028198489919304848, -0.0014700875617563725, 0.002253567799925804, -0.014180822297930717, 0.027899373322725296, 0.025873541831970215, -0.0028942881617695093, -0.016369808465242386, -0.011570353992283344, 2.088554720103275e-05, -0.04209379106760025, 0.009707676246762276, -0.00874914601445198, -0.01673690415918827, -0.023494208231568336, -0.011787893250584602, 0.0015083268517628312, -0.027355525642633438, -0.020013585686683655, 0.008613184094429016, 0.027396313846111298, 0.01273282803595066, 0.024337172508239746, 0.011244045570492744, 0.00017027098510880023, -0.028008142486214638, 0.05454789847135544, 0.002153296023607254, 0.018477216362953186, -0.013766137883067131, -0.005010194610804319, -0.0019799445290118456, 0.02803533524274826, -0.007314748130738735, -0.005992518737912178, -0.0017241663299500942, -0.018327658995985985, 0.007409921381622553, -0.020557433366775513, 0.001505777589045465, 0.029367761686444283, 0.004670289810746908, -0.03684566542506218, 0.022991150617599487, -0.017552675679326057, 0.03456150367856026, -0.002788917627185583, -0.0012202577199786901, 0.015418075025081635, -0.010285514406859875, -0.013303867541253567, 0.011917056515812874, 0.010992515832185745, -0.012671644799411297, -0.02053024061024189, 0.02662133239209652, -0.023983672261238098, 0.011447988450527191, -0.01631542295217514, -0.005540445912629366, 0.010047581046819687, 0.03524131327867508, -0.008973482996225357, -0.005588032305240631, 0.010673006065189838, -0.013480618596076965, 0.009000674821436405, -0.004418760538101196, 0.015350094065070152, 0.00504758395254612, -0.023766132071614265, 0.03113526478409767, -0.004038067068904638, -0.0067301117815077305, -0.00473827077075839, -0.007430315483361483, 0.005163151770830154, -0.00555404182523489, 0.007600267883390188, 0.005486060865223408, 0.021536357700824738, -0.04236571490764618, -0.006590750999748707, 0.014792650006711483, 0.009021068923175335, -0.05802852287888527, -0.011685921810567379, 0.04951730743050575, -0.00203432934358716, -0.00539088761433959, 0.007647854741662741, -0.17261718213558197, 0.014439149759709835, -0.0008905501454137266, 0.002498299116268754, 0.007695441134274006, -0.003037048038095236, -0.003290276974439621, 0.006019711494445801, -0.018395639955997467, 0.001587354694493115, 0.023426229134202003, 0.013861311599612236, -0.025642406195402145, -0.011604344472289085, 0.016723308712244034, 0.014928611926734447, -0.0007312198868021369, 0.01911623775959015, 0.02991160936653614, 0.01112847775220871, 0.024921808391809464, -0.018368447199463844, -0.012651250697672367, -0.013902099803090096, 0.002601969987154007, 0.011828681454062462, -0.03113526478409767, 0.026594139635562897, 0.011101285926997662, -0.012154989875853062, 0.01202582661062479, -0.025492848828434944, 0.017566272988915443, -0.0014819842763245106, 0.003139019478112459, -0.0004329535295255482, 0.014969401061534882, 9.591683920007199e-05, -0.014534322544932365, 0.01777021400630474, -0.005635619163513184, 0.024418748915195465, 0.029857223853468895, 0.01200543250888586, 0.02390209399163723, 0.01574438251554966, 0.01983683556318283, -0.010829362086951733, -0.001978245098143816, -0.010387485846877098, 0.036519356071949005, -0.020353490486741066, -0.0019697474781423807, 0.0006241499213501811, -0.003728753887116909, 0.01696803979575634, 0.00459551066160202, 0.004007475916296244, 0.015091766603291035, -0.025873541831970215, 0.003149216528981924, -0.01743031106889248, 0.003223995678126812, 0.005948331207036972, -0.024799443781375885, 0.0031628126744180918, 0.0016068991972133517, 0.021889859810471535, -0.026295023038983345, 0.012617260217666626, -0.003001358127221465, 0.022732822224497795, -0.008164509199559689, -0.01076138112694025, -0.015622017905116081, -0.002635960467159748, -0.044948991388082504, 0.02420121058821678, 0.016057094559073448, 0.012943568639457226, 0.012705635279417038, 0.0025339890271425247, -0.009184223599731922, 0.002629162510856986, 0.0013766138581559062, -0.004112846218049526, 0.013215492479503155, 0.02110128104686737, -0.011481978930532932, 0.022814400494098663, -0.0012151590781286359, -0.028524797409772873, 0.01103330496698618, 0.012596866115927696, 0.03208699822425842, 0.01762065663933754, 0.031080881133675575, 0.008701559156179428, 0.01681848242878914, -0.009755263105034828, 0.009707676246762276, 0.0077770184725522995, -0.017226368188858032, -0.017552675679326057, 0.015757979825139046, 0.035567622631788254, 0.03222296014428139, 0.013922493904829025, 0.008171307854354382, -0.010489457286894321, -0.027681834995746613, 0.025859946385025978, 0.026906851679086685, -0.007341940421611071, -0.017511887475848198, 0.02183547429740429, 0.004364375490695238, -0.025112155824899673, 0.007137997541576624, -0.00535349827259779, 0.05884429067373276, -0.01137320976704359, -0.02485382743179798, -0.007899384014308453, -0.0013094826135784388, -0.03703600913286209, -0.08239288628101349, -0.026648525148630142, 0.01101291086524725, 0.023602979257702827, -0.013120319694280624, 0.019999990239739418, -0.011210055090487003, 0.041577138006687164, -0.03766143321990967, 0.02417401783168316, -0.004187625367194414, -0.014208014123141766, -0.023344650864601135, -0.00027511033113114536, 0.020394278690218925, -0.01681848242878914, -0.017974156886339188, 0.0022654645144939423, -0.01242691371589899, 0.0012168586254119873, -0.0010103665990754962, -0.00018917818670161068, 0.014615899883210659, 0.010645813308656216, -0.032195769250392914, 0.009714474901556969, -0.012365731410682201, 0.0017258658772334456, 0.03366415575146675, 0.010135956108570099, 0.018028542399406433, -0.004799453541636467, 0.039428938180208206, -0.009544522501528263, -0.00823249015957117, 0.01566280610859394, -0.027518680319190025, -0.009700878523290157, 0.012916376814246178, -0.03991840034723282, -0.0027872181963175535, -0.018055735155940056, -0.0008710056426934898, -0.0404350571334362, -0.015798768028616905, -0.0019459540490061045, -0.009000674821436405, 0.002669950947165489, 0.008456827141344547, -0.009109444916248322, -0.007749825716018677, -0.023412631824612617, -0.012012230232357979, -0.03543166071176529, 0.018205292522907257, 0.012726030312478542, 0.0035112150944769382, 0.006264442577958107, -0.017036020755767822, -0.013643772341310978, -0.003871513996273279, 0.009027867577970028, -0.017104001715779305, 0.01903465948998928, -0.008783136494457722, 0.013113521039485931, -0.020271912217140198, -0.0045751165598630905, 0.020163143053650856, -0.01815090887248516, 0.005091771483421326, -0.010924534872174263, -0.009694080799818039, 0.012270557694137096, -0.020666202530264854, -0.0018830717308446765, -0.0241332296282053, -0.028932683169841766, 0.02160433866083622, 0.00033565584453754127, -0.013555397279560566, -0.01241331733763218, -0.006631539668887854, -0.013106723316013813, 0.0027906170580536127, 0.006046903785318136, -0.007695441134274006, -0.011808287352323532, 0.027532275766134262, -0.02628142759203911, 0.0359211228787899, -0.011318824253976345, 0.017212770879268646, -0.00654996233060956, 0.014534322544932365, -0.02133241482079029, -0.006332423537969589, -0.011019708588719368, 0.0008625080226920545, 0.012290951795876026, -0.017552675679326057, -0.019564911723136902, -0.07923857122659683, 0.009408560581505299, 0.009612503461539745, 0.004360976628959179, -0.0022127791307866573, -0.01016994658857584, -0.007912980392575264, -0.02145478129386902, -0.0066417367197573185, 0.04010874778032303, -0.03899386152625084, -0.010856554843485355, -0.00508497329428792, -0.007641056552529335, -0.02803533524274826, 0.018667563796043396, 0.01608428731560707, -0.02198503166437149, 0.022569669410586357, -0.012345336377620697, 0.00652956822887063, -0.009313386864960194, -0.0035622005816549063, 0.02700202539563179, -0.02122364565730095, 0.0026869461871683598, -0.0022926568053662777, 0.0039734854362905025, 0.003461928805336356, -0.01770223304629326, 0.0176614448428154, -0.0003649726277217269, -0.006920458748936653, 0.051611121743917465, -0.022433707490563393, -0.015948325395584106, -0.021468376740813255, 0.009762061759829521, 0.008354856632649899, 0.025343289598822594, -0.02516653947532177, -0.04600949212908745, 0.020367085933685303, -0.016329018399119377, -0.01834125444293022, -0.02482663467526436, -0.017090406268835068, -0.016995232552289963, 0.01930658333003521, 0.0021312020253390074, 0.0011420795926824212, -0.0037491482216864824, -0.029231799766421318, -0.029503723606467247, -0.02033989317715168, -0.02209380269050598, 0.02647177316248417, 0.005622022785246372, 0.01819169707596302, -0.023602979257702827, 0.02653975412249565, 0.017131194472312927, 0.016437789425253868, 0.018259678035974503, 0.004483342170715332, -0.002059822203591466, -0.003718556836247444, 0.001418252126313746, 0.014602303504943848, -0.00032057258067652583, -0.01378653198480606, -0.0056900037452578545, 0.025370482355356216, 0.003997278865426779, -0.007375930901616812, -0.010808967985212803, 0.000938986602704972, 0.00506457919254899, -0.018178099766373634, 0.042991138994693756, 0.015989115461707115, -0.00039067791658453643, -0.0010494556045159698, 0.058626752346754074, 0.021767493337392807, 0.0007545883418060839, -0.019510526210069656, 0.004639698192477226, 0.006478582508862019, -0.015771575272083282, -0.025941522791981697, 0.013371848501265049, -0.005489460192620754, -0.027056409046053886, -0.023929286748170853, 0.02198503166437149, 0.007994557730853558, 0.013324262574315071, -0.016437789425253868, 0.017443906515836716, -0.006774299778044224, 0.024690672755241394, 0.01892589032649994, -0.00652956822887063, -0.03469746559858322, 0.007280757650732994, -0.018368447199463844, 0.002561181550845504, 0.010591428726911545, 0.01139360386878252, 0.0057987733744084835, -0.0050577810034155846, 0.013147511519491673, 0.005693402606993914, -0.030428264290094376, 0.0044663469307124615, -0.02057102881371975, -0.0068830689415335655, -0.03214138373732567, 0.013358253054320812, 0.01953771896660328, 0.01239292323589325, 0.03350100293755531, -0.018368447199463844, -0.005288916174322367, 0.030319495126605034, -0.0007975012995302677, -0.035295698791742325, 0.0038307253271341324, 0.007709037512540817, -0.008218894712626934, -0.008762741461396217, 0.01560842152684927, 0.012209374457597733, -0.035377275198698044, 0.0006483680917881429, 0.005040785763412714, -0.011767499148845673, 0.003840922610834241, 0.0687423124909401, 0.036709703505039215, -0.016573751345276833, -0.0056900037452578545, 0.0030506441835314035, 0.006502375937998295, 0.010768178850412369, 0.0048028528690338135, -0.009598907083272934, 0.0032970751635730267, 0.0005472464836202562, 0.026798082515597343, 0.002313051139935851, -0.001499829231761396, -0.012841597199440002, 0.018327658995985985, -0.02141399309039116, 0.017797406762838364, -0.026689313352108, 0.03083615005016327, 0.01719917543232441, -0.021386800333857536, 0.0025271910708397627, -0.005523450672626495, -0.025220924988389015, 0.010924534872174263, 0.005496257916092873, 0.0213732048869133, 0.009007473476231098, -0.03233173117041588, 0.014330379664897919, -0.0023419430945068598, -0.0005022091208957136, -0.023371843621134758, -0.0068830689415335655, 0.00888510700315237, -0.002999658463522792, -0.002234873129054904, -0.005567638203501701, 0.02286878414452076, 0.005503056105226278, 0.027219563722610474, -0.019388161599636078, 0.0015499652363359928, 0.02647177316248417, -0.028089720755815506, 0.0038953071925789118, -0.02784498780965805, 0.0071244011633098125]]\n"
          ]
        }
      ],
      "source": [
        "print (document_embeddings)"
      ]
    },
    {
      "cell_type": "code",
      "execution_count": 24,
      "metadata": {
        "colab": {
          "base_uri": "https://localhost:8080/"
        },
        "id": "5NAY0lCLla2A",
        "outputId": "2549e8d4-fba7-47b3-e6b3-4381fc27a7d6"
      },
      "outputs": [
        {
          "name": "stdout",
          "output_type": "stream",
          "text": [
            "Requirement already satisfied: scikit-learn in c:\\users\\yasir\\appdata\\local\\programs\\python\\python312\\lib\\site-packages (1.6.1)\n",
            "Requirement already satisfied: transformers in c:\\users\\yasir\\appdata\\local\\programs\\python\\python312\\lib\\site-packages (4.49.0)\n",
            "Requirement already satisfied: sentence_transformers in c:\\users\\yasir\\appdata\\local\\programs\\python\\python312\\lib\\site-packages (3.4.1)\n",
            "Requirement already satisfied: numpy>=1.19.5 in c:\\users\\yasir\\appdata\\local\\programs\\python\\python312\\lib\\site-packages (from scikit-learn) (1.26.4)\n",
            "Requirement already satisfied: scipy>=1.6.0 in c:\\users\\yasir\\appdata\\local\\programs\\python\\python312\\lib\\site-packages (from scikit-learn) (1.15.2)\n",
            "Requirement already satisfied: joblib>=1.2.0 in c:\\users\\yasir\\appdata\\local\\programs\\python\\python312\\lib\\site-packages (from scikit-learn) (1.4.2)\n",
            "Requirement already satisfied: threadpoolctl>=3.1.0 in c:\\users\\yasir\\appdata\\local\\programs\\python\\python312\\lib\\site-packages (from scikit-learn) (3.6.0)\n",
            "Requirement already satisfied: filelock in c:\\users\\yasir\\appdata\\local\\programs\\python\\python312\\lib\\site-packages (from transformers) (3.18.0)\n",
            "Requirement already satisfied: huggingface-hub<1.0,>=0.26.0 in c:\\users\\yasir\\appdata\\local\\programs\\python\\python312\\lib\\site-packages (from transformers) (0.29.3)\n",
            "Requirement already satisfied: packaging>=20.0 in c:\\users\\yasir\\appdata\\roaming\\python\\python312\\site-packages (from transformers) (24.2)\n",
            "Requirement already satisfied: pyyaml>=5.1 in c:\\users\\yasir\\appdata\\local\\programs\\python\\python312\\lib\\site-packages (from transformers) (6.0.2)\n",
            "Requirement already satisfied: regex!=2019.12.17 in c:\\users\\yasir\\appdata\\local\\programs\\python\\python312\\lib\\site-packages (from transformers) (2024.11.6)\n",
            "Requirement already satisfied: requests in c:\\users\\yasir\\appdata\\local\\programs\\python\\python312\\lib\\site-packages (from transformers) (2.32.3)\n",
            "Requirement already satisfied: tokenizers<0.22,>=0.21 in c:\\users\\yasir\\appdata\\local\\programs\\python\\python312\\lib\\site-packages (from transformers) (0.21.1)\n",
            "Requirement already satisfied: safetensors>=0.4.1 in c:\\users\\yasir\\appdata\\local\\programs\\python\\python312\\lib\\site-packages (from transformers) (0.5.3)\n",
            "Requirement already satisfied: tqdm>=4.27 in c:\\users\\yasir\\appdata\\local\\programs\\python\\python312\\lib\\site-packages (from transformers) (4.67.1)\n",
            "Requirement already satisfied: torch>=1.11.0 in c:\\users\\yasir\\appdata\\local\\programs\\python\\python312\\lib\\site-packages (from sentence_transformers) (2.6.0)\n",
            "Requirement already satisfied: Pillow in c:\\users\\yasir\\appdata\\local\\programs\\python\\python312\\lib\\site-packages (from sentence_transformers) (11.1.0)\n",
            "Requirement already satisfied: fsspec>=2023.5.0 in c:\\users\\yasir\\appdata\\local\\programs\\python\\python312\\lib\\site-packages (from huggingface-hub<1.0,>=0.26.0->transformers) (2025.3.0)\n",
            "Requirement already satisfied: typing-extensions>=3.7.4.3 in c:\\users\\yasir\\appdata\\local\\programs\\python\\python312\\lib\\site-packages (from huggingface-hub<1.0,>=0.26.0->transformers) (4.12.2)\n",
            "Requirement already satisfied: networkx in c:\\users\\yasir\\appdata\\local\\programs\\python\\python312\\lib\\site-packages (from torch>=1.11.0->sentence_transformers) (3.4.2)\n",
            "Requirement already satisfied: jinja2 in c:\\users\\yasir\\appdata\\local\\programs\\python\\python312\\lib\\site-packages (from torch>=1.11.0->sentence_transformers) (3.1.6)\n",
            "Requirement already satisfied: setuptools in c:\\users\\yasir\\appdata\\local\\programs\\python\\python312\\lib\\site-packages (from torch>=1.11.0->sentence_transformers) (76.1.0)\n",
            "Requirement already satisfied: sympy==1.13.1 in c:\\users\\yasir\\appdata\\local\\programs\\python\\python312\\lib\\site-packages (from torch>=1.11.0->sentence_transformers) (1.13.1)\n",
            "Requirement already satisfied: mpmath<1.4,>=1.1.0 in c:\\users\\yasir\\appdata\\local\\programs\\python\\python312\\lib\\site-packages (from sympy==1.13.1->torch>=1.11.0->sentence_transformers) (1.3.0)\n",
            "Requirement already satisfied: colorama in c:\\users\\yasir\\appdata\\roaming\\python\\python312\\site-packages (from tqdm>=4.27->transformers) (0.4.6)\n",
            "Requirement already satisfied: charset-normalizer<4,>=2 in c:\\users\\yasir\\appdata\\local\\programs\\python\\python312\\lib\\site-packages (from requests->transformers) (3.4.1)\n",
            "Requirement already satisfied: idna<4,>=2.5 in c:\\users\\yasir\\appdata\\local\\programs\\python\\python312\\lib\\site-packages (from requests->transformers) (3.10)\n",
            "Requirement already satisfied: urllib3<3,>=1.21.1 in c:\\users\\yasir\\appdata\\local\\programs\\python\\python312\\lib\\site-packages (from requests->transformers) (2.3.0)\n",
            "Requirement already satisfied: certifi>=2017.4.17 in c:\\users\\yasir\\appdata\\local\\programs\\python\\python312\\lib\\site-packages (from requests->transformers) (2025.1.31)\n",
            "Requirement already satisfied: MarkupSafe>=2.0 in c:\\users\\yasir\\appdata\\local\\programs\\python\\python312\\lib\\site-packages (from jinja2->torch>=1.11.0->sentence_transformers) (3.0.2)\n",
            "Note: you may need to restart the kernel to use updated packages.\n"
          ]
        }
      ],
      "source": [
        "pip install -U scikit-learn transformers sentence_transformers"
      ]
    },
    {
      "cell_type": "code",
      "execution_count": 25,
      "metadata": {},
      "outputs": [
        {
          "name": "stdout",
          "output_type": "stream",
          "text": [
            "Collecting langchain-huggingface\n",
            "  Using cached langchain_huggingface-0.1.2-py3-none-any.whl.metadata (1.3 kB)\n",
            "Requirement already satisfied: huggingface-hub>=0.23.0 in c:\\users\\yasir\\appdata\\local\\programs\\python\\python312\\lib\\site-packages (from langchain-huggingface) (0.29.3)\n",
            "Requirement already satisfied: langchain-core<0.4.0,>=0.3.15 in c:\\users\\yasir\\appdata\\local\\programs\\python\\python312\\lib\\site-packages (from langchain-huggingface) (0.3.45)\n",
            "Requirement already satisfied: sentence-transformers>=2.6.0 in c:\\users\\yasir\\appdata\\local\\programs\\python\\python312\\lib\\site-packages (from langchain-huggingface) (3.4.1)\n",
            "Requirement already satisfied: tokenizers>=0.19.1 in c:\\users\\yasir\\appdata\\local\\programs\\python\\python312\\lib\\site-packages (from langchain-huggingface) (0.21.1)\n",
            "Requirement already satisfied: transformers>=4.39.0 in c:\\users\\yasir\\appdata\\local\\programs\\python\\python312\\lib\\site-packages (from langchain-huggingface) (4.49.0)\n",
            "Requirement already satisfied: filelock in c:\\users\\yasir\\appdata\\local\\programs\\python\\python312\\lib\\site-packages (from huggingface-hub>=0.23.0->langchain-huggingface) (3.18.0)\n",
            "Requirement already satisfied: fsspec>=2023.5.0 in c:\\users\\yasir\\appdata\\local\\programs\\python\\python312\\lib\\site-packages (from huggingface-hub>=0.23.0->langchain-huggingface) (2025.3.0)\n",
            "Requirement already satisfied: packaging>=20.9 in c:\\users\\yasir\\appdata\\roaming\\python\\python312\\site-packages (from huggingface-hub>=0.23.0->langchain-huggingface) (24.2)\n",
            "Requirement already satisfied: pyyaml>=5.1 in c:\\users\\yasir\\appdata\\local\\programs\\python\\python312\\lib\\site-packages (from huggingface-hub>=0.23.0->langchain-huggingface) (6.0.2)\n",
            "Requirement already satisfied: requests in c:\\users\\yasir\\appdata\\local\\programs\\python\\python312\\lib\\site-packages (from huggingface-hub>=0.23.0->langchain-huggingface) (2.32.3)\n",
            "Requirement already satisfied: tqdm>=4.42.1 in c:\\users\\yasir\\appdata\\local\\programs\\python\\python312\\lib\\site-packages (from huggingface-hub>=0.23.0->langchain-huggingface) (4.67.1)\n",
            "Requirement already satisfied: typing-extensions>=3.7.4.3 in c:\\users\\yasir\\appdata\\local\\programs\\python\\python312\\lib\\site-packages (from huggingface-hub>=0.23.0->langchain-huggingface) (4.12.2)\n",
            "Requirement already satisfied: langsmith<0.4,>=0.1.125 in c:\\users\\yasir\\appdata\\local\\programs\\python\\python312\\lib\\site-packages (from langchain-core<0.4.0,>=0.3.15->langchain-huggingface) (0.3.15)\n",
            "Requirement already satisfied: tenacity!=8.4.0,<10.0.0,>=8.1.0 in c:\\users\\yasir\\appdata\\local\\programs\\python\\python312\\lib\\site-packages (from langchain-core<0.4.0,>=0.3.15->langchain-huggingface) (9.0.0)\n",
            "Requirement already satisfied: jsonpatch<2.0,>=1.33 in c:\\users\\yasir\\appdata\\local\\programs\\python\\python312\\lib\\site-packages (from langchain-core<0.4.0,>=0.3.15->langchain-huggingface) (1.33)\n",
            "Requirement already satisfied: pydantic<3.0.0,>=2.7.4 in c:\\users\\yasir\\appdata\\local\\programs\\python\\python312\\lib\\site-packages (from langchain-core<0.4.0,>=0.3.15->langchain-huggingface) (2.10.6)\n",
            "Requirement already satisfied: torch>=1.11.0 in c:\\users\\yasir\\appdata\\local\\programs\\python\\python312\\lib\\site-packages (from sentence-transformers>=2.6.0->langchain-huggingface) (2.6.0)\n",
            "Requirement already satisfied: scikit-learn in c:\\users\\yasir\\appdata\\local\\programs\\python\\python312\\lib\\site-packages (from sentence-transformers>=2.6.0->langchain-huggingface) (1.6.1)\n",
            "Requirement already satisfied: scipy in c:\\users\\yasir\\appdata\\local\\programs\\python\\python312\\lib\\site-packages (from sentence-transformers>=2.6.0->langchain-huggingface) (1.15.2)\n",
            "Requirement already satisfied: Pillow in c:\\users\\yasir\\appdata\\local\\programs\\python\\python312\\lib\\site-packages (from sentence-transformers>=2.6.0->langchain-huggingface) (11.1.0)\n",
            "Requirement already satisfied: numpy>=1.17 in c:\\users\\yasir\\appdata\\local\\programs\\python\\python312\\lib\\site-packages (from transformers>=4.39.0->langchain-huggingface) (1.26.4)\n",
            "Requirement already satisfied: regex!=2019.12.17 in c:\\users\\yasir\\appdata\\local\\programs\\python\\python312\\lib\\site-packages (from transformers>=4.39.0->langchain-huggingface) (2024.11.6)\n",
            "Requirement already satisfied: safetensors>=0.4.1 in c:\\users\\yasir\\appdata\\local\\programs\\python\\python312\\lib\\site-packages (from transformers>=4.39.0->langchain-huggingface) (0.5.3)\n",
            "Requirement already satisfied: jsonpointer>=1.9 in c:\\users\\yasir\\appdata\\local\\programs\\python\\python312\\lib\\site-packages (from jsonpatch<2.0,>=1.33->langchain-core<0.4.0,>=0.3.15->langchain-huggingface) (3.0.0)\n",
            "Requirement already satisfied: httpx<1,>=0.23.0 in c:\\users\\yasir\\appdata\\local\\programs\\python\\python312\\lib\\site-packages (from langsmith<0.4,>=0.1.125->langchain-core<0.4.0,>=0.3.15->langchain-huggingface) (0.28.1)\n",
            "Requirement already satisfied: orjson<4.0.0,>=3.9.14 in c:\\users\\yasir\\appdata\\local\\programs\\python\\python312\\lib\\site-packages (from langsmith<0.4,>=0.1.125->langchain-core<0.4.0,>=0.3.15->langchain-huggingface) (3.10.15)\n",
            "Requirement already satisfied: requests-toolbelt<2.0.0,>=1.0.0 in c:\\users\\yasir\\appdata\\local\\programs\\python\\python312\\lib\\site-packages (from langsmith<0.4,>=0.1.125->langchain-core<0.4.0,>=0.3.15->langchain-huggingface) (1.0.0)\n",
            "Requirement already satisfied: zstandard<0.24.0,>=0.23.0 in c:\\users\\yasir\\appdata\\local\\programs\\python\\python312\\lib\\site-packages (from langsmith<0.4,>=0.1.125->langchain-core<0.4.0,>=0.3.15->langchain-huggingface) (0.23.0)\n",
            "Requirement already satisfied: annotated-types>=0.6.0 in c:\\users\\yasir\\appdata\\local\\programs\\python\\python312\\lib\\site-packages (from pydantic<3.0.0,>=2.7.4->langchain-core<0.4.0,>=0.3.15->langchain-huggingface) (0.7.0)\n",
            "Requirement already satisfied: pydantic-core==2.27.2 in c:\\users\\yasir\\appdata\\local\\programs\\python\\python312\\lib\\site-packages (from pydantic<3.0.0,>=2.7.4->langchain-core<0.4.0,>=0.3.15->langchain-huggingface) (2.27.2)\n",
            "Requirement already satisfied: charset-normalizer<4,>=2 in c:\\users\\yasir\\appdata\\local\\programs\\python\\python312\\lib\\site-packages (from requests->huggingface-hub>=0.23.0->langchain-huggingface) (3.4.1)\n",
            "Requirement already satisfied: idna<4,>=2.5 in c:\\users\\yasir\\appdata\\local\\programs\\python\\python312\\lib\\site-packages (from requests->huggingface-hub>=0.23.0->langchain-huggingface) (3.10)\n",
            "Requirement already satisfied: urllib3<3,>=1.21.1 in c:\\users\\yasir\\appdata\\local\\programs\\python\\python312\\lib\\site-packages (from requests->huggingface-hub>=0.23.0->langchain-huggingface) (2.3.0)\n",
            "Requirement already satisfied: certifi>=2017.4.17 in c:\\users\\yasir\\appdata\\local\\programs\\python\\python312\\lib\\site-packages (from requests->huggingface-hub>=0.23.0->langchain-huggingface) (2025.1.31)\n",
            "Requirement already satisfied: networkx in c:\\users\\yasir\\appdata\\local\\programs\\python\\python312\\lib\\site-packages (from torch>=1.11.0->sentence-transformers>=2.6.0->langchain-huggingface) (3.4.2)\n",
            "Requirement already satisfied: jinja2 in c:\\users\\yasir\\appdata\\local\\programs\\python\\python312\\lib\\site-packages (from torch>=1.11.0->sentence-transformers>=2.6.0->langchain-huggingface) (3.1.6)\n",
            "Requirement already satisfied: setuptools in c:\\users\\yasir\\appdata\\local\\programs\\python\\python312\\lib\\site-packages (from torch>=1.11.0->sentence-transformers>=2.6.0->langchain-huggingface) (76.1.0)\n",
            "Requirement already satisfied: sympy==1.13.1 in c:\\users\\yasir\\appdata\\local\\programs\\python\\python312\\lib\\site-packages (from torch>=1.11.0->sentence-transformers>=2.6.0->langchain-huggingface) (1.13.1)\n",
            "Requirement already satisfied: mpmath<1.4,>=1.1.0 in c:\\users\\yasir\\appdata\\local\\programs\\python\\python312\\lib\\site-packages (from sympy==1.13.1->torch>=1.11.0->sentence-transformers>=2.6.0->langchain-huggingface) (1.3.0)\n",
            "Requirement already satisfied: colorama in c:\\users\\yasir\\appdata\\roaming\\python\\python312\\site-packages (from tqdm>=4.42.1->huggingface-hub>=0.23.0->langchain-huggingface) (0.4.6)\n",
            "Requirement already satisfied: joblib>=1.2.0 in c:\\users\\yasir\\appdata\\local\\programs\\python\\python312\\lib\\site-packages (from scikit-learn->sentence-transformers>=2.6.0->langchain-huggingface) (1.4.2)\n",
            "Requirement already satisfied: threadpoolctl>=3.1.0 in c:\\users\\yasir\\appdata\\local\\programs\\python\\python312\\lib\\site-packages (from scikit-learn->sentence-transformers>=2.6.0->langchain-huggingface) (3.6.0)\n",
            "Requirement already satisfied: anyio in c:\\users\\yasir\\appdata\\local\\programs\\python\\python312\\lib\\site-packages (from httpx<1,>=0.23.0->langsmith<0.4,>=0.1.125->langchain-core<0.4.0,>=0.3.15->langchain-huggingface) (4.9.0)\n",
            "Requirement already satisfied: httpcore==1.* in c:\\users\\yasir\\appdata\\local\\programs\\python\\python312\\lib\\site-packages (from httpx<1,>=0.23.0->langsmith<0.4,>=0.1.125->langchain-core<0.4.0,>=0.3.15->langchain-huggingface) (1.0.7)\n",
            "Requirement already satisfied: h11<0.15,>=0.13 in c:\\users\\yasir\\appdata\\local\\programs\\python\\python312\\lib\\site-packages (from httpcore==1.*->httpx<1,>=0.23.0->langsmith<0.4,>=0.1.125->langchain-core<0.4.0,>=0.3.15->langchain-huggingface) (0.14.0)\n",
            "Requirement already satisfied: MarkupSafe>=2.0 in c:\\users\\yasir\\appdata\\local\\programs\\python\\python312\\lib\\site-packages (from jinja2->torch>=1.11.0->sentence-transformers>=2.6.0->langchain-huggingface) (3.0.2)\n",
            "Requirement already satisfied: sniffio>=1.1 in c:\\users\\yasir\\appdata\\local\\programs\\python\\python312\\lib\\site-packages (from anyio->httpx<1,>=0.23.0->langsmith<0.4,>=0.1.125->langchain-core<0.4.0,>=0.3.15->langchain-huggingface) (1.3.1)\n",
            "Using cached langchain_huggingface-0.1.2-py3-none-any.whl (21 kB)\n",
            "Installing collected packages: langchain-huggingface\n",
            "Successfully installed langchain-huggingface-0.1.2\n",
            "Note: you may need to restart the kernel to use updated packages.\n"
          ]
        }
      ],
      "source": [
        "pip install -U langchain-huggingface"
      ]
    },
    {
      "cell_type": "code",
      "execution_count": 26,
      "metadata": {
        "colab": {
          "base_uri": "https://localhost:8080/",
          "height": 545,
          "referenced_widgets": [
            "11276d38bdce413badba21b0aba1b3d2",
            "44680fadb0b443f5a36b794b9d11e99f",
            "366b5a21f3f947f9a7e825ce0ecd6be9",
            "b96487b160604f1e9dbbf180552dc94d",
            "c005a3733a554223931a6cccf646dc63",
            "fb117ceb4fda4e77995e714cc8831f0f",
            "2d50093c78224aa3bbe7db82a2fcf236",
            "85392772252a4c6999a9dac2fd907249",
            "e0a0e352fa0746f19daf891c97c992dd",
            "64af80c639f94985a0d65fea383444e9",
            "cac8c5f3bc044e7198a8187660056665",
            "1244296443ae4dd5917ad0ef882d9049",
            "bf82c7fb49344862a79300678230c358",
            "0d92bbf9ad914d368fa4af9c37f119e1",
            "923b84e7471d42b39a8a5c7bd9755770",
            "c873478c47c44ff69beecd5555d260d8",
            "ab7a095742634039a081f88e13e4b9ea",
            "8165b09cdfe8471097e7d1b2548c00c5",
            "502a5429cbbf4078bd898b9433f2e893",
            "5ecb70e5356e473380d1d2b6d38d8f88",
            "6ef4f7da557548388678a6adbea440a3",
            "a64687735b2b453d86f8b88f34b76945",
            "9a6b55ccac55435cb9a53a383c17f37d",
            "5788f007d46c4dfba493f70f88b37d5e",
            "101c3c1a4a2c46f99aa726cd87b60248",
            "b36dc7dd13ff4b16bfe1021b821c06e2",
            "176aef0d1a0d40758161db03a672901d",
            "b2cedbeecddb4729a0c86ca2bc259996",
            "afc8d5687aa04be4b06553e643f304af",
            "08e024a134cc45429030a2f8cb28fcd1",
            "dd73831c2d6940ce9e2cfb3014618ca9",
            "7a691fb8c1a84fe4a1e91e03ecf8ce4a",
            "d8b7eee6a75b42f0bb105d3aecdecb91",
            "36fc97c24c294bd49b1c805f071c8ca3",
            "7bdccfae7b84446397d3083fdfddd600",
            "ac43581d218d472abf3dc0da8d89596d",
            "8f0d3fe47c0346a59533a50f8c62eb85",
            "256901e93ebe48658087487aa46d52dd",
            "4c0a3c5c95004a659e0c038cf6c9558e",
            "5c48ff4de4bb48719cd1d6b014d79fdd",
            "bc597c5a598f4f21868d2e0fe554d6db",
            "e670fd05c1c140928fdecae0a777aedd",
            "c89805c06ab64beea0219bde09770bbd",
            "91a4b497c7f84b298be4e36c5ead3018",
            "cbe1e3b9fb3e44608a8f751ae9348d52",
            "199a0a45c88c44df91643cc9e7818213",
            "b47f2fa364314ca981a6f290d2e24776",
            "dd62cb78d51b48848b773550cfec9eda",
            "9549b96c59434b56908a307cbe0b2863",
            "26619b56927644af9d461991341f818f",
            "7a9f170546074f6298d957a696a70a7e",
            "9311dd3e751542f196b31cdb42588ea8",
            "91b8ac8473ac4bce83cd8fd1da1ffa5c",
            "807871d5151c47738d517fc1bbbb9c2f",
            "30ad0af870cf46ecb1b010d2b16bd854",
            "c16d578b6d454a14892004e6d8abaded",
            "3c2c524609c84f7bb5270e751927c719",
            "ad97f35623074e93b4b22df173715f04",
            "e0b4487ae4a848bc9109fa7a300ebebc",
            "0599dd1a0ecc4fe9817128f9ccc25732",
            "84e21d3de35a4cb2b728c3406d59b01c",
            "a3247e27788145bfbebcfd414b64c9ec",
            "0aa3031ac3f2477a8bb74b4bde79d431",
            "c7f1d238dc8645f6917dc96feb2127df",
            "61a7aa16ea654e44b2118edf542281fa",
            "c49f164fab2d435b9cf093c29e5d43fb",
            "4c4e2fe719814f0cbdc3694ef86fbb08",
            "df506b79efe84dd4ba87069cf458e6f2",
            "e559d5a7d0da4d40a94ed6629b49db24",
            "e1e879bcf26d42109ca37408b73286cc",
            "55cb5ccab4c645b786f9e87a4d27df02",
            "286a605f7659466980c7939935bbc05d",
            "a1bd74a6465941f99ff56d1aaeca8323",
            "18aafcc7265841d4aa6b4af69098b2a3",
            "357a6479731d4a0dba8a0d8c73e087e3",
            "4f2f711658294dbab9d3d3c33141f7d6",
            "29630b17314c4cfabbeb0ac907a2ba2f",
            "072bb3b286204e6a91ce8c022ff60c74",
            "0e13f2cbc3c1418a88b1d076e438c464",
            "df2207934eeb410fb7d9917cdbae15b4",
            "66b98cce692f425e890c1f7b1cae51b0",
            "6ccdcb7476d848128e1662b86b552b8b",
            "9e338cc00fe74fd4be1305d47982be60",
            "03cdb2f4014442fca1a3597fe6022b16",
            "5c14488345c842fbad2306f3f7e85fd2",
            "85a440e280254ec4925f36d60a31d4b2",
            "eb58b4b697de41e0845845d2e5d5c8db",
            "4d0f3bd006cf4986be04f71a620a170b",
            "228c8b25549a4a0a88be8643868b72a5",
            "b2a614f3194440b390e95ed856f35642",
            "744626ac5e484ed5aa81df653f199c43",
            "70c24513325a422f96dc0abc15329123",
            "632b838ce37b40738a1db28a8f2df765",
            "55d2320f88134b08ae1c73ee124fc7fb",
            "c5e4a90c6af54285a171e22e57f64bd3",
            "14228a1b40614671be5523d9a1f2c830",
            "7d527d852d144566bdc89a3a196a93cb",
            "f153b012b221422ba05ff8e98f44503e",
            "226f4dc3ba2f494fa7eba05c4b3abad0",
            "6c7693e06095455b9095b8cca089944f",
            "17b6cdc2a6274cb6b5a8868ac92bc946",
            "8d7a52ebf4a540eba88789c19ddc38b1",
            "0c32aaee650f429dbe9d189de649b178",
            "bcffe9f35e5c4596812b035183ee4869",
            "41d9b50fecea4916ba861eb4ea7c91c6",
            "17ad5ca515804a65a05e989c312b4873",
            "dc5bbfa45182457cbe911925fe260442",
            "089d4544885c48b9bea3a2a87f72a49f",
            "7475014311794de9aeaa0977c7d00bc1",
            "08672287f04744a6a323afe5e1c9c785",
            "46984e03f9ad47df8124d771f420d1ff",
            "70c97f28b2b94f708afe1fe3b396982b",
            "b76da8709f334f55b99d233c39357265",
            "c9b277bf714e49598879ddd99f6c7063",
            "62156574483b4cd7a3c98eb5fbd307d0",
            "5149c1250eaf4df2a26236387663d6bd",
            "e69b40465df64124a07649707e2f91eb",
            "fcd6deeadc9b4708832cd2f762ad3451",
            "d3c9e41adbdd4ed3a7808979c1d749db",
            "71d323dd8bf94c43944395f7ffc7e3aa",
            "6f6b2146d3c5454fae48b5cea9a58e7c"
          ]
        },
        "id": "dx4EqBhxBf2z",
        "outputId": "337a6acd-fa73-4089-bebf-b79610223718"
      },
      "outputs": [
        {
          "name": "stderr",
          "output_type": "stream",
          "text": [
            "c:\\Users\\yasir\\AppData\\Local\\Programs\\Python\\Python312\\Lib\\site-packages\\tqdm\\auto.py:21: TqdmWarning: IProgress not found. Please update jupyter and ipywidgets. See https://ipywidgets.readthedocs.io/en/stable/user_install.html\n",
            "  from .autonotebook import tqdm as notebook_tqdm\n"
          ]
        },
        {
          "name": "stdout",
          "output_type": "stream",
          "text": [
            "[-0.01521720178425312, -0.001434139208868146, -0.010352272540330887, -0.07030553370714188, -0.03271069377660751]\n"
          ]
        }
      ],
      "source": [
        "from langchain_community.embeddings.sentence_transformer import SentenceTransformerEmbeddings\n",
        "from langchain_huggingface import HuggingFaceEmbeddings\n",
        "\n",
        "\n",
        "embedding_function = embedding_function = HuggingFaceEmbeddings(model_name=\"all-MiniLM-L6-v2\")\n",
        "document_embeddings = embedding_function.embed_documents([split.page_content for split in splits])\n",
        "print(document_embeddings[0][:5])\n"
      ]
    },
    {
      "cell_type": "code",
      "execution_count": 27,
      "metadata": {
        "colab": {
          "base_uri": "https://localhost:8080/"
        },
        "id": "4aNPIJu7CG5s",
        "outputId": "659e62cd-ea4f-4f93-c77f-47bc62856ce6"
      },
      "outputs": [
        {
          "name": "stdout",
          "output_type": "stream",
          "text": [
            "Vector store created and persisted to './chroma_db'\n"
          ]
        }
      ],
      "source": [
        "from langchain_chroma import Chroma\n",
        "\n",
        "collection_name = \"my_collection\"\n",
        "vectorstore = Chroma.from_documents(\n",
        "    collection_name=collection_name,\n",
        "    documents=splits,\n",
        "    embedding=embedding_function,\n",
        "    persist_directory=\"./chroma_db\"\n",
        ")\n",
        "print(\"Vector store created and persisted to './chroma_db'\")\n"
      ]
    },
    {
      "cell_type": "code",
      "execution_count": 28,
      "metadata": {
        "colab": {
          "base_uri": "https://localhost:8080/"
        },
        "id": "vSzFClnHCWcZ",
        "outputId": "9ac03181-4aad-471a-d12a-bb38aca1877a"
      },
      "outputs": [
        {
          "name": "stdout",
          "output_type": "stream",
          "text": [
            "\n",
            "Top 2 most relevant chunks for the query: 'What makes TechNova Solutions stand out from other tech consultancies?'\n",
            "\n",
            "Result 1:\n",
            "Source: D:\\chatbot_project\\app\\KB\\KB.docx\n",
            "Content: TechNova Solutions Company Profile\n",
            "\n",
            "TechNova Solutions is a leading technology consultancy firm founded in 2010 and headquartered in Silicon Valley, California. The company has been at the forefront of providing innovative and cutting-edge technology solutions to businesses, helping them thrive in the digital world. With a mission to empower organizations through digital transformation, TechNova delivers services across a variety of domains, including digital transformation, cloud solutions, cybersecurity, software development, and consulting.\n",
            "\n",
            "Since its inception, TechNova Solutions has built a reputation for excellence and customer-centricity. The company focuses on delivering high-quality solutions tailored to the unique needs of each business. The core values of the company—Innovation, Integrity, Customer-Centricity, and Collaboration—have helped it become a trusted partner for enterprises looking to harness the full potential of technology.\n",
            "\n",
            "Result 2:\n",
            "Source: D:\\chatbot_project\\app\\KB\\KB.docx\n",
            "Content: Software Development: The company builds tailored software applications that address the unique needs of its clients, ranging from custom-built CRMs to enterprise resource planning (ERP) systems.\n",
            "\n",
            "Consulting: TechNova’s team of experts offers consulting services that help businesses devise strategic tech roadmaps, implement best practices, and optimize their technology investments.\n",
            "\n",
            "Awards & Recognitions\n",
            "\n",
            "2021: TechNova was recognized as one of the Top 100 Most Innovative Tech Companies by TechReview Magazine.\n",
            "\n",
            "2022: CEO Sarah Johnson was named Innovator of the Year at the Global Technology Awards.\n",
            "\n",
            "2023: The company received the Best Cloud Solutions Provider award at the National IT Awards.\n",
            "\n",
            "Products\n",
            "\n",
            "TechNova has also developed several proprietary products to further enhance the services it provides to clients:\n",
            "\n",
            "NovaCloud: A cloud-based platform designed to streamline business operations, improve collaboration, and increase productivity.\n",
            "\n"
          ]
        }
      ],
      "source": [
        "query = \"What makes TechNova Solutions stand out from other tech consultancies?\"\n",
        "search_results = vectorstore.similarity_search(query, k=2)\n",
        "print(f\"\\nTop 2 most relevant chunks for the query: '{query}'\\n\")\n",
        "for i, result in enumerate(search_results, 1):\n",
        "    print(f\"Result {i}:\")\n",
        "    print(f\"Source: {result.metadata.get('source', 'Unknown')}\")\n",
        "    print(f\"Content: {result.page_content}\")\n",
        "    print()\n"
      ]
    },
    {
      "cell_type": "code",
      "execution_count": 29,
      "metadata": {
        "colab": {
          "base_uri": "https://localhost:8080/"
        },
        "id": "F5TNQKn2DC78",
        "outputId": "3a34b82e-f6c1-4251-ca32-a73c65b4bfd0"
      },
      "outputs": [
        {
          "name": "stdout",
          "output_type": "stream",
          "text": [
            "[Document(id='e84e0c2a-c13c-44e7-8b6f-79de28019509', metadata={'source': 'D:\\\\chatbot_project\\\\app\\\\KB\\\\KB.docx'}, page_content='TechNova Solutions Company Profile\\n\\nTechNova Solutions is a leading technology consultancy firm founded in 2010 and headquartered in Silicon Valley, California. The company has been at the forefront of providing innovative and cutting-edge technology solutions to businesses, helping them thrive in the digital world. With a mission to empower organizations through digital transformation, TechNova delivers services across a variety of domains, including digital transformation, cloud solutions, cybersecurity, software development, and consulting.\\n\\nSince its inception, TechNova Solutions has built a reputation for excellence and customer-centricity. The company focuses on delivering high-quality solutions tailored to the unique needs of each business. The core values of the company—Innovation, Integrity, Customer-Centricity, and Collaboration—have helped it become a trusted partner for enterprises looking to harness the full potential of technology.'), Document(id='aa2f5bae-db4d-455d-81fe-cbaf24f55b07', metadata={'source': 'D:\\\\chatbot_project\\\\app\\\\KB\\\\KB.docx'}, page_content='Software Development: The company builds tailored software applications that address the unique needs of its clients, ranging from custom-built CRMs to enterprise resource planning (ERP) systems.\\n\\nConsulting: TechNova’s team of experts offers consulting services that help businesses devise strategic tech roadmaps, implement best practices, and optimize their technology investments.\\n\\nAwards & Recognitions\\n\\n2021: TechNova was recognized as one of the Top 100 Most Innovative Tech Companies by TechReview Magazine.\\n\\n2022: CEO Sarah Johnson was named Innovator of the Year at the Global Technology Awards.\\n\\n2023: The company received the Best Cloud Solutions Provider award at the National IT Awards.\\n\\nProducts\\n\\nTechNova has also developed several proprietary products to further enhance the services it provides to clients:\\n\\nNovaCloud: A cloud-based platform designed to streamline business operations, improve collaboration, and increase productivity.')]\n"
          ]
        }
      ],
      "source": [
        "retriever = vectorstore.as_retriever(search_kwargs={\"k\": 2})\n",
        "retriever_results = retriever.invoke(\"What makes TechNova Solutions stand out from other tech consultancies?\")\n",
        "print(retriever_results)"
      ]
    },
    {
      "cell_type": "code",
      "execution_count": 30,
      "metadata": {
        "id": "tDggTKc0h5t5"
      },
      "outputs": [],
      "source": [
        "from langchain_core.prompts import ChatPromptTemplate\n",
        "template = \"\"\"Answer the question based only on the following context:\n",
        "{context}\n",
        "Question: {question}\n",
        "Answer: \"\"\"\n",
        "\n",
        "prompt = ChatPromptTemplate.from_template(template)"
      ]
    },
    {
      "cell_type": "code",
      "execution_count": 31,
      "metadata": {
        "colab": {
          "base_uri": "https://localhost:8080/"
        },
        "id": "ge3b6xNJzik3",
        "outputId": "320a960f-6096-40d5-f3af-a1afa7ac5799"
      },
      "outputs": [
        {
          "data": {
            "text/plain": [
              "ChatPromptValue(messages=[HumanMessage(content=\"Answer the question based only on the following context:\\n[Document(id='e84e0c2a-c13c-44e7-8b6f-79de28019509', metadata={'source': 'D:\\\\\\\\chatbot_project\\\\\\\\app\\\\\\\\KB\\\\\\\\KB.docx'}, page_content='TechNova Solutions Company Profile\\\\n\\\\nTechNova Solutions is a leading technology consultancy firm founded in 2010 and headquartered in Silicon Valley, California. The company has been at the forefront of providing innovative and cutting-edge technology solutions to businesses, helping them thrive in the digital world. With a mission to empower organizations through digital transformation, TechNova delivers services across a variety of domains, including digital transformation, cloud solutions, cybersecurity, software development, and consulting.\\\\n\\\\nSince its inception, TechNova Solutions has built a reputation for excellence and customer-centricity. The company focuses on delivering high-quality solutions tailored to the unique needs of each business. The core values of the company—Innovation, Integrity, Customer-Centricity, and Collaboration—have helped it become a trusted partner for enterprises looking to harness the full potential of technology.'), Document(id='aa2f5bae-db4d-455d-81fe-cbaf24f55b07', metadata={'source': 'D:\\\\\\\\chatbot_project\\\\\\\\app\\\\\\\\KB\\\\\\\\KB.docx'}, page_content='Software Development: The company builds tailored software applications that address the unique needs of its clients, ranging from custom-built CRMs to enterprise resource planning (ERP) systems.\\\\n\\\\nConsulting: TechNova’s team of experts offers consulting services that help businesses devise strategic tech roadmaps, implement best practices, and optimize their technology investments.\\\\n\\\\nAwards & Recognitions\\\\n\\\\n2021: TechNova was recognized as one of the Top 100 Most Innovative Tech Companies by TechReview Magazine.\\\\n\\\\n2022: CEO Sarah Johnson was named Innovator of the Year at the Global Technology Awards.\\\\n\\\\n2023: The company received the Best Cloud Solutions Provider award at the National IT Awards.\\\\n\\\\nProducts\\\\n\\\\nTechNova has also developed several proprietary products to further enhance the services it provides to clients:\\\\n\\\\nNovaCloud: A cloud-based platform designed to streamline business operations, improve collaboration, and increase productivity.')]\\nQuestion: What makes TechNova Solutions stand out from other tech consultancies?\\nAnswer: \", additional_kwargs={}, response_metadata={})])"
            ]
          },
          "execution_count": 31,
          "metadata": {},
          "output_type": "execute_result"
        }
      ],
      "source": [
        "from langchain.schema.runnable import RunnablePassthrough\n",
        "\n",
        "rag_chain = ({\"context\": retriever, \"question\": RunnablePassthrough()} | prompt )\n",
        "rag_chain.invoke(\"What makes TechNova Solutions stand out from other tech consultancies?\")"
      ]
    },
    {
      "cell_type": "code",
      "execution_count": 32,
      "metadata": {
        "id": "5P6dVJsUz3Py"
      },
      "outputs": [],
      "source": [
        "def docs2str(docs):\n",
        "    return \"\\n\\n\".join(doc.page_content for doc in docs)"
      ]
    },
    {
      "cell_type": "code",
      "execution_count": 33,
      "metadata": {
        "colab": {
          "base_uri": "https://localhost:8080/"
        },
        "id": "mtgtGC6kEJOU",
        "outputId": "13c4e2cd-41b6-4cbd-dac9-b65705e193a8"
      },
      "outputs": [
        {
          "data": {
            "text/plain": [
              "ChatPromptValue(messages=[HumanMessage(content='Answer the question based only on the following context:\\nTechNova Solutions Company Profile\\n\\nTechNova Solutions is a leading technology consultancy firm founded in 2010 and headquartered in Silicon Valley, California. The company has been at the forefront of providing innovative and cutting-edge technology solutions to businesses, helping them thrive in the digital world. With a mission to empower organizations through digital transformation, TechNova delivers services across a variety of domains, including digital transformation, cloud solutions, cybersecurity, software development, and consulting.\\n\\nSince its inception, TechNova Solutions has built a reputation for excellence and customer-centricity. The company focuses on delivering high-quality solutions tailored to the unique needs of each business. The core values of the company—Innovation, Integrity, Customer-Centricity, and Collaboration—have helped it become a trusted partner for enterprises looking to harness the full potential of technology.\\n\\nSoftware Development: The company builds tailored software applications that address the unique needs of its clients, ranging from custom-built CRMs to enterprise resource planning (ERP) systems.\\n\\nConsulting: TechNova’s team of experts offers consulting services that help businesses devise strategic tech roadmaps, implement best practices, and optimize their technology investments.\\n\\nAwards & Recognitions\\n\\n2021: TechNova was recognized as one of the Top 100 Most Innovative Tech Companies by TechReview Magazine.\\n\\n2022: CEO Sarah Johnson was named Innovator of the Year at the Global Technology Awards.\\n\\n2023: The company received the Best Cloud Solutions Provider award at the National IT Awards.\\n\\nProducts\\n\\nTechNova has also developed several proprietary products to further enhance the services it provides to clients:\\n\\nNovaCloud: A cloud-based platform designed to streamline business operations, improve collaboration, and increase productivity.\\nQuestion: What makes TechNova Solutions stand out from other tech consultancies?\\nAnswer: ', additional_kwargs={}, response_metadata={})])"
            ]
          },
          "execution_count": 33,
          "metadata": {},
          "output_type": "execute_result"
        }
      ],
      "source": [
        "rag_chain = (\n",
        "    {\"context\": retriever | docs2str, \"question\": RunnablePassthrough()} | prompt\n",
        ")\n",
        "rag_chain.invoke(\"What makes TechNova Solutions stand out from other tech consultancies?\")"
      ]
    },
    {
      "cell_type": "code",
      "execution_count": 34,
      "metadata": {
        "colab": {
          "base_uri": "https://localhost:8080/"
        },
        "id": "v49aW67xEj3w",
        "outputId": "6d563c54-3bda-43e0-c436-b464a35bd509"
      },
      "outputs": [
        {
          "name": "stdout",
          "output_type": "stream",
          "text": [
            "What makes TechNova Solutions stand out from other tech consultancies?\n",
            "TechNova Solutions stands out from other tech consultancies due to its strong emphasis on customer-centricity, innovation, and collaboration, which are core values of the company. Their commitment to delivering tailored high-quality solutions that address the unique needs of each client, along with a reputation for excellence, sets them apart. Additionally, their comprehensive service offerings—including digital transformation, cloud solutions, cybersecurity, software development, and consulting—demonstrate their ability to empower organizations effectively in the digital landscape. TechNova's recognition through various awards, such as being named one of the Top 100 Most Innovative Tech Companies and receiving the Best Cloud Solutions Provider award, further highlights their leadership and achievements in the industry.\n"
          ]
        }
      ],
      "source": [
        "rag_chain = (\n",
        "    {\"context\": retriever | docs2str, \"question\": RunnablePassthrough()}\n",
        "    | prompt\n",
        "    | llm\n",
        "    | StrOutputParser()\n",
        ")\n",
        "question = \"What makes TechNova Solutions stand out from other tech consultancies?\"\n",
        "response = rag_chain.invoke(question)\n",
        "print(question)\n",
        "print(response)"
      ]
    },
    {
      "cell_type": "markdown",
      "metadata": {
        "id": "tuNHfEqLr1qP"
      },
      "source": [
        "Conversational Rag Starting Here"
      ]
    },
    {
      "cell_type": "markdown",
      "metadata": {
        "id": "CIQr7GWOsIw-"
      },
      "source": [
        "For Followup Questions"
      ]
    },
    {
      "cell_type": "code",
      "execution_count": 35,
      "metadata": {
        "id": "1-9s-GlMsRIL"
      },
      "outputs": [],
      "source": [
        "from langchain_core.messages import HumanMessage, AIMessage\n",
        "chat_history = []\n",
        "chat_history.extend([\n",
        "    HumanMessage(content=question),\n",
        "    AIMessage(content=response)\n",
        "])"
      ]
    },
    {
      "cell_type": "code",
      "execution_count": 36,
      "metadata": {
        "colab": {
          "base_uri": "https://localhost:8080/"
        },
        "id": "eE2rFOyTuu3T",
        "outputId": "5fbdfc1e-7954-4712-a81e-a7b6c3f4444a"
      },
      "outputs": [
        {
          "data": {
            "text/plain": [
              "[HumanMessage(content='What makes TechNova Solutions stand out from other tech consultancies?', additional_kwargs={}, response_metadata={}),\n",
              " AIMessage(content=\"TechNova Solutions stands out from other tech consultancies due to its strong emphasis on customer-centricity, innovation, and collaboration, which are core values of the company. Their commitment to delivering tailored high-quality solutions that address the unique needs of each client, along with a reputation for excellence, sets them apart. Additionally, their comprehensive service offerings—including digital transformation, cloud solutions, cybersecurity, software development, and consulting—demonstrate their ability to empower organizations effectively in the digital landscape. TechNova's recognition through various awards, such as being named one of the Top 100 Most Innovative Tech Companies and receiving the Best Cloud Solutions Provider award, further highlights their leadership and achievements in the industry.\", additional_kwargs={}, response_metadata={})]"
            ]
          },
          "execution_count": 36,
          "metadata": {},
          "output_type": "execute_result"
        }
      ],
      "source": [
        "chat_history"
      ]
    },
    {
      "cell_type": "code",
      "execution_count": 37,
      "metadata": {
        "colab": {
          "base_uri": "https://localhost:8080/",
          "height": 36
        },
        "id": "hX-z1FrAvyBo",
        "outputId": "ef5e81c1-d478-4fc8-c566-dbceec07d32c"
      },
      "outputs": [
        {
          "data": {
            "text/plain": [
              "'How has TechNova Solutions changed and grown since it was established in 2010?'"
            ]
          },
          "execution_count": 37,
          "metadata": {},
          "output_type": "execute_result"
        }
      ],
      "source": [
        "from langchain_core.prompts import MessagesPlaceholder\n",
        "contextualize_q_system_prompt = (\n",
        "    \"Given a chat history and the latest user question\"\n",
        "    \"Which might reference context in the chat history\"\n",
        "    \"formulate a standalone question which can be understood\"\n",
        "    \"without the chat history, Do not answer the question\"\n",
        "    \"Just reformulate it if needed and otherwise return it as it\"\n",
        ")\n",
        "\n",
        "contextualize_q_prompt = ChatPromptTemplate.from_messages(\n",
        "    [\n",
        "        (\"system\", contextualize_q_system_prompt),\n",
        "        MessagesPlaceholder(\"chat_history\"),\n",
        "        (\"human\", \"{input}\"),\n",
        "    ]\n",
        ")\n",
        "\n",
        "contextualize_chain = contextualize_q_prompt | llm | StrOutputParser()\n",
        "contextualize_chain.invoke({\"input\": \"How has TechNova evolved since its founding in 2010?\", \"chat_history\": chat_history})\n"
      ]
    },
    {
      "cell_type": "code",
      "execution_count": 38,
      "metadata": {
        "colab": {
          "base_uri": "https://localhost:8080/"
        },
        "id": "duF0w0ltXhVP",
        "outputId": "25637ab7-7464-4342-ce61-94b38e1d4086"
      },
      "outputs": [
        {
          "data": {
            "text/plain": [
              "[Document(id='e84e0c2a-c13c-44e7-8b6f-79de28019509', metadata={'source': 'D:\\\\chatbot_project\\\\app\\\\KB\\\\KB.docx'}, page_content='TechNova Solutions Company Profile\\n\\nTechNova Solutions is a leading technology consultancy firm founded in 2010 and headquartered in Silicon Valley, California. The company has been at the forefront of providing innovative and cutting-edge technology solutions to businesses, helping them thrive in the digital world. With a mission to empower organizations through digital transformation, TechNova delivers services across a variety of domains, including digital transformation, cloud solutions, cybersecurity, software development, and consulting.\\n\\nSince its inception, TechNova Solutions has built a reputation for excellence and customer-centricity. The company focuses on delivering high-quality solutions tailored to the unique needs of each business. The core values of the company—Innovation, Integrity, Customer-Centricity, and Collaboration—have helped it become a trusted partner for enterprises looking to harness the full potential of technology.'),\n",
              " Document(id='ba4f99db-9a02-42da-88b3-a46314498034', metadata={'source': 'D:\\\\chatbot_project\\\\app\\\\KB\\\\KB.docx'}, page_content='Services\\n\\nTechNova Solutions offers a comprehensive suite of services aimed at helping businesses navigate and succeed in the digital age. These include:\\n\\nDigital Transformation: TechNova partners with businesses to guide them through their digital transformation journey, modernizing processes, improving efficiencies, and enabling growth through technology.\\n\\nCloud Solutions: The company provides end-to-end cloud services, including migration to cloud platforms, cloud management, and custom cloud solutions that ensure scalability and performance.\\n\\nCybersecurity: TechNova provides robust cybersecurity solutions to protect businesses from cyber threats, helping them safeguard their data and critical infrastructure.\\n\\nSoftware Development: The company builds tailored software applications that address the unique needs of its clients, ranging from custom-built CRMs to enterprise resource planning (ERP) systems.')]"
            ]
          },
          "execution_count": 38,
          "metadata": {},
          "output_type": "execute_result"
        }
      ],
      "source": [
        "from langchain.chains import create_history_aware_retriever\n",
        "history_aware_retriever = create_history_aware_retriever(\n",
        "    llm,\n",
        "    retriever,\n",
        "    contextualize_q_prompt\n",
        ")\n",
        "history_aware_retriever.invoke({\"input\": \"How has TechNova evolved since its founding in 2010?\", \"chat_history\": chat_history})"
      ]
    },
    {
      "cell_type": "code",
      "execution_count": 39,
      "metadata": {
        "colab": {
          "base_uri": "https://localhost:8080/"
        },
        "id": "NRvNKqCXXg36",
        "outputId": "abdf04c1-53a8-41e0-aba6-87a65d956e09"
      },
      "outputs": [
        {
          "data": {
            "text/plain": [
              "[Document(id='e84e0c2a-c13c-44e7-8b6f-79de28019509', metadata={'source': 'D:\\\\chatbot_project\\\\app\\\\KB\\\\KB.docx'}, page_content='TechNova Solutions Company Profile\\n\\nTechNova Solutions is a leading technology consultancy firm founded in 2010 and headquartered in Silicon Valley, California. The company has been at the forefront of providing innovative and cutting-edge technology solutions to businesses, helping them thrive in the digital world. With a mission to empower organizations through digital transformation, TechNova delivers services across a variety of domains, including digital transformation, cloud solutions, cybersecurity, software development, and consulting.\\n\\nSince its inception, TechNova Solutions has built a reputation for excellence and customer-centricity. The company focuses on delivering high-quality solutions tailored to the unique needs of each business. The core values of the company—Innovation, Integrity, Customer-Centricity, and Collaboration—have helped it become a trusted partner for enterprises looking to harness the full potential of technology.'),\n",
              " Document(id='a275a1e9-fe93-4648-98db-a8501ffa46f9', metadata={'source': 'D:\\\\chatbot_project\\\\app\\\\KB\\\\KB.docx'}, page_content='The founder and CEO, Sarah Johnson, has over 15 years of experience in technology consulting and has led the company to great heights. Under her leadership, TechNova has achieved significant milestones, including the launch of its cybersecurity division in 2018 and the expansion into international markets with the opening of an office in London in 2020. James Patel, the Chief Technology Officer (CTO), leads the company’s technical strategy, specializing in cloud computing and driving innovations that have placed TechNova among the top consultancies in the tech industry.\\n\\nThe company has also been recognized for its excellence. In 2021, TechNova was ranked among the Top 100 Most Innovative Tech Companies by TechReview Magazine, and in 2022, Sarah Johnson was named Innovator of the Year at the Global Technology Awards. Additionally, TechNova was awarded the Best Cloud Solutions Provider accolade at the National IT Awards in 2023.\\n\\nServices')]"
            ]
          },
          "execution_count": 39,
          "metadata": {},
          "output_type": "execute_result"
        }
      ],
      "source": [
        "retriever.invoke(\"How has TechNova evolved since its founding in 2010?\")"
      ]
    },
    {
      "cell_type": "code",
      "execution_count": 40,
      "metadata": {
        "id": "tb7c96-y3R_1"
      },
      "outputs": [],
      "source": [
        "from langchain.chains import create_retrieval_chain\n",
        "from langchain.chains.combine_documents import create_stuff_documents_chain\n",
        "\n",
        "qa_prompt = ChatPromptTemplate.from_messages([\n",
        "    (\"system\", \"You are a helpful AI assistant. Use the following context to answer the user's question.\"),\n",
        "    (\"system\", \"Context: {context}\"),\n",
        "    MessagesPlaceholder(variable_name=\"chat_history\"),\n",
        "    (\"human\", \"{input}\")\n",
        "])\n",
        "\n",
        "question_answer_chain = create_stuff_documents_chain(llm, qa_prompt)\n",
        "rag_chain = create_retrieval_chain(history_aware_retriever, question_answer_chain)\n"
      ]
    },
    {
      "cell_type": "code",
      "execution_count": 41,
      "metadata": {
        "colab": {
          "base_uri": "https://localhost:8080/"
        },
        "id": "nJ4OcbgTiGy8",
        "outputId": "0bf8ff4d-2fae-4317-d566-865f9061b3e5"
      },
      "outputs": [
        {
          "data": {
            "text/plain": [
              "{'input': 'How has TechNova evolved since its founding in 2010?',\n",
              " 'chat_history': [HumanMessage(content='What makes TechNova Solutions stand out from other tech consultancies?', additional_kwargs={}, response_metadata={}),\n",
              "  AIMessage(content=\"TechNova Solutions stands out from other tech consultancies due to its strong emphasis on customer-centricity, innovation, and collaboration, which are core values of the company. Their commitment to delivering tailored high-quality solutions that address the unique needs of each client, along with a reputation for excellence, sets them apart. Additionally, their comprehensive service offerings—including digital transformation, cloud solutions, cybersecurity, software development, and consulting—demonstrate their ability to empower organizations effectively in the digital landscape. TechNova's recognition through various awards, such as being named one of the Top 100 Most Innovative Tech Companies and receiving the Best Cloud Solutions Provider award, further highlights their leadership and achievements in the industry.\", additional_kwargs={}, response_metadata={})],\n",
              " 'context': [Document(id='e84e0c2a-c13c-44e7-8b6f-79de28019509', metadata={'source': 'D:\\\\chatbot_project\\\\app\\\\KB\\\\KB.docx'}, page_content='TechNova Solutions Company Profile\\n\\nTechNova Solutions is a leading technology consultancy firm founded in 2010 and headquartered in Silicon Valley, California. The company has been at the forefront of providing innovative and cutting-edge technology solutions to businesses, helping them thrive in the digital world. With a mission to empower organizations through digital transformation, TechNova delivers services across a variety of domains, including digital transformation, cloud solutions, cybersecurity, software development, and consulting.\\n\\nSince its inception, TechNova Solutions has built a reputation for excellence and customer-centricity. The company focuses on delivering high-quality solutions tailored to the unique needs of each business. The core values of the company—Innovation, Integrity, Customer-Centricity, and Collaboration—have helped it become a trusted partner for enterprises looking to harness the full potential of technology.'),\n",
              "  Document(id='ba4f99db-9a02-42da-88b3-a46314498034', metadata={'source': 'D:\\\\chatbot_project\\\\app\\\\KB\\\\KB.docx'}, page_content='Services\\n\\nTechNova Solutions offers a comprehensive suite of services aimed at helping businesses navigate and succeed in the digital age. These include:\\n\\nDigital Transformation: TechNova partners with businesses to guide them through their digital transformation journey, modernizing processes, improving efficiencies, and enabling growth through technology.\\n\\nCloud Solutions: The company provides end-to-end cloud services, including migration to cloud platforms, cloud management, and custom cloud solutions that ensure scalability and performance.\\n\\nCybersecurity: TechNova provides robust cybersecurity solutions to protect businesses from cyber threats, helping them safeguard their data and critical infrastructure.\\n\\nSoftware Development: The company builds tailored software applications that address the unique needs of its clients, ranging from custom-built CRMs to enterprise resource planning (ERP) systems.')],\n",
              " 'answer': 'Since its founding in 2010, TechNova Solutions has evolved significantly in several ways. Initially focused on providing basic technology consultancy services, the company has expanded its service offerings to encompass a comprehensive suite that includes digital transformation, cloud solutions, cybersecurity, and software development. \\n\\nOver the years, TechNova has embraced the rapid advancements in technology, positioning itself as a leader in helping businesses navigate the complexities of the digital world. Their approach to digital transformation has become more sophisticated, leveraging the latest technologies to modernize processes and improve efficiencies for clients.\\n\\nMoreover, TechNova has built a strong reputation for customer-centricity and excellence, which has helped it to attract and retain a diverse range of clients. The company has also invested in building a skilled workforce, fostering innovation, and developing collaborative partnerships within the tech ecosystem.\\n\\nThrough these strategic adaptations and an unwavering focus on empowering organizations, TechNova Solutions has solidified its status as a trusted partner for businesses seeking to harness the full potential of technology.'}"
            ]
          },
          "execution_count": 41,
          "metadata": {},
          "output_type": "execute_result"
        }
      ],
      "source": [
        "rag_chain.invoke({\"input\": \"How has TechNova evolved since its founding in 2010?\", \"chat_history\": chat_history})"
      ]
    },
    {
      "cell_type": "markdown",
      "metadata": {
        "id": "BMaeZnwDjN3R"
      },
      "source": [
        "Creating Database to store data of different chats."
      ]
    },
    {
      "cell_type": "code",
      "execution_count": 42,
      "metadata": {
        "id": "LZ0ZtYRhjUtO"
      },
      "outputs": [],
      "source": [
        "import sqlite3\n",
        "from datetime import datetime\n",
        "import uuid\n",
        "\n",
        "DB_NAME = \"rag_app.db\"\n",
        "\n",
        "def get_db_connection():\n",
        "    conn = sqlite3.connect(DB_NAME)\n",
        "    conn.row_factory = sqlite3.Row\n",
        "    return conn\n",
        "\n",
        "def create_application_logs():\n",
        "    conn = get_db_connection()\n",
        "    conn.execute('''CREATE TABLE IF NOT EXISTS application_logs\n",
        "    (id INTEGER PRIMARY KEY AUTOINCREMENT,\n",
        "    session_id TEXT,\n",
        "    user_query TEXT,\n",
        "    gpt_response TEXT,\n",
        "    model TEXT,\n",
        "    created_at TIMESTAMP DEFAULT CURRENT_TIMESTAMP)''')\n",
        "    conn.close()\n",
        "\n",
        "def insert_application_logs(session_id, user_query, gpt_response, model):\n",
        "    conn = get_db_connection()\n",
        "    conn.execute('INSERT INTO application_logs (session_id, user_query, gpt_response, model) VALUES (?, ?, ?, ?)',\n",
        "                 (session_id, user_query, gpt_response, model))\n",
        "    conn.commit()\n",
        "    conn.close()\n",
        "\n",
        "def get_chat_history(session_id):\n",
        "    conn = get_db_connection()\n",
        "    cursor = conn.cursor()\n",
        "    cursor.execute('SELECT user_query, gpt_response FROM application_logs WHERE session_id = ? ORDER BY created_at', (session_id,))\n",
        "    messages = []\n",
        "    for row in cursor.fetchall():\n",
        "        messages.extend([\n",
        "            {\"role\": \"human\", \"content\": row['user_query']},\n",
        "            {\"role\": \"ai\", \"content\": row['gpt_response']}\n",
        "        ])\n",
        "    conn.close()\n",
        "    return messages\n",
        "\n",
        "# Initialize the database\n",
        "create_application_logs()\n"
      ]
    },
    {
      "cell_type": "code",
      "execution_count": 43,
      "metadata": {
        "colab": {
          "base_uri": "https://localhost:8080/"
        },
        "id": "UQZvoPmckCLi",
        "outputId": "f67572a9-5372-4d55-b039-8ba489e46745"
      },
      "outputs": [
        {
          "name": "stdout",
          "output_type": "stream",
          "text": [
            "Human: How has TechNova evolved since its founding in 2010?\n",
            "AI: Since its founding in 2010, TechNova Solutions has undergone significant evolution in various aspects:\n",
            "\n",
            "1. **Service Expansion**: Initially focused on technology consulting, TechNova has expanded its service offerings to include digital transformation, cloud solutions, cybersecurity, and software development, allowing them to address a broader range of client needs.\n",
            "\n",
            "2. **Cybersecurity Division**: In 2018, TechNova launched its dedicated cybersecurity division, recognizing the growing importance of security in the digital landscape. This strategic move positioned the company as a comprehensive service provider in an increasingly critical area.\n",
            "\n",
            "3. **International Growth**: In 2020, TechNova expanded its operations internationally by opening an office in London. This marked a significant milestone in the company's growth strategy, allowing it to serve clients in new markets.\n",
            "\n",
            "4. **Recognition and Awards**: The company has received multiple accolades, including being ranked among the Top 100 Most Innovative Tech Companies by TechReview Magazine in 2021 and winning the Best Cloud Solutions Provider at the National IT Awards in 2023. Additionally, founder and CEO Sarah Johnson was named Innovator of the Year at the Global Technology Awards in 2022.\n",
            "\n",
            "5. **Leadership and Innovation**: Under the leadership of Sarah Johnson, who has extensive experience in technology consulting, and with James Patel as CTO focusing on cloud computing and innovations, TechNova has solidified its reputation as a leading player in the technology consultancy space.\n",
            "\n",
            "Overall, TechNova Solutions has successfully adapted to the evolving tech landscape while maintaining its core values of innovation, integrity, customer-centricity, and collaboration.\n",
            "\n"
          ]
        }
      ],
      "source": [
        "# Example usage for a new user\n",
        "session_id = str(uuid.uuid4())\n",
        "question = \"How has TechNova evolved since its founding in 2010?\"\n",
        "chat_history = get_chat_history(session_id)\n",
        "answer = rag_chain.invoke({\"input\": question, \"chat_history\": chat_history})['answer']\n",
        "insert_application_logs(session_id, question, answer, \"gpt-3.5-turbo\")\n",
        "print(f\"Human: {question}\")\n",
        "print(f\"AI: {answer}\\n\")\n",
        "\n"
      ]
    },
    {
      "cell_type": "code",
      "execution_count": 44,
      "metadata": {
        "colab": {
          "base_uri": "https://localhost:8080/"
        },
        "id": "iclbnsymk318",
        "outputId": "c1b0f5a9-9e33-4f25-e1a6-49374da4e018"
      },
      "outputs": [
        {
          "name": "stdout",
          "output_type": "stream",
          "text": [
            "Human: What has been TechNova’s biggest milestone so far?\n",
            "AI: TechNova's biggest milestone so far has likely been the launch of its cybersecurity division in 2018. This strategic move not only showcased the company's ability to adapt to emerging industry needs but also significantly expanded its service offerings in a crucial area of technology. The establishment of this division has enhanced TechNova's reputation as a comprehensive technology consultancy and positioned it to address the growing demand for cybersecurity solutions in an increasingly digital world. \n",
            "\n",
            "Additionally, the recognition as one of the Top 100 Most Innovative Tech Companies by TechReview Magazine in 2021 and receiving the Best Cloud Solutions Provider award at the National IT Awards in 2023 further underscore its achievements and impact in the tech industry. However, the launch of the cybersecurity division represents a foundational change that has allowed subsequent growth and innovation within the company.\n"
          ]
        }
      ],
      "source": [
        "# Example of a follow-up question\n",
        "question2 = \"What has been TechNova’s biggest milestone so far?\"\n",
        "chat_history = get_chat_history(session_id)\n",
        "answer2 = rag_chain.invoke({\"input\": question2, \"chat_history\": chat_history})['answer']\n",
        "insert_application_logs(session_id, question2, answer2, \"gpt-3.5-turbo\")\n",
        "print(f\"Human: {question2}\")\n",
        "print(f\"AI: {answer2}\")"
      ]
    },
    {
      "cell_type": "code",
      "execution_count": 45,
      "metadata": {},
      "outputs": [
        {
          "name": "stderr",
          "output_type": "stream",
          "text": [
            "C:\\Users\\yasir\\AppData\\Local\\Temp\\ipykernel_12184\\2978907085.py:8: LangChainDeprecationWarning: The class `OpenAIEmbeddings` was deprecated in LangChain 0.0.9 and will be removed in 1.0. An updated version of the class exists in the :class:`~langchain-openai package and should be used instead. To use it run `pip install -U :class:`~langchain-openai` and import as `from :class:`~langchain_openai import OpenAIEmbeddings``.\n",
            "  vectorstore = Chroma(embedding_function=OpenAIEmbeddings())\n",
            "C:\\Users\\yasir\\AppData\\Local\\Temp\\ipykernel_12184\\2978907085.py:8: LangChainDeprecationWarning: The class `Chroma` was deprecated in LangChain 0.2.9 and will be removed in 1.0. An updated version of the class exists in the :class:`~langchain-chroma package and should be used instead. To use it run `pip install -U :class:`~langchain-chroma` and import as `from :class:`~langchain_chroma import Chroma``.\n",
            "  vectorstore = Chroma(embedding_function=OpenAIEmbeddings())\n"
          ]
        }
      ],
      "source": [
        "from langchain.chains import RetrievalQA\n",
        "from langchain_openai import OpenAI\n",
        "from langchain_community.vectorstores import Chroma\n",
        "from langchain.embeddings import OpenAIEmbeddings\n",
        "\n",
        "# Initialize the necessary components\n",
        "llm = OpenAI()\n",
        "vectorstore = Chroma(embedding_function=OpenAIEmbeddings())\n",
        "qa = RetrievalQA.from_chain_type(llm, retriever=vectorstore.as_retriever())\n",
        "\n",
        "def chatbot_function(user_input):\n",
        "    \"\"\"Processes user input and returns chatbot response.\"\"\"\n",
        "    response = qa.run(user_input)\n",
        "    return response\n"
      ]
    }
  ],
  "metadata": {
    "colab": {
      "provenance": []
    },
    "kernelspec": {
      "display_name": "Python 3",
      "language": "python",
      "name": "python3"
    },
    "language_info": {
      "codemirror_mode": {
        "name": "ipython",
        "version": 3
      },
      "file_extension": ".py",
      "mimetype": "text/x-python",
      "name": "python",
      "nbconvert_exporter": "python",
      "pygments_lexer": "ipython3",
      "version": "3.12.5"
    },
    "widgets": {
      "application/vnd.jupyter.widget-state+json": {
        "03cdb2f4014442fca1a3597fe6022b16": {
          "model_module": "@jupyter-widgets/controls",
          "model_module_version": "1.5.0",
          "model_name": "DescriptionStyleModel",
          "state": {
            "_model_module": "@jupyter-widgets/controls",
            "_model_module_version": "1.5.0",
            "_model_name": "DescriptionStyleModel",
            "_view_count": null,
            "_view_module": "@jupyter-widgets/base",
            "_view_module_version": "1.2.0",
            "_view_name": "StyleView",
            "description_width": ""
          }
        },
        "0599dd1a0ecc4fe9817128f9ccc25732": {
          "model_module": "@jupyter-widgets/base",
          "model_module_version": "1.2.0",
          "model_name": "LayoutModel",
          "state": {
            "_model_module": "@jupyter-widgets/base",
            "_model_module_version": "1.2.0",
            "_model_name": "LayoutModel",
            "_view_count": null,
            "_view_module": "@jupyter-widgets/base",
            "_view_module_version": "1.2.0",
            "_view_name": "LayoutView",
            "align_content": null,
            "align_items": null,
            "align_self": null,
            "border": null,
            "bottom": null,
            "display": null,
            "flex": null,
            "flex_flow": null,
            "grid_area": null,
            "grid_auto_columns": null,
            "grid_auto_flow": null,
            "grid_auto_rows": null,
            "grid_column": null,
            "grid_gap": null,
            "grid_row": null,
            "grid_template_areas": null,
            "grid_template_columns": null,
            "grid_template_rows": null,
            "height": null,
            "justify_content": null,
            "justify_items": null,
            "left": null,
            "margin": null,
            "max_height": null,
            "max_width": null,
            "min_height": null,
            "min_width": null,
            "object_fit": null,
            "object_position": null,
            "order": null,
            "overflow": null,
            "overflow_x": null,
            "overflow_y": null,
            "padding": null,
            "right": null,
            "top": null,
            "visibility": null,
            "width": null
          }
        },
        "072bb3b286204e6a91ce8c022ff60c74": {
          "model_module": "@jupyter-widgets/controls",
          "model_module_version": "1.5.0",
          "model_name": "HBoxModel",
          "state": {
            "_dom_classes": [],
            "_model_module": "@jupyter-widgets/controls",
            "_model_module_version": "1.5.0",
            "_model_name": "HBoxModel",
            "_view_count": null,
            "_view_module": "@jupyter-widgets/controls",
            "_view_module_version": "1.5.0",
            "_view_name": "HBoxView",
            "box_style": "",
            "children": [
              "IPY_MODEL_0e13f2cbc3c1418a88b1d076e438c464",
              "IPY_MODEL_df2207934eeb410fb7d9917cdbae15b4",
              "IPY_MODEL_66b98cce692f425e890c1f7b1cae51b0"
            ],
            "layout": "IPY_MODEL_6ccdcb7476d848128e1662b86b552b8b"
          }
        },
        "08672287f04744a6a323afe5e1c9c785": {
          "model_module": "@jupyter-widgets/controls",
          "model_module_version": "1.5.0",
          "model_name": "DescriptionStyleModel",
          "state": {
            "_model_module": "@jupyter-widgets/controls",
            "_model_module_version": "1.5.0",
            "_model_name": "DescriptionStyleModel",
            "_view_count": null,
            "_view_module": "@jupyter-widgets/base",
            "_view_module_version": "1.2.0",
            "_view_name": "StyleView",
            "description_width": ""
          }
        },
        "089d4544885c48b9bea3a2a87f72a49f": {
          "model_module": "@jupyter-widgets/controls",
          "model_module_version": "1.5.0",
          "model_name": "ProgressStyleModel",
          "state": {
            "_model_module": "@jupyter-widgets/controls",
            "_model_module_version": "1.5.0",
            "_model_name": "ProgressStyleModel",
            "_view_count": null,
            "_view_module": "@jupyter-widgets/base",
            "_view_module_version": "1.2.0",
            "_view_name": "StyleView",
            "bar_color": null,
            "description_width": ""
          }
        },
        "08e024a134cc45429030a2f8cb28fcd1": {
          "model_module": "@jupyter-widgets/base",
          "model_module_version": "1.2.0",
          "model_name": "LayoutModel",
          "state": {
            "_model_module": "@jupyter-widgets/base",
            "_model_module_version": "1.2.0",
            "_model_name": "LayoutModel",
            "_view_count": null,
            "_view_module": "@jupyter-widgets/base",
            "_view_module_version": "1.2.0",
            "_view_name": "LayoutView",
            "align_content": null,
            "align_items": null,
            "align_self": null,
            "border": null,
            "bottom": null,
            "display": null,
            "flex": null,
            "flex_flow": null,
            "grid_area": null,
            "grid_auto_columns": null,
            "grid_auto_flow": null,
            "grid_auto_rows": null,
            "grid_column": null,
            "grid_gap": null,
            "grid_row": null,
            "grid_template_areas": null,
            "grid_template_columns": null,
            "grid_template_rows": null,
            "height": null,
            "justify_content": null,
            "justify_items": null,
            "left": null,
            "margin": null,
            "max_height": null,
            "max_width": null,
            "min_height": null,
            "min_width": null,
            "object_fit": null,
            "object_position": null,
            "order": null,
            "overflow": null,
            "overflow_x": null,
            "overflow_y": null,
            "padding": null,
            "right": null,
            "top": null,
            "visibility": null,
            "width": null
          }
        },
        "0aa3031ac3f2477a8bb74b4bde79d431": {
          "model_module": "@jupyter-widgets/base",
          "model_module_version": "1.2.0",
          "model_name": "LayoutModel",
          "state": {
            "_model_module": "@jupyter-widgets/base",
            "_model_module_version": "1.2.0",
            "_model_name": "LayoutModel",
            "_view_count": null,
            "_view_module": "@jupyter-widgets/base",
            "_view_module_version": "1.2.0",
            "_view_name": "LayoutView",
            "align_content": null,
            "align_items": null,
            "align_self": null,
            "border": null,
            "bottom": null,
            "display": null,
            "flex": null,
            "flex_flow": null,
            "grid_area": null,
            "grid_auto_columns": null,
            "grid_auto_flow": null,
            "grid_auto_rows": null,
            "grid_column": null,
            "grid_gap": null,
            "grid_row": null,
            "grid_template_areas": null,
            "grid_template_columns": null,
            "grid_template_rows": null,
            "height": null,
            "justify_content": null,
            "justify_items": null,
            "left": null,
            "margin": null,
            "max_height": null,
            "max_width": null,
            "min_height": null,
            "min_width": null,
            "object_fit": null,
            "object_position": null,
            "order": null,
            "overflow": null,
            "overflow_x": null,
            "overflow_y": null,
            "padding": null,
            "right": null,
            "top": null,
            "visibility": null,
            "width": null
          }
        },
        "0c32aaee650f429dbe9d189de649b178": {
          "model_module": "@jupyter-widgets/controls",
          "model_module_version": "1.5.0",
          "model_name": "HTMLModel",
          "state": {
            "_dom_classes": [],
            "_model_module": "@jupyter-widgets/controls",
            "_model_module_version": "1.5.0",
            "_model_name": "HTMLModel",
            "_view_count": null,
            "_view_module": "@jupyter-widgets/controls",
            "_view_module_version": "1.5.0",
            "_view_name": "HTMLView",
            "description": "",
            "description_tooltip": null,
            "layout": "IPY_MODEL_7475014311794de9aeaa0977c7d00bc1",
            "placeholder": "​",
            "style": "IPY_MODEL_08672287f04744a6a323afe5e1c9c785",
            "value": " 112/112 [00:00&lt;00:00, 6.28kB/s]"
          }
        },
        "0d92bbf9ad914d368fa4af9c37f119e1": {
          "model_module": "@jupyter-widgets/controls",
          "model_module_version": "1.5.0",
          "model_name": "FloatProgressModel",
          "state": {
            "_dom_classes": [],
            "_model_module": "@jupyter-widgets/controls",
            "_model_module_version": "1.5.0",
            "_model_name": "FloatProgressModel",
            "_view_count": null,
            "_view_module": "@jupyter-widgets/controls",
            "_view_module_version": "1.5.0",
            "_view_name": "ProgressView",
            "bar_style": "success",
            "description": "",
            "description_tooltip": null,
            "layout": "IPY_MODEL_502a5429cbbf4078bd898b9433f2e893",
            "max": 116,
            "min": 0,
            "orientation": "horizontal",
            "style": "IPY_MODEL_5ecb70e5356e473380d1d2b6d38d8f88",
            "value": 116
          }
        },
        "0e13f2cbc3c1418a88b1d076e438c464": {
          "model_module": "@jupyter-widgets/controls",
          "model_module_version": "1.5.0",
          "model_name": "HTMLModel",
          "state": {
            "_dom_classes": [],
            "_model_module": "@jupyter-widgets/controls",
            "_model_module_version": "1.5.0",
            "_model_name": "HTMLModel",
            "_view_count": null,
            "_view_module": "@jupyter-widgets/controls",
            "_view_module_version": "1.5.0",
            "_view_name": "HTMLView",
            "description": "",
            "description_tooltip": null,
            "layout": "IPY_MODEL_9e338cc00fe74fd4be1305d47982be60",
            "placeholder": "​",
            "style": "IPY_MODEL_03cdb2f4014442fca1a3597fe6022b16",
            "value": "vocab.txt: 100%"
          }
        },
        "101c3c1a4a2c46f99aa726cd87b60248": {
          "model_module": "@jupyter-widgets/controls",
          "model_module_version": "1.5.0",
          "model_name": "FloatProgressModel",
          "state": {
            "_dom_classes": [],
            "_model_module": "@jupyter-widgets/controls",
            "_model_module_version": "1.5.0",
            "_model_name": "FloatProgressModel",
            "_view_count": null,
            "_view_module": "@jupyter-widgets/controls",
            "_view_module_version": "1.5.0",
            "_view_name": "ProgressView",
            "bar_style": "success",
            "description": "",
            "description_tooltip": null,
            "layout": "IPY_MODEL_08e024a134cc45429030a2f8cb28fcd1",
            "max": 10454,
            "min": 0,
            "orientation": "horizontal",
            "style": "IPY_MODEL_dd73831c2d6940ce9e2cfb3014618ca9",
            "value": 10454
          }
        },
        "11276d38bdce413badba21b0aba1b3d2": {
          "model_module": "@jupyter-widgets/controls",
          "model_module_version": "1.5.0",
          "model_name": "HBoxModel",
          "state": {
            "_dom_classes": [],
            "_model_module": "@jupyter-widgets/controls",
            "_model_module_version": "1.5.0",
            "_model_name": "HBoxModel",
            "_view_count": null,
            "_view_module": "@jupyter-widgets/controls",
            "_view_module_version": "1.5.0",
            "_view_name": "HBoxView",
            "box_style": "",
            "children": [
              "IPY_MODEL_44680fadb0b443f5a36b794b9d11e99f",
              "IPY_MODEL_366b5a21f3f947f9a7e825ce0ecd6be9",
              "IPY_MODEL_b96487b160604f1e9dbbf180552dc94d"
            ],
            "layout": "IPY_MODEL_c005a3733a554223931a6cccf646dc63"
          }
        },
        "1244296443ae4dd5917ad0ef882d9049": {
          "model_module": "@jupyter-widgets/controls",
          "model_module_version": "1.5.0",
          "model_name": "HBoxModel",
          "state": {
            "_dom_classes": [],
            "_model_module": "@jupyter-widgets/controls",
            "_model_module_version": "1.5.0",
            "_model_name": "HBoxModel",
            "_view_count": null,
            "_view_module": "@jupyter-widgets/controls",
            "_view_module_version": "1.5.0",
            "_view_name": "HBoxView",
            "box_style": "",
            "children": [
              "IPY_MODEL_bf82c7fb49344862a79300678230c358",
              "IPY_MODEL_0d92bbf9ad914d368fa4af9c37f119e1",
              "IPY_MODEL_923b84e7471d42b39a8a5c7bd9755770"
            ],
            "layout": "IPY_MODEL_c873478c47c44ff69beecd5555d260d8"
          }
        },
        "14228a1b40614671be5523d9a1f2c830": {
          "model_module": "@jupyter-widgets/base",
          "model_module_version": "1.2.0",
          "model_name": "LayoutModel",
          "state": {
            "_model_module": "@jupyter-widgets/base",
            "_model_module_version": "1.2.0",
            "_model_name": "LayoutModel",
            "_view_count": null,
            "_view_module": "@jupyter-widgets/base",
            "_view_module_version": "1.2.0",
            "_view_name": "LayoutView",
            "align_content": null,
            "align_items": null,
            "align_self": null,
            "border": null,
            "bottom": null,
            "display": null,
            "flex": null,
            "flex_flow": null,
            "grid_area": null,
            "grid_auto_columns": null,
            "grid_auto_flow": null,
            "grid_auto_rows": null,
            "grid_column": null,
            "grid_gap": null,
            "grid_row": null,
            "grid_template_areas": null,
            "grid_template_columns": null,
            "grid_template_rows": null,
            "height": null,
            "justify_content": null,
            "justify_items": null,
            "left": null,
            "margin": null,
            "max_height": null,
            "max_width": null,
            "min_height": null,
            "min_width": null,
            "object_fit": null,
            "object_position": null,
            "order": null,
            "overflow": null,
            "overflow_x": null,
            "overflow_y": null,
            "padding": null,
            "right": null,
            "top": null,
            "visibility": null,
            "width": null
          }
        },
        "176aef0d1a0d40758161db03a672901d": {
          "model_module": "@jupyter-widgets/base",
          "model_module_version": "1.2.0",
          "model_name": "LayoutModel",
          "state": {
            "_model_module": "@jupyter-widgets/base",
            "_model_module_version": "1.2.0",
            "_model_name": "LayoutModel",
            "_view_count": null,
            "_view_module": "@jupyter-widgets/base",
            "_view_module_version": "1.2.0",
            "_view_name": "LayoutView",
            "align_content": null,
            "align_items": null,
            "align_self": null,
            "border": null,
            "bottom": null,
            "display": null,
            "flex": null,
            "flex_flow": null,
            "grid_area": null,
            "grid_auto_columns": null,
            "grid_auto_flow": null,
            "grid_auto_rows": null,
            "grid_column": null,
            "grid_gap": null,
            "grid_row": null,
            "grid_template_areas": null,
            "grid_template_columns": null,
            "grid_template_rows": null,
            "height": null,
            "justify_content": null,
            "justify_items": null,
            "left": null,
            "margin": null,
            "max_height": null,
            "max_width": null,
            "min_height": null,
            "min_width": null,
            "object_fit": null,
            "object_position": null,
            "order": null,
            "overflow": null,
            "overflow_x": null,
            "overflow_y": null,
            "padding": null,
            "right": null,
            "top": null,
            "visibility": null,
            "width": null
          }
        },
        "17ad5ca515804a65a05e989c312b4873": {
          "model_module": "@jupyter-widgets/controls",
          "model_module_version": "1.5.0",
          "model_name": "DescriptionStyleModel",
          "state": {
            "_model_module": "@jupyter-widgets/controls",
            "_model_module_version": "1.5.0",
            "_model_name": "DescriptionStyleModel",
            "_view_count": null,
            "_view_module": "@jupyter-widgets/base",
            "_view_module_version": "1.2.0",
            "_view_name": "StyleView",
            "description_width": ""
          }
        },
        "17b6cdc2a6274cb6b5a8868ac92bc946": {
          "model_module": "@jupyter-widgets/controls",
          "model_module_version": "1.5.0",
          "model_name": "HTMLModel",
          "state": {
            "_dom_classes": [],
            "_model_module": "@jupyter-widgets/controls",
            "_model_module_version": "1.5.0",
            "_model_name": "HTMLModel",
            "_view_count": null,
            "_view_module": "@jupyter-widgets/controls",
            "_view_module_version": "1.5.0",
            "_view_name": "HTMLView",
            "description": "",
            "description_tooltip": null,
            "layout": "IPY_MODEL_41d9b50fecea4916ba861eb4ea7c91c6",
            "placeholder": "​",
            "style": "IPY_MODEL_17ad5ca515804a65a05e989c312b4873",
            "value": "special_tokens_map.json: 100%"
          }
        },
        "18aafcc7265841d4aa6b4af69098b2a3": {
          "model_module": "@jupyter-widgets/base",
          "model_module_version": "1.2.0",
          "model_name": "LayoutModel",
          "state": {
            "_model_module": "@jupyter-widgets/base",
            "_model_module_version": "1.2.0",
            "_model_name": "LayoutModel",
            "_view_count": null,
            "_view_module": "@jupyter-widgets/base",
            "_view_module_version": "1.2.0",
            "_view_name": "LayoutView",
            "align_content": null,
            "align_items": null,
            "align_self": null,
            "border": null,
            "bottom": null,
            "display": null,
            "flex": null,
            "flex_flow": null,
            "grid_area": null,
            "grid_auto_columns": null,
            "grid_auto_flow": null,
            "grid_auto_rows": null,
            "grid_column": null,
            "grid_gap": null,
            "grid_row": null,
            "grid_template_areas": null,
            "grid_template_columns": null,
            "grid_template_rows": null,
            "height": null,
            "justify_content": null,
            "justify_items": null,
            "left": null,
            "margin": null,
            "max_height": null,
            "max_width": null,
            "min_height": null,
            "min_width": null,
            "object_fit": null,
            "object_position": null,
            "order": null,
            "overflow": null,
            "overflow_x": null,
            "overflow_y": null,
            "padding": null,
            "right": null,
            "top": null,
            "visibility": null,
            "width": null
          }
        },
        "199a0a45c88c44df91643cc9e7818213": {
          "model_module": "@jupyter-widgets/controls",
          "model_module_version": "1.5.0",
          "model_name": "HTMLModel",
          "state": {
            "_dom_classes": [],
            "_model_module": "@jupyter-widgets/controls",
            "_model_module_version": "1.5.0",
            "_model_name": "HTMLModel",
            "_view_count": null,
            "_view_module": "@jupyter-widgets/controls",
            "_view_module_version": "1.5.0",
            "_view_name": "HTMLView",
            "description": "",
            "description_tooltip": null,
            "layout": "IPY_MODEL_26619b56927644af9d461991341f818f",
            "placeholder": "​",
            "style": "IPY_MODEL_7a9f170546074f6298d957a696a70a7e",
            "value": "config.json: 100%"
          }
        },
        "226f4dc3ba2f494fa7eba05c4b3abad0": {
          "model_module": "@jupyter-widgets/controls",
          "model_module_version": "1.5.0",
          "model_name": "DescriptionStyleModel",
          "state": {
            "_model_module": "@jupyter-widgets/controls",
            "_model_module_version": "1.5.0",
            "_model_name": "DescriptionStyleModel",
            "_view_count": null,
            "_view_module": "@jupyter-widgets/base",
            "_view_module_version": "1.2.0",
            "_view_name": "StyleView",
            "description_width": ""
          }
        },
        "228c8b25549a4a0a88be8643868b72a5": {
          "model_module": "@jupyter-widgets/controls",
          "model_module_version": "1.5.0",
          "model_name": "HBoxModel",
          "state": {
            "_dom_classes": [],
            "_model_module": "@jupyter-widgets/controls",
            "_model_module_version": "1.5.0",
            "_model_name": "HBoxModel",
            "_view_count": null,
            "_view_module": "@jupyter-widgets/controls",
            "_view_module_version": "1.5.0",
            "_view_name": "HBoxView",
            "box_style": "",
            "children": [
              "IPY_MODEL_b2a614f3194440b390e95ed856f35642",
              "IPY_MODEL_744626ac5e484ed5aa81df653f199c43",
              "IPY_MODEL_70c24513325a422f96dc0abc15329123"
            ],
            "layout": "IPY_MODEL_632b838ce37b40738a1db28a8f2df765"
          }
        },
        "256901e93ebe48658087487aa46d52dd": {
          "model_module": "@jupyter-widgets/base",
          "model_module_version": "1.2.0",
          "model_name": "LayoutModel",
          "state": {
            "_model_module": "@jupyter-widgets/base",
            "_model_module_version": "1.2.0",
            "_model_name": "LayoutModel",
            "_view_count": null,
            "_view_module": "@jupyter-widgets/base",
            "_view_module_version": "1.2.0",
            "_view_name": "LayoutView",
            "align_content": null,
            "align_items": null,
            "align_self": null,
            "border": null,
            "bottom": null,
            "display": null,
            "flex": null,
            "flex_flow": null,
            "grid_area": null,
            "grid_auto_columns": null,
            "grid_auto_flow": null,
            "grid_auto_rows": null,
            "grid_column": null,
            "grid_gap": null,
            "grid_row": null,
            "grid_template_areas": null,
            "grid_template_columns": null,
            "grid_template_rows": null,
            "height": null,
            "justify_content": null,
            "justify_items": null,
            "left": null,
            "margin": null,
            "max_height": null,
            "max_width": null,
            "min_height": null,
            "min_width": null,
            "object_fit": null,
            "object_position": null,
            "order": null,
            "overflow": null,
            "overflow_x": null,
            "overflow_y": null,
            "padding": null,
            "right": null,
            "top": null,
            "visibility": null,
            "width": null
          }
        },
        "26619b56927644af9d461991341f818f": {
          "model_module": "@jupyter-widgets/base",
          "model_module_version": "1.2.0",
          "model_name": "LayoutModel",
          "state": {
            "_model_module": "@jupyter-widgets/base",
            "_model_module_version": "1.2.0",
            "_model_name": "LayoutModel",
            "_view_count": null,
            "_view_module": "@jupyter-widgets/base",
            "_view_module_version": "1.2.0",
            "_view_name": "LayoutView",
            "align_content": null,
            "align_items": null,
            "align_self": null,
            "border": null,
            "bottom": null,
            "display": null,
            "flex": null,
            "flex_flow": null,
            "grid_area": null,
            "grid_auto_columns": null,
            "grid_auto_flow": null,
            "grid_auto_rows": null,
            "grid_column": null,
            "grid_gap": null,
            "grid_row": null,
            "grid_template_areas": null,
            "grid_template_columns": null,
            "grid_template_rows": null,
            "height": null,
            "justify_content": null,
            "justify_items": null,
            "left": null,
            "margin": null,
            "max_height": null,
            "max_width": null,
            "min_height": null,
            "min_width": null,
            "object_fit": null,
            "object_position": null,
            "order": null,
            "overflow": null,
            "overflow_x": null,
            "overflow_y": null,
            "padding": null,
            "right": null,
            "top": null,
            "visibility": null,
            "width": null
          }
        },
        "286a605f7659466980c7939935bbc05d": {
          "model_module": "@jupyter-widgets/base",
          "model_module_version": "1.2.0",
          "model_name": "LayoutModel",
          "state": {
            "_model_module": "@jupyter-widgets/base",
            "_model_module_version": "1.2.0",
            "_model_name": "LayoutModel",
            "_view_count": null,
            "_view_module": "@jupyter-widgets/base",
            "_view_module_version": "1.2.0",
            "_view_name": "LayoutView",
            "align_content": null,
            "align_items": null,
            "align_self": null,
            "border": null,
            "bottom": null,
            "display": null,
            "flex": null,
            "flex_flow": null,
            "grid_area": null,
            "grid_auto_columns": null,
            "grid_auto_flow": null,
            "grid_auto_rows": null,
            "grid_column": null,
            "grid_gap": null,
            "grid_row": null,
            "grid_template_areas": null,
            "grid_template_columns": null,
            "grid_template_rows": null,
            "height": null,
            "justify_content": null,
            "justify_items": null,
            "left": null,
            "margin": null,
            "max_height": null,
            "max_width": null,
            "min_height": null,
            "min_width": null,
            "object_fit": null,
            "object_position": null,
            "order": null,
            "overflow": null,
            "overflow_x": null,
            "overflow_y": null,
            "padding": null,
            "right": null,
            "top": null,
            "visibility": null,
            "width": null
          }
        },
        "29630b17314c4cfabbeb0ac907a2ba2f": {
          "model_module": "@jupyter-widgets/controls",
          "model_module_version": "1.5.0",
          "model_name": "DescriptionStyleModel",
          "state": {
            "_model_module": "@jupyter-widgets/controls",
            "_model_module_version": "1.5.0",
            "_model_name": "DescriptionStyleModel",
            "_view_count": null,
            "_view_module": "@jupyter-widgets/base",
            "_view_module_version": "1.2.0",
            "_view_name": "StyleView",
            "description_width": ""
          }
        },
        "2d50093c78224aa3bbe7db82a2fcf236": {
          "model_module": "@jupyter-widgets/controls",
          "model_module_version": "1.5.0",
          "model_name": "DescriptionStyleModel",
          "state": {
            "_model_module": "@jupyter-widgets/controls",
            "_model_module_version": "1.5.0",
            "_model_name": "DescriptionStyleModel",
            "_view_count": null,
            "_view_module": "@jupyter-widgets/base",
            "_view_module_version": "1.2.0",
            "_view_name": "StyleView",
            "description_width": ""
          }
        },
        "30ad0af870cf46ecb1b010d2b16bd854": {
          "model_module": "@jupyter-widgets/controls",
          "model_module_version": "1.5.0",
          "model_name": "DescriptionStyleModel",
          "state": {
            "_model_module": "@jupyter-widgets/controls",
            "_model_module_version": "1.5.0",
            "_model_name": "DescriptionStyleModel",
            "_view_count": null,
            "_view_module": "@jupyter-widgets/base",
            "_view_module_version": "1.2.0",
            "_view_name": "StyleView",
            "description_width": ""
          }
        },
        "357a6479731d4a0dba8a0d8c73e087e3": {
          "model_module": "@jupyter-widgets/controls",
          "model_module_version": "1.5.0",
          "model_name": "ProgressStyleModel",
          "state": {
            "_model_module": "@jupyter-widgets/controls",
            "_model_module_version": "1.5.0",
            "_model_name": "ProgressStyleModel",
            "_view_count": null,
            "_view_module": "@jupyter-widgets/base",
            "_view_module_version": "1.2.0",
            "_view_name": "StyleView",
            "bar_color": null,
            "description_width": ""
          }
        },
        "366b5a21f3f947f9a7e825ce0ecd6be9": {
          "model_module": "@jupyter-widgets/controls",
          "model_module_version": "1.5.0",
          "model_name": "FloatProgressModel",
          "state": {
            "_dom_classes": [],
            "_model_module": "@jupyter-widgets/controls",
            "_model_module_version": "1.5.0",
            "_model_name": "FloatProgressModel",
            "_view_count": null,
            "_view_module": "@jupyter-widgets/controls",
            "_view_module_version": "1.5.0",
            "_view_name": "ProgressView",
            "bar_style": "success",
            "description": "",
            "description_tooltip": null,
            "layout": "IPY_MODEL_85392772252a4c6999a9dac2fd907249",
            "max": 349,
            "min": 0,
            "orientation": "horizontal",
            "style": "IPY_MODEL_e0a0e352fa0746f19daf891c97c992dd",
            "value": 349
          }
        },
        "36fc97c24c294bd49b1c805f071c8ca3": {
          "model_module": "@jupyter-widgets/controls",
          "model_module_version": "1.5.0",
          "model_name": "HBoxModel",
          "state": {
            "_dom_classes": [],
            "_model_module": "@jupyter-widgets/controls",
            "_model_module_version": "1.5.0",
            "_model_name": "HBoxModel",
            "_view_count": null,
            "_view_module": "@jupyter-widgets/controls",
            "_view_module_version": "1.5.0",
            "_view_name": "HBoxView",
            "box_style": "",
            "children": [
              "IPY_MODEL_7bdccfae7b84446397d3083fdfddd600",
              "IPY_MODEL_ac43581d218d472abf3dc0da8d89596d",
              "IPY_MODEL_8f0d3fe47c0346a59533a50f8c62eb85"
            ],
            "layout": "IPY_MODEL_256901e93ebe48658087487aa46d52dd"
          }
        },
        "3c2c524609c84f7bb5270e751927c719": {
          "model_module": "@jupyter-widgets/controls",
          "model_module_version": "1.5.0",
          "model_name": "HTMLModel",
          "state": {
            "_dom_classes": [],
            "_model_module": "@jupyter-widgets/controls",
            "_model_module_version": "1.5.0",
            "_model_name": "HTMLModel",
            "_view_count": null,
            "_view_module": "@jupyter-widgets/controls",
            "_view_module_version": "1.5.0",
            "_view_name": "HTMLView",
            "description": "",
            "description_tooltip": null,
            "layout": "IPY_MODEL_84e21d3de35a4cb2b728c3406d59b01c",
            "placeholder": "​",
            "style": "IPY_MODEL_a3247e27788145bfbebcfd414b64c9ec",
            "value": "model.safetensors: 100%"
          }
        },
        "41d9b50fecea4916ba861eb4ea7c91c6": {
          "model_module": "@jupyter-widgets/base",
          "model_module_version": "1.2.0",
          "model_name": "LayoutModel",
          "state": {
            "_model_module": "@jupyter-widgets/base",
            "_model_module_version": "1.2.0",
            "_model_name": "LayoutModel",
            "_view_count": null,
            "_view_module": "@jupyter-widgets/base",
            "_view_module_version": "1.2.0",
            "_view_name": "LayoutView",
            "align_content": null,
            "align_items": null,
            "align_self": null,
            "border": null,
            "bottom": null,
            "display": null,
            "flex": null,
            "flex_flow": null,
            "grid_area": null,
            "grid_auto_columns": null,
            "grid_auto_flow": null,
            "grid_auto_rows": null,
            "grid_column": null,
            "grid_gap": null,
            "grid_row": null,
            "grid_template_areas": null,
            "grid_template_columns": null,
            "grid_template_rows": null,
            "height": null,
            "justify_content": null,
            "justify_items": null,
            "left": null,
            "margin": null,
            "max_height": null,
            "max_width": null,
            "min_height": null,
            "min_width": null,
            "object_fit": null,
            "object_position": null,
            "order": null,
            "overflow": null,
            "overflow_x": null,
            "overflow_y": null,
            "padding": null,
            "right": null,
            "top": null,
            "visibility": null,
            "width": null
          }
        },
        "44680fadb0b443f5a36b794b9d11e99f": {
          "model_module": "@jupyter-widgets/controls",
          "model_module_version": "1.5.0",
          "model_name": "HTMLModel",
          "state": {
            "_dom_classes": [],
            "_model_module": "@jupyter-widgets/controls",
            "_model_module_version": "1.5.0",
            "_model_name": "HTMLModel",
            "_view_count": null,
            "_view_module": "@jupyter-widgets/controls",
            "_view_module_version": "1.5.0",
            "_view_name": "HTMLView",
            "description": "",
            "description_tooltip": null,
            "layout": "IPY_MODEL_fb117ceb4fda4e77995e714cc8831f0f",
            "placeholder": "​",
            "style": "IPY_MODEL_2d50093c78224aa3bbe7db82a2fcf236",
            "value": "modules.json: 100%"
          }
        },
        "46984e03f9ad47df8124d771f420d1ff": {
          "model_module": "@jupyter-widgets/controls",
          "model_module_version": "1.5.0",
          "model_name": "HBoxModel",
          "state": {
            "_dom_classes": [],
            "_model_module": "@jupyter-widgets/controls",
            "_model_module_version": "1.5.0",
            "_model_name": "HBoxModel",
            "_view_count": null,
            "_view_module": "@jupyter-widgets/controls",
            "_view_module_version": "1.5.0",
            "_view_name": "HBoxView",
            "box_style": "",
            "children": [
              "IPY_MODEL_70c97f28b2b94f708afe1fe3b396982b",
              "IPY_MODEL_b76da8709f334f55b99d233c39357265",
              "IPY_MODEL_c9b277bf714e49598879ddd99f6c7063"
            ],
            "layout": "IPY_MODEL_62156574483b4cd7a3c98eb5fbd307d0"
          }
        },
        "4c0a3c5c95004a659e0c038cf6c9558e": {
          "model_module": "@jupyter-widgets/base",
          "model_module_version": "1.2.0",
          "model_name": "LayoutModel",
          "state": {
            "_model_module": "@jupyter-widgets/base",
            "_model_module_version": "1.2.0",
            "_model_name": "LayoutModel",
            "_view_count": null,
            "_view_module": "@jupyter-widgets/base",
            "_view_module_version": "1.2.0",
            "_view_name": "LayoutView",
            "align_content": null,
            "align_items": null,
            "align_self": null,
            "border": null,
            "bottom": null,
            "display": null,
            "flex": null,
            "flex_flow": null,
            "grid_area": null,
            "grid_auto_columns": null,
            "grid_auto_flow": null,
            "grid_auto_rows": null,
            "grid_column": null,
            "grid_gap": null,
            "grid_row": null,
            "grid_template_areas": null,
            "grid_template_columns": null,
            "grid_template_rows": null,
            "height": null,
            "justify_content": null,
            "justify_items": null,
            "left": null,
            "margin": null,
            "max_height": null,
            "max_width": null,
            "min_height": null,
            "min_width": null,
            "object_fit": null,
            "object_position": null,
            "order": null,
            "overflow": null,
            "overflow_x": null,
            "overflow_y": null,
            "padding": null,
            "right": null,
            "top": null,
            "visibility": null,
            "width": null
          }
        },
        "4c4e2fe719814f0cbdc3694ef86fbb08": {
          "model_module": "@jupyter-widgets/controls",
          "model_module_version": "1.5.0",
          "model_name": "HBoxModel",
          "state": {
            "_dom_classes": [],
            "_model_module": "@jupyter-widgets/controls",
            "_model_module_version": "1.5.0",
            "_model_name": "HBoxModel",
            "_view_count": null,
            "_view_module": "@jupyter-widgets/controls",
            "_view_module_version": "1.5.0",
            "_view_name": "HBoxView",
            "box_style": "",
            "children": [
              "IPY_MODEL_df506b79efe84dd4ba87069cf458e6f2",
              "IPY_MODEL_e559d5a7d0da4d40a94ed6629b49db24",
              "IPY_MODEL_e1e879bcf26d42109ca37408b73286cc"
            ],
            "layout": "IPY_MODEL_55cb5ccab4c645b786f9e87a4d27df02"
          }
        },
        "4d0f3bd006cf4986be04f71a620a170b": {
          "model_module": "@jupyter-widgets/controls",
          "model_module_version": "1.5.0",
          "model_name": "DescriptionStyleModel",
          "state": {
            "_model_module": "@jupyter-widgets/controls",
            "_model_module_version": "1.5.0",
            "_model_name": "DescriptionStyleModel",
            "_view_count": null,
            "_view_module": "@jupyter-widgets/base",
            "_view_module_version": "1.2.0",
            "_view_name": "StyleView",
            "description_width": ""
          }
        },
        "4f2f711658294dbab9d3d3c33141f7d6": {
          "model_module": "@jupyter-widgets/base",
          "model_module_version": "1.2.0",
          "model_name": "LayoutModel",
          "state": {
            "_model_module": "@jupyter-widgets/base",
            "_model_module_version": "1.2.0",
            "_model_name": "LayoutModel",
            "_view_count": null,
            "_view_module": "@jupyter-widgets/base",
            "_view_module_version": "1.2.0",
            "_view_name": "LayoutView",
            "align_content": null,
            "align_items": null,
            "align_self": null,
            "border": null,
            "bottom": null,
            "display": null,
            "flex": null,
            "flex_flow": null,
            "grid_area": null,
            "grid_auto_columns": null,
            "grid_auto_flow": null,
            "grid_auto_rows": null,
            "grid_column": null,
            "grid_gap": null,
            "grid_row": null,
            "grid_template_areas": null,
            "grid_template_columns": null,
            "grid_template_rows": null,
            "height": null,
            "justify_content": null,
            "justify_items": null,
            "left": null,
            "margin": null,
            "max_height": null,
            "max_width": null,
            "min_height": null,
            "min_width": null,
            "object_fit": null,
            "object_position": null,
            "order": null,
            "overflow": null,
            "overflow_x": null,
            "overflow_y": null,
            "padding": null,
            "right": null,
            "top": null,
            "visibility": null,
            "width": null
          }
        },
        "502a5429cbbf4078bd898b9433f2e893": {
          "model_module": "@jupyter-widgets/base",
          "model_module_version": "1.2.0",
          "model_name": "LayoutModel",
          "state": {
            "_model_module": "@jupyter-widgets/base",
            "_model_module_version": "1.2.0",
            "_model_name": "LayoutModel",
            "_view_count": null,
            "_view_module": "@jupyter-widgets/base",
            "_view_module_version": "1.2.0",
            "_view_name": "LayoutView",
            "align_content": null,
            "align_items": null,
            "align_self": null,
            "border": null,
            "bottom": null,
            "display": null,
            "flex": null,
            "flex_flow": null,
            "grid_area": null,
            "grid_auto_columns": null,
            "grid_auto_flow": null,
            "grid_auto_rows": null,
            "grid_column": null,
            "grid_gap": null,
            "grid_row": null,
            "grid_template_areas": null,
            "grid_template_columns": null,
            "grid_template_rows": null,
            "height": null,
            "justify_content": null,
            "justify_items": null,
            "left": null,
            "margin": null,
            "max_height": null,
            "max_width": null,
            "min_height": null,
            "min_width": null,
            "object_fit": null,
            "object_position": null,
            "order": null,
            "overflow": null,
            "overflow_x": null,
            "overflow_y": null,
            "padding": null,
            "right": null,
            "top": null,
            "visibility": null,
            "width": null
          }
        },
        "5149c1250eaf4df2a26236387663d6bd": {
          "model_module": "@jupyter-widgets/base",
          "model_module_version": "1.2.0",
          "model_name": "LayoutModel",
          "state": {
            "_model_module": "@jupyter-widgets/base",
            "_model_module_version": "1.2.0",
            "_model_name": "LayoutModel",
            "_view_count": null,
            "_view_module": "@jupyter-widgets/base",
            "_view_module_version": "1.2.0",
            "_view_name": "LayoutView",
            "align_content": null,
            "align_items": null,
            "align_self": null,
            "border": null,
            "bottom": null,
            "display": null,
            "flex": null,
            "flex_flow": null,
            "grid_area": null,
            "grid_auto_columns": null,
            "grid_auto_flow": null,
            "grid_auto_rows": null,
            "grid_column": null,
            "grid_gap": null,
            "grid_row": null,
            "grid_template_areas": null,
            "grid_template_columns": null,
            "grid_template_rows": null,
            "height": null,
            "justify_content": null,
            "justify_items": null,
            "left": null,
            "margin": null,
            "max_height": null,
            "max_width": null,
            "min_height": null,
            "min_width": null,
            "object_fit": null,
            "object_position": null,
            "order": null,
            "overflow": null,
            "overflow_x": null,
            "overflow_y": null,
            "padding": null,
            "right": null,
            "top": null,
            "visibility": null,
            "width": null
          }
        },
        "55cb5ccab4c645b786f9e87a4d27df02": {
          "model_module": "@jupyter-widgets/base",
          "model_module_version": "1.2.0",
          "model_name": "LayoutModel",
          "state": {
            "_model_module": "@jupyter-widgets/base",
            "_model_module_version": "1.2.0",
            "_model_name": "LayoutModel",
            "_view_count": null,
            "_view_module": "@jupyter-widgets/base",
            "_view_module_version": "1.2.0",
            "_view_name": "LayoutView",
            "align_content": null,
            "align_items": null,
            "align_self": null,
            "border": null,
            "bottom": null,
            "display": null,
            "flex": null,
            "flex_flow": null,
            "grid_area": null,
            "grid_auto_columns": null,
            "grid_auto_flow": null,
            "grid_auto_rows": null,
            "grid_column": null,
            "grid_gap": null,
            "grid_row": null,
            "grid_template_areas": null,
            "grid_template_columns": null,
            "grid_template_rows": null,
            "height": null,
            "justify_content": null,
            "justify_items": null,
            "left": null,
            "margin": null,
            "max_height": null,
            "max_width": null,
            "min_height": null,
            "min_width": null,
            "object_fit": null,
            "object_position": null,
            "order": null,
            "overflow": null,
            "overflow_x": null,
            "overflow_y": null,
            "padding": null,
            "right": null,
            "top": null,
            "visibility": null,
            "width": null
          }
        },
        "55d2320f88134b08ae1c73ee124fc7fb": {
          "model_module": "@jupyter-widgets/base",
          "model_module_version": "1.2.0",
          "model_name": "LayoutModel",
          "state": {
            "_model_module": "@jupyter-widgets/base",
            "_model_module_version": "1.2.0",
            "_model_name": "LayoutModel",
            "_view_count": null,
            "_view_module": "@jupyter-widgets/base",
            "_view_module_version": "1.2.0",
            "_view_name": "LayoutView",
            "align_content": null,
            "align_items": null,
            "align_self": null,
            "border": null,
            "bottom": null,
            "display": null,
            "flex": null,
            "flex_flow": null,
            "grid_area": null,
            "grid_auto_columns": null,
            "grid_auto_flow": null,
            "grid_auto_rows": null,
            "grid_column": null,
            "grid_gap": null,
            "grid_row": null,
            "grid_template_areas": null,
            "grid_template_columns": null,
            "grid_template_rows": null,
            "height": null,
            "justify_content": null,
            "justify_items": null,
            "left": null,
            "margin": null,
            "max_height": null,
            "max_width": null,
            "min_height": null,
            "min_width": null,
            "object_fit": null,
            "object_position": null,
            "order": null,
            "overflow": null,
            "overflow_x": null,
            "overflow_y": null,
            "padding": null,
            "right": null,
            "top": null,
            "visibility": null,
            "width": null
          }
        },
        "5788f007d46c4dfba493f70f88b37d5e": {
          "model_module": "@jupyter-widgets/controls",
          "model_module_version": "1.5.0",
          "model_name": "HTMLModel",
          "state": {
            "_dom_classes": [],
            "_model_module": "@jupyter-widgets/controls",
            "_model_module_version": "1.5.0",
            "_model_name": "HTMLModel",
            "_view_count": null,
            "_view_module": "@jupyter-widgets/controls",
            "_view_module_version": "1.5.0",
            "_view_name": "HTMLView",
            "description": "",
            "description_tooltip": null,
            "layout": "IPY_MODEL_b2cedbeecddb4729a0c86ca2bc259996",
            "placeholder": "​",
            "style": "IPY_MODEL_afc8d5687aa04be4b06553e643f304af",
            "value": "README.md: 100%"
          }
        },
        "5c14488345c842fbad2306f3f7e85fd2": {
          "model_module": "@jupyter-widgets/base",
          "model_module_version": "1.2.0",
          "model_name": "LayoutModel",
          "state": {
            "_model_module": "@jupyter-widgets/base",
            "_model_module_version": "1.2.0",
            "_model_name": "LayoutModel",
            "_view_count": null,
            "_view_module": "@jupyter-widgets/base",
            "_view_module_version": "1.2.0",
            "_view_name": "LayoutView",
            "align_content": null,
            "align_items": null,
            "align_self": null,
            "border": null,
            "bottom": null,
            "display": null,
            "flex": null,
            "flex_flow": null,
            "grid_area": null,
            "grid_auto_columns": null,
            "grid_auto_flow": null,
            "grid_auto_rows": null,
            "grid_column": null,
            "grid_gap": null,
            "grid_row": null,
            "grid_template_areas": null,
            "grid_template_columns": null,
            "grid_template_rows": null,
            "height": null,
            "justify_content": null,
            "justify_items": null,
            "left": null,
            "margin": null,
            "max_height": null,
            "max_width": null,
            "min_height": null,
            "min_width": null,
            "object_fit": null,
            "object_position": null,
            "order": null,
            "overflow": null,
            "overflow_x": null,
            "overflow_y": null,
            "padding": null,
            "right": null,
            "top": null,
            "visibility": null,
            "width": null
          }
        },
        "5c48ff4de4bb48719cd1d6b014d79fdd": {
          "model_module": "@jupyter-widgets/controls",
          "model_module_version": "1.5.0",
          "model_name": "DescriptionStyleModel",
          "state": {
            "_model_module": "@jupyter-widgets/controls",
            "_model_module_version": "1.5.0",
            "_model_name": "DescriptionStyleModel",
            "_view_count": null,
            "_view_module": "@jupyter-widgets/base",
            "_view_module_version": "1.2.0",
            "_view_name": "StyleView",
            "description_width": ""
          }
        },
        "5ecb70e5356e473380d1d2b6d38d8f88": {
          "model_module": "@jupyter-widgets/controls",
          "model_module_version": "1.5.0",
          "model_name": "ProgressStyleModel",
          "state": {
            "_model_module": "@jupyter-widgets/controls",
            "_model_module_version": "1.5.0",
            "_model_name": "ProgressStyleModel",
            "_view_count": null,
            "_view_module": "@jupyter-widgets/base",
            "_view_module_version": "1.2.0",
            "_view_name": "StyleView",
            "bar_color": null,
            "description_width": ""
          }
        },
        "61a7aa16ea654e44b2118edf542281fa": {
          "model_module": "@jupyter-widgets/base",
          "model_module_version": "1.2.0",
          "model_name": "LayoutModel",
          "state": {
            "_model_module": "@jupyter-widgets/base",
            "_model_module_version": "1.2.0",
            "_model_name": "LayoutModel",
            "_view_count": null,
            "_view_module": "@jupyter-widgets/base",
            "_view_module_version": "1.2.0",
            "_view_name": "LayoutView",
            "align_content": null,
            "align_items": null,
            "align_self": null,
            "border": null,
            "bottom": null,
            "display": null,
            "flex": null,
            "flex_flow": null,
            "grid_area": null,
            "grid_auto_columns": null,
            "grid_auto_flow": null,
            "grid_auto_rows": null,
            "grid_column": null,
            "grid_gap": null,
            "grid_row": null,
            "grid_template_areas": null,
            "grid_template_columns": null,
            "grid_template_rows": null,
            "height": null,
            "justify_content": null,
            "justify_items": null,
            "left": null,
            "margin": null,
            "max_height": null,
            "max_width": null,
            "min_height": null,
            "min_width": null,
            "object_fit": null,
            "object_position": null,
            "order": null,
            "overflow": null,
            "overflow_x": null,
            "overflow_y": null,
            "padding": null,
            "right": null,
            "top": null,
            "visibility": null,
            "width": null
          }
        },
        "62156574483b4cd7a3c98eb5fbd307d0": {
          "model_module": "@jupyter-widgets/base",
          "model_module_version": "1.2.0",
          "model_name": "LayoutModel",
          "state": {
            "_model_module": "@jupyter-widgets/base",
            "_model_module_version": "1.2.0",
            "_model_name": "LayoutModel",
            "_view_count": null,
            "_view_module": "@jupyter-widgets/base",
            "_view_module_version": "1.2.0",
            "_view_name": "LayoutView",
            "align_content": null,
            "align_items": null,
            "align_self": null,
            "border": null,
            "bottom": null,
            "display": null,
            "flex": null,
            "flex_flow": null,
            "grid_area": null,
            "grid_auto_columns": null,
            "grid_auto_flow": null,
            "grid_auto_rows": null,
            "grid_column": null,
            "grid_gap": null,
            "grid_row": null,
            "grid_template_areas": null,
            "grid_template_columns": null,
            "grid_template_rows": null,
            "height": null,
            "justify_content": null,
            "justify_items": null,
            "left": null,
            "margin": null,
            "max_height": null,
            "max_width": null,
            "min_height": null,
            "min_width": null,
            "object_fit": null,
            "object_position": null,
            "order": null,
            "overflow": null,
            "overflow_x": null,
            "overflow_y": null,
            "padding": null,
            "right": null,
            "top": null,
            "visibility": null,
            "width": null
          }
        },
        "632b838ce37b40738a1db28a8f2df765": {
          "model_module": "@jupyter-widgets/base",
          "model_module_version": "1.2.0",
          "model_name": "LayoutModel",
          "state": {
            "_model_module": "@jupyter-widgets/base",
            "_model_module_version": "1.2.0",
            "_model_name": "LayoutModel",
            "_view_count": null,
            "_view_module": "@jupyter-widgets/base",
            "_view_module_version": "1.2.0",
            "_view_name": "LayoutView",
            "align_content": null,
            "align_items": null,
            "align_self": null,
            "border": null,
            "bottom": null,
            "display": null,
            "flex": null,
            "flex_flow": null,
            "grid_area": null,
            "grid_auto_columns": null,
            "grid_auto_flow": null,
            "grid_auto_rows": null,
            "grid_column": null,
            "grid_gap": null,
            "grid_row": null,
            "grid_template_areas": null,
            "grid_template_columns": null,
            "grid_template_rows": null,
            "height": null,
            "justify_content": null,
            "justify_items": null,
            "left": null,
            "margin": null,
            "max_height": null,
            "max_width": null,
            "min_height": null,
            "min_width": null,
            "object_fit": null,
            "object_position": null,
            "order": null,
            "overflow": null,
            "overflow_x": null,
            "overflow_y": null,
            "padding": null,
            "right": null,
            "top": null,
            "visibility": null,
            "width": null
          }
        },
        "64af80c639f94985a0d65fea383444e9": {
          "model_module": "@jupyter-widgets/base",
          "model_module_version": "1.2.0",
          "model_name": "LayoutModel",
          "state": {
            "_model_module": "@jupyter-widgets/base",
            "_model_module_version": "1.2.0",
            "_model_name": "LayoutModel",
            "_view_count": null,
            "_view_module": "@jupyter-widgets/base",
            "_view_module_version": "1.2.0",
            "_view_name": "LayoutView",
            "align_content": null,
            "align_items": null,
            "align_self": null,
            "border": null,
            "bottom": null,
            "display": null,
            "flex": null,
            "flex_flow": null,
            "grid_area": null,
            "grid_auto_columns": null,
            "grid_auto_flow": null,
            "grid_auto_rows": null,
            "grid_column": null,
            "grid_gap": null,
            "grid_row": null,
            "grid_template_areas": null,
            "grid_template_columns": null,
            "grid_template_rows": null,
            "height": null,
            "justify_content": null,
            "justify_items": null,
            "left": null,
            "margin": null,
            "max_height": null,
            "max_width": null,
            "min_height": null,
            "min_width": null,
            "object_fit": null,
            "object_position": null,
            "order": null,
            "overflow": null,
            "overflow_x": null,
            "overflow_y": null,
            "padding": null,
            "right": null,
            "top": null,
            "visibility": null,
            "width": null
          }
        },
        "66b98cce692f425e890c1f7b1cae51b0": {
          "model_module": "@jupyter-widgets/controls",
          "model_module_version": "1.5.0",
          "model_name": "HTMLModel",
          "state": {
            "_dom_classes": [],
            "_model_module": "@jupyter-widgets/controls",
            "_model_module_version": "1.5.0",
            "_model_name": "HTMLModel",
            "_view_count": null,
            "_view_module": "@jupyter-widgets/controls",
            "_view_module_version": "1.5.0",
            "_view_name": "HTMLView",
            "description": "",
            "description_tooltip": null,
            "layout": "IPY_MODEL_eb58b4b697de41e0845845d2e5d5c8db",
            "placeholder": "​",
            "style": "IPY_MODEL_4d0f3bd006cf4986be04f71a620a170b",
            "value": " 232k/232k [00:00&lt;00:00, 9.71MB/s]"
          }
        },
        "6c7693e06095455b9095b8cca089944f": {
          "model_module": "@jupyter-widgets/controls",
          "model_module_version": "1.5.0",
          "model_name": "HBoxModel",
          "state": {
            "_dom_classes": [],
            "_model_module": "@jupyter-widgets/controls",
            "_model_module_version": "1.5.0",
            "_model_name": "HBoxModel",
            "_view_count": null,
            "_view_module": "@jupyter-widgets/controls",
            "_view_module_version": "1.5.0",
            "_view_name": "HBoxView",
            "box_style": "",
            "children": [
              "IPY_MODEL_17b6cdc2a6274cb6b5a8868ac92bc946",
              "IPY_MODEL_8d7a52ebf4a540eba88789c19ddc38b1",
              "IPY_MODEL_0c32aaee650f429dbe9d189de649b178"
            ],
            "layout": "IPY_MODEL_bcffe9f35e5c4596812b035183ee4869"
          }
        },
        "6ccdcb7476d848128e1662b86b552b8b": {
          "model_module": "@jupyter-widgets/base",
          "model_module_version": "1.2.0",
          "model_name": "LayoutModel",
          "state": {
            "_model_module": "@jupyter-widgets/base",
            "_model_module_version": "1.2.0",
            "_model_name": "LayoutModel",
            "_view_count": null,
            "_view_module": "@jupyter-widgets/base",
            "_view_module_version": "1.2.0",
            "_view_name": "LayoutView",
            "align_content": null,
            "align_items": null,
            "align_self": null,
            "border": null,
            "bottom": null,
            "display": null,
            "flex": null,
            "flex_flow": null,
            "grid_area": null,
            "grid_auto_columns": null,
            "grid_auto_flow": null,
            "grid_auto_rows": null,
            "grid_column": null,
            "grid_gap": null,
            "grid_row": null,
            "grid_template_areas": null,
            "grid_template_columns": null,
            "grid_template_rows": null,
            "height": null,
            "justify_content": null,
            "justify_items": null,
            "left": null,
            "margin": null,
            "max_height": null,
            "max_width": null,
            "min_height": null,
            "min_width": null,
            "object_fit": null,
            "object_position": null,
            "order": null,
            "overflow": null,
            "overflow_x": null,
            "overflow_y": null,
            "padding": null,
            "right": null,
            "top": null,
            "visibility": null,
            "width": null
          }
        },
        "6ef4f7da557548388678a6adbea440a3": {
          "model_module": "@jupyter-widgets/base",
          "model_module_version": "1.2.0",
          "model_name": "LayoutModel",
          "state": {
            "_model_module": "@jupyter-widgets/base",
            "_model_module_version": "1.2.0",
            "_model_name": "LayoutModel",
            "_view_count": null,
            "_view_module": "@jupyter-widgets/base",
            "_view_module_version": "1.2.0",
            "_view_name": "LayoutView",
            "align_content": null,
            "align_items": null,
            "align_self": null,
            "border": null,
            "bottom": null,
            "display": null,
            "flex": null,
            "flex_flow": null,
            "grid_area": null,
            "grid_auto_columns": null,
            "grid_auto_flow": null,
            "grid_auto_rows": null,
            "grid_column": null,
            "grid_gap": null,
            "grid_row": null,
            "grid_template_areas": null,
            "grid_template_columns": null,
            "grid_template_rows": null,
            "height": null,
            "justify_content": null,
            "justify_items": null,
            "left": null,
            "margin": null,
            "max_height": null,
            "max_width": null,
            "min_height": null,
            "min_width": null,
            "object_fit": null,
            "object_position": null,
            "order": null,
            "overflow": null,
            "overflow_x": null,
            "overflow_y": null,
            "padding": null,
            "right": null,
            "top": null,
            "visibility": null,
            "width": null
          }
        },
        "6f6b2146d3c5454fae48b5cea9a58e7c": {
          "model_module": "@jupyter-widgets/controls",
          "model_module_version": "1.5.0",
          "model_name": "DescriptionStyleModel",
          "state": {
            "_model_module": "@jupyter-widgets/controls",
            "_model_module_version": "1.5.0",
            "_model_name": "DescriptionStyleModel",
            "_view_count": null,
            "_view_module": "@jupyter-widgets/base",
            "_view_module_version": "1.2.0",
            "_view_name": "StyleView",
            "description_width": ""
          }
        },
        "70c24513325a422f96dc0abc15329123": {
          "model_module": "@jupyter-widgets/controls",
          "model_module_version": "1.5.0",
          "model_name": "HTMLModel",
          "state": {
            "_dom_classes": [],
            "_model_module": "@jupyter-widgets/controls",
            "_model_module_version": "1.5.0",
            "_model_name": "HTMLModel",
            "_view_count": null,
            "_view_module": "@jupyter-widgets/controls",
            "_view_module_version": "1.5.0",
            "_view_name": "HTMLView",
            "description": "",
            "description_tooltip": null,
            "layout": "IPY_MODEL_f153b012b221422ba05ff8e98f44503e",
            "placeholder": "​",
            "style": "IPY_MODEL_226f4dc3ba2f494fa7eba05c4b3abad0",
            "value": " 466k/466k [00:00&lt;00:00, 5.65MB/s]"
          }
        },
        "70c97f28b2b94f708afe1fe3b396982b": {
          "model_module": "@jupyter-widgets/controls",
          "model_module_version": "1.5.0",
          "model_name": "HTMLModel",
          "state": {
            "_dom_classes": [],
            "_model_module": "@jupyter-widgets/controls",
            "_model_module_version": "1.5.0",
            "_model_name": "HTMLModel",
            "_view_count": null,
            "_view_module": "@jupyter-widgets/controls",
            "_view_module_version": "1.5.0",
            "_view_name": "HTMLView",
            "description": "",
            "description_tooltip": null,
            "layout": "IPY_MODEL_5149c1250eaf4df2a26236387663d6bd",
            "placeholder": "​",
            "style": "IPY_MODEL_e69b40465df64124a07649707e2f91eb",
            "value": "config.json: 100%"
          }
        },
        "71d323dd8bf94c43944395f7ffc7e3aa": {
          "model_module": "@jupyter-widgets/base",
          "model_module_version": "1.2.0",
          "model_name": "LayoutModel",
          "state": {
            "_model_module": "@jupyter-widgets/base",
            "_model_module_version": "1.2.0",
            "_model_name": "LayoutModel",
            "_view_count": null,
            "_view_module": "@jupyter-widgets/base",
            "_view_module_version": "1.2.0",
            "_view_name": "LayoutView",
            "align_content": null,
            "align_items": null,
            "align_self": null,
            "border": null,
            "bottom": null,
            "display": null,
            "flex": null,
            "flex_flow": null,
            "grid_area": null,
            "grid_auto_columns": null,
            "grid_auto_flow": null,
            "grid_auto_rows": null,
            "grid_column": null,
            "grid_gap": null,
            "grid_row": null,
            "grid_template_areas": null,
            "grid_template_columns": null,
            "grid_template_rows": null,
            "height": null,
            "justify_content": null,
            "justify_items": null,
            "left": null,
            "margin": null,
            "max_height": null,
            "max_width": null,
            "min_height": null,
            "min_width": null,
            "object_fit": null,
            "object_position": null,
            "order": null,
            "overflow": null,
            "overflow_x": null,
            "overflow_y": null,
            "padding": null,
            "right": null,
            "top": null,
            "visibility": null,
            "width": null
          }
        },
        "744626ac5e484ed5aa81df653f199c43": {
          "model_module": "@jupyter-widgets/controls",
          "model_module_version": "1.5.0",
          "model_name": "FloatProgressModel",
          "state": {
            "_dom_classes": [],
            "_model_module": "@jupyter-widgets/controls",
            "_model_module_version": "1.5.0",
            "_model_name": "FloatProgressModel",
            "_view_count": null,
            "_view_module": "@jupyter-widgets/controls",
            "_view_module_version": "1.5.0",
            "_view_name": "ProgressView",
            "bar_style": "success",
            "description": "",
            "description_tooltip": null,
            "layout": "IPY_MODEL_14228a1b40614671be5523d9a1f2c830",
            "max": 466247,
            "min": 0,
            "orientation": "horizontal",
            "style": "IPY_MODEL_7d527d852d144566bdc89a3a196a93cb",
            "value": 466247
          }
        },
        "7475014311794de9aeaa0977c7d00bc1": {
          "model_module": "@jupyter-widgets/base",
          "model_module_version": "1.2.0",
          "model_name": "LayoutModel",
          "state": {
            "_model_module": "@jupyter-widgets/base",
            "_model_module_version": "1.2.0",
            "_model_name": "LayoutModel",
            "_view_count": null,
            "_view_module": "@jupyter-widgets/base",
            "_view_module_version": "1.2.0",
            "_view_name": "LayoutView",
            "align_content": null,
            "align_items": null,
            "align_self": null,
            "border": null,
            "bottom": null,
            "display": null,
            "flex": null,
            "flex_flow": null,
            "grid_area": null,
            "grid_auto_columns": null,
            "grid_auto_flow": null,
            "grid_auto_rows": null,
            "grid_column": null,
            "grid_gap": null,
            "grid_row": null,
            "grid_template_areas": null,
            "grid_template_columns": null,
            "grid_template_rows": null,
            "height": null,
            "justify_content": null,
            "justify_items": null,
            "left": null,
            "margin": null,
            "max_height": null,
            "max_width": null,
            "min_height": null,
            "min_width": null,
            "object_fit": null,
            "object_position": null,
            "order": null,
            "overflow": null,
            "overflow_x": null,
            "overflow_y": null,
            "padding": null,
            "right": null,
            "top": null,
            "visibility": null,
            "width": null
          }
        },
        "7a691fb8c1a84fe4a1e91e03ecf8ce4a": {
          "model_module": "@jupyter-widgets/base",
          "model_module_version": "1.2.0",
          "model_name": "LayoutModel",
          "state": {
            "_model_module": "@jupyter-widgets/base",
            "_model_module_version": "1.2.0",
            "_model_name": "LayoutModel",
            "_view_count": null,
            "_view_module": "@jupyter-widgets/base",
            "_view_module_version": "1.2.0",
            "_view_name": "LayoutView",
            "align_content": null,
            "align_items": null,
            "align_self": null,
            "border": null,
            "bottom": null,
            "display": null,
            "flex": null,
            "flex_flow": null,
            "grid_area": null,
            "grid_auto_columns": null,
            "grid_auto_flow": null,
            "grid_auto_rows": null,
            "grid_column": null,
            "grid_gap": null,
            "grid_row": null,
            "grid_template_areas": null,
            "grid_template_columns": null,
            "grid_template_rows": null,
            "height": null,
            "justify_content": null,
            "justify_items": null,
            "left": null,
            "margin": null,
            "max_height": null,
            "max_width": null,
            "min_height": null,
            "min_width": null,
            "object_fit": null,
            "object_position": null,
            "order": null,
            "overflow": null,
            "overflow_x": null,
            "overflow_y": null,
            "padding": null,
            "right": null,
            "top": null,
            "visibility": null,
            "width": null
          }
        },
        "7a9f170546074f6298d957a696a70a7e": {
          "model_module": "@jupyter-widgets/controls",
          "model_module_version": "1.5.0",
          "model_name": "DescriptionStyleModel",
          "state": {
            "_model_module": "@jupyter-widgets/controls",
            "_model_module_version": "1.5.0",
            "_model_name": "DescriptionStyleModel",
            "_view_count": null,
            "_view_module": "@jupyter-widgets/base",
            "_view_module_version": "1.2.0",
            "_view_name": "StyleView",
            "description_width": ""
          }
        },
        "7bdccfae7b84446397d3083fdfddd600": {
          "model_module": "@jupyter-widgets/controls",
          "model_module_version": "1.5.0",
          "model_name": "HTMLModel",
          "state": {
            "_dom_classes": [],
            "_model_module": "@jupyter-widgets/controls",
            "_model_module_version": "1.5.0",
            "_model_name": "HTMLModel",
            "_view_count": null,
            "_view_module": "@jupyter-widgets/controls",
            "_view_module_version": "1.5.0",
            "_view_name": "HTMLView",
            "description": "",
            "description_tooltip": null,
            "layout": "IPY_MODEL_4c0a3c5c95004a659e0c038cf6c9558e",
            "placeholder": "​",
            "style": "IPY_MODEL_5c48ff4de4bb48719cd1d6b014d79fdd",
            "value": "sentence_bert_config.json: 100%"
          }
        },
        "7d527d852d144566bdc89a3a196a93cb": {
          "model_module": "@jupyter-widgets/controls",
          "model_module_version": "1.5.0",
          "model_name": "ProgressStyleModel",
          "state": {
            "_model_module": "@jupyter-widgets/controls",
            "_model_module_version": "1.5.0",
            "_model_name": "ProgressStyleModel",
            "_view_count": null,
            "_view_module": "@jupyter-widgets/base",
            "_view_module_version": "1.2.0",
            "_view_name": "StyleView",
            "bar_color": null,
            "description_width": ""
          }
        },
        "807871d5151c47738d517fc1bbbb9c2f": {
          "model_module": "@jupyter-widgets/base",
          "model_module_version": "1.2.0",
          "model_name": "LayoutModel",
          "state": {
            "_model_module": "@jupyter-widgets/base",
            "_model_module_version": "1.2.0",
            "_model_name": "LayoutModel",
            "_view_count": null,
            "_view_module": "@jupyter-widgets/base",
            "_view_module_version": "1.2.0",
            "_view_name": "LayoutView",
            "align_content": null,
            "align_items": null,
            "align_self": null,
            "border": null,
            "bottom": null,
            "display": null,
            "flex": null,
            "flex_flow": null,
            "grid_area": null,
            "grid_auto_columns": null,
            "grid_auto_flow": null,
            "grid_auto_rows": null,
            "grid_column": null,
            "grid_gap": null,
            "grid_row": null,
            "grid_template_areas": null,
            "grid_template_columns": null,
            "grid_template_rows": null,
            "height": null,
            "justify_content": null,
            "justify_items": null,
            "left": null,
            "margin": null,
            "max_height": null,
            "max_width": null,
            "min_height": null,
            "min_width": null,
            "object_fit": null,
            "object_position": null,
            "order": null,
            "overflow": null,
            "overflow_x": null,
            "overflow_y": null,
            "padding": null,
            "right": null,
            "top": null,
            "visibility": null,
            "width": null
          }
        },
        "8165b09cdfe8471097e7d1b2548c00c5": {
          "model_module": "@jupyter-widgets/controls",
          "model_module_version": "1.5.0",
          "model_name": "DescriptionStyleModel",
          "state": {
            "_model_module": "@jupyter-widgets/controls",
            "_model_module_version": "1.5.0",
            "_model_name": "DescriptionStyleModel",
            "_view_count": null,
            "_view_module": "@jupyter-widgets/base",
            "_view_module_version": "1.2.0",
            "_view_name": "StyleView",
            "description_width": ""
          }
        },
        "84e21d3de35a4cb2b728c3406d59b01c": {
          "model_module": "@jupyter-widgets/base",
          "model_module_version": "1.2.0",
          "model_name": "LayoutModel",
          "state": {
            "_model_module": "@jupyter-widgets/base",
            "_model_module_version": "1.2.0",
            "_model_name": "LayoutModel",
            "_view_count": null,
            "_view_module": "@jupyter-widgets/base",
            "_view_module_version": "1.2.0",
            "_view_name": "LayoutView",
            "align_content": null,
            "align_items": null,
            "align_self": null,
            "border": null,
            "bottom": null,
            "display": null,
            "flex": null,
            "flex_flow": null,
            "grid_area": null,
            "grid_auto_columns": null,
            "grid_auto_flow": null,
            "grid_auto_rows": null,
            "grid_column": null,
            "grid_gap": null,
            "grid_row": null,
            "grid_template_areas": null,
            "grid_template_columns": null,
            "grid_template_rows": null,
            "height": null,
            "justify_content": null,
            "justify_items": null,
            "left": null,
            "margin": null,
            "max_height": null,
            "max_width": null,
            "min_height": null,
            "min_width": null,
            "object_fit": null,
            "object_position": null,
            "order": null,
            "overflow": null,
            "overflow_x": null,
            "overflow_y": null,
            "padding": null,
            "right": null,
            "top": null,
            "visibility": null,
            "width": null
          }
        },
        "85392772252a4c6999a9dac2fd907249": {
          "model_module": "@jupyter-widgets/base",
          "model_module_version": "1.2.0",
          "model_name": "LayoutModel",
          "state": {
            "_model_module": "@jupyter-widgets/base",
            "_model_module_version": "1.2.0",
            "_model_name": "LayoutModel",
            "_view_count": null,
            "_view_module": "@jupyter-widgets/base",
            "_view_module_version": "1.2.0",
            "_view_name": "LayoutView",
            "align_content": null,
            "align_items": null,
            "align_self": null,
            "border": null,
            "bottom": null,
            "display": null,
            "flex": null,
            "flex_flow": null,
            "grid_area": null,
            "grid_auto_columns": null,
            "grid_auto_flow": null,
            "grid_auto_rows": null,
            "grid_column": null,
            "grid_gap": null,
            "grid_row": null,
            "grid_template_areas": null,
            "grid_template_columns": null,
            "grid_template_rows": null,
            "height": null,
            "justify_content": null,
            "justify_items": null,
            "left": null,
            "margin": null,
            "max_height": null,
            "max_width": null,
            "min_height": null,
            "min_width": null,
            "object_fit": null,
            "object_position": null,
            "order": null,
            "overflow": null,
            "overflow_x": null,
            "overflow_y": null,
            "padding": null,
            "right": null,
            "top": null,
            "visibility": null,
            "width": null
          }
        },
        "85a440e280254ec4925f36d60a31d4b2": {
          "model_module": "@jupyter-widgets/controls",
          "model_module_version": "1.5.0",
          "model_name": "ProgressStyleModel",
          "state": {
            "_model_module": "@jupyter-widgets/controls",
            "_model_module_version": "1.5.0",
            "_model_name": "ProgressStyleModel",
            "_view_count": null,
            "_view_module": "@jupyter-widgets/base",
            "_view_module_version": "1.2.0",
            "_view_name": "StyleView",
            "bar_color": null,
            "description_width": ""
          }
        },
        "8d7a52ebf4a540eba88789c19ddc38b1": {
          "model_module": "@jupyter-widgets/controls",
          "model_module_version": "1.5.0",
          "model_name": "FloatProgressModel",
          "state": {
            "_dom_classes": [],
            "_model_module": "@jupyter-widgets/controls",
            "_model_module_version": "1.5.0",
            "_model_name": "FloatProgressModel",
            "_view_count": null,
            "_view_module": "@jupyter-widgets/controls",
            "_view_module_version": "1.5.0",
            "_view_name": "ProgressView",
            "bar_style": "success",
            "description": "",
            "description_tooltip": null,
            "layout": "IPY_MODEL_dc5bbfa45182457cbe911925fe260442",
            "max": 112,
            "min": 0,
            "orientation": "horizontal",
            "style": "IPY_MODEL_089d4544885c48b9bea3a2a87f72a49f",
            "value": 112
          }
        },
        "8f0d3fe47c0346a59533a50f8c62eb85": {
          "model_module": "@jupyter-widgets/controls",
          "model_module_version": "1.5.0",
          "model_name": "HTMLModel",
          "state": {
            "_dom_classes": [],
            "_model_module": "@jupyter-widgets/controls",
            "_model_module_version": "1.5.0",
            "_model_name": "HTMLModel",
            "_view_count": null,
            "_view_module": "@jupyter-widgets/controls",
            "_view_module_version": "1.5.0",
            "_view_name": "HTMLView",
            "description": "",
            "description_tooltip": null,
            "layout": "IPY_MODEL_c89805c06ab64beea0219bde09770bbd",
            "placeholder": "​",
            "style": "IPY_MODEL_91a4b497c7f84b298be4e36c5ead3018",
            "value": " 53.0/53.0 [00:00&lt;00:00, 3.50kB/s]"
          }
        },
        "91a4b497c7f84b298be4e36c5ead3018": {
          "model_module": "@jupyter-widgets/controls",
          "model_module_version": "1.5.0",
          "model_name": "DescriptionStyleModel",
          "state": {
            "_model_module": "@jupyter-widgets/controls",
            "_model_module_version": "1.5.0",
            "_model_name": "DescriptionStyleModel",
            "_view_count": null,
            "_view_module": "@jupyter-widgets/base",
            "_view_module_version": "1.2.0",
            "_view_name": "StyleView",
            "description_width": ""
          }
        },
        "91b8ac8473ac4bce83cd8fd1da1ffa5c": {
          "model_module": "@jupyter-widgets/controls",
          "model_module_version": "1.5.0",
          "model_name": "ProgressStyleModel",
          "state": {
            "_model_module": "@jupyter-widgets/controls",
            "_model_module_version": "1.5.0",
            "_model_name": "ProgressStyleModel",
            "_view_count": null,
            "_view_module": "@jupyter-widgets/base",
            "_view_module_version": "1.2.0",
            "_view_name": "StyleView",
            "bar_color": null,
            "description_width": ""
          }
        },
        "923b84e7471d42b39a8a5c7bd9755770": {
          "model_module": "@jupyter-widgets/controls",
          "model_module_version": "1.5.0",
          "model_name": "HTMLModel",
          "state": {
            "_dom_classes": [],
            "_model_module": "@jupyter-widgets/controls",
            "_model_module_version": "1.5.0",
            "_model_name": "HTMLModel",
            "_view_count": null,
            "_view_module": "@jupyter-widgets/controls",
            "_view_module_version": "1.5.0",
            "_view_name": "HTMLView",
            "description": "",
            "description_tooltip": null,
            "layout": "IPY_MODEL_6ef4f7da557548388678a6adbea440a3",
            "placeholder": "​",
            "style": "IPY_MODEL_a64687735b2b453d86f8b88f34b76945",
            "value": " 116/116 [00:00&lt;00:00, 7.31kB/s]"
          }
        },
        "9311dd3e751542f196b31cdb42588ea8": {
          "model_module": "@jupyter-widgets/base",
          "model_module_version": "1.2.0",
          "model_name": "LayoutModel",
          "state": {
            "_model_module": "@jupyter-widgets/base",
            "_model_module_version": "1.2.0",
            "_model_name": "LayoutModel",
            "_view_count": null,
            "_view_module": "@jupyter-widgets/base",
            "_view_module_version": "1.2.0",
            "_view_name": "LayoutView",
            "align_content": null,
            "align_items": null,
            "align_self": null,
            "border": null,
            "bottom": null,
            "display": null,
            "flex": null,
            "flex_flow": null,
            "grid_area": null,
            "grid_auto_columns": null,
            "grid_auto_flow": null,
            "grid_auto_rows": null,
            "grid_column": null,
            "grid_gap": null,
            "grid_row": null,
            "grid_template_areas": null,
            "grid_template_columns": null,
            "grid_template_rows": null,
            "height": null,
            "justify_content": null,
            "justify_items": null,
            "left": null,
            "margin": null,
            "max_height": null,
            "max_width": null,
            "min_height": null,
            "min_width": null,
            "object_fit": null,
            "object_position": null,
            "order": null,
            "overflow": null,
            "overflow_x": null,
            "overflow_y": null,
            "padding": null,
            "right": null,
            "top": null,
            "visibility": null,
            "width": null
          }
        },
        "9549b96c59434b56908a307cbe0b2863": {
          "model_module": "@jupyter-widgets/base",
          "model_module_version": "1.2.0",
          "model_name": "LayoutModel",
          "state": {
            "_model_module": "@jupyter-widgets/base",
            "_model_module_version": "1.2.0",
            "_model_name": "LayoutModel",
            "_view_count": null,
            "_view_module": "@jupyter-widgets/base",
            "_view_module_version": "1.2.0",
            "_view_name": "LayoutView",
            "align_content": null,
            "align_items": null,
            "align_self": null,
            "border": null,
            "bottom": null,
            "display": null,
            "flex": null,
            "flex_flow": null,
            "grid_area": null,
            "grid_auto_columns": null,
            "grid_auto_flow": null,
            "grid_auto_rows": null,
            "grid_column": null,
            "grid_gap": null,
            "grid_row": null,
            "grid_template_areas": null,
            "grid_template_columns": null,
            "grid_template_rows": null,
            "height": null,
            "justify_content": null,
            "justify_items": null,
            "left": null,
            "margin": null,
            "max_height": null,
            "max_width": null,
            "min_height": null,
            "min_width": null,
            "object_fit": null,
            "object_position": null,
            "order": null,
            "overflow": null,
            "overflow_x": null,
            "overflow_y": null,
            "padding": null,
            "right": null,
            "top": null,
            "visibility": null,
            "width": null
          }
        },
        "9a6b55ccac55435cb9a53a383c17f37d": {
          "model_module": "@jupyter-widgets/controls",
          "model_module_version": "1.5.0",
          "model_name": "HBoxModel",
          "state": {
            "_dom_classes": [],
            "_model_module": "@jupyter-widgets/controls",
            "_model_module_version": "1.5.0",
            "_model_name": "HBoxModel",
            "_view_count": null,
            "_view_module": "@jupyter-widgets/controls",
            "_view_module_version": "1.5.0",
            "_view_name": "HBoxView",
            "box_style": "",
            "children": [
              "IPY_MODEL_5788f007d46c4dfba493f70f88b37d5e",
              "IPY_MODEL_101c3c1a4a2c46f99aa726cd87b60248",
              "IPY_MODEL_b36dc7dd13ff4b16bfe1021b821c06e2"
            ],
            "layout": "IPY_MODEL_176aef0d1a0d40758161db03a672901d"
          }
        },
        "9e338cc00fe74fd4be1305d47982be60": {
          "model_module": "@jupyter-widgets/base",
          "model_module_version": "1.2.0",
          "model_name": "LayoutModel",
          "state": {
            "_model_module": "@jupyter-widgets/base",
            "_model_module_version": "1.2.0",
            "_model_name": "LayoutModel",
            "_view_count": null,
            "_view_module": "@jupyter-widgets/base",
            "_view_module_version": "1.2.0",
            "_view_name": "LayoutView",
            "align_content": null,
            "align_items": null,
            "align_self": null,
            "border": null,
            "bottom": null,
            "display": null,
            "flex": null,
            "flex_flow": null,
            "grid_area": null,
            "grid_auto_columns": null,
            "grid_auto_flow": null,
            "grid_auto_rows": null,
            "grid_column": null,
            "grid_gap": null,
            "grid_row": null,
            "grid_template_areas": null,
            "grid_template_columns": null,
            "grid_template_rows": null,
            "height": null,
            "justify_content": null,
            "justify_items": null,
            "left": null,
            "margin": null,
            "max_height": null,
            "max_width": null,
            "min_height": null,
            "min_width": null,
            "object_fit": null,
            "object_position": null,
            "order": null,
            "overflow": null,
            "overflow_x": null,
            "overflow_y": null,
            "padding": null,
            "right": null,
            "top": null,
            "visibility": null,
            "width": null
          }
        },
        "a1bd74a6465941f99ff56d1aaeca8323": {
          "model_module": "@jupyter-widgets/controls",
          "model_module_version": "1.5.0",
          "model_name": "DescriptionStyleModel",
          "state": {
            "_model_module": "@jupyter-widgets/controls",
            "_model_module_version": "1.5.0",
            "_model_name": "DescriptionStyleModel",
            "_view_count": null,
            "_view_module": "@jupyter-widgets/base",
            "_view_module_version": "1.2.0",
            "_view_name": "StyleView",
            "description_width": ""
          }
        },
        "a3247e27788145bfbebcfd414b64c9ec": {
          "model_module": "@jupyter-widgets/controls",
          "model_module_version": "1.5.0",
          "model_name": "DescriptionStyleModel",
          "state": {
            "_model_module": "@jupyter-widgets/controls",
            "_model_module_version": "1.5.0",
            "_model_name": "DescriptionStyleModel",
            "_view_count": null,
            "_view_module": "@jupyter-widgets/base",
            "_view_module_version": "1.2.0",
            "_view_name": "StyleView",
            "description_width": ""
          }
        },
        "a64687735b2b453d86f8b88f34b76945": {
          "model_module": "@jupyter-widgets/controls",
          "model_module_version": "1.5.0",
          "model_name": "DescriptionStyleModel",
          "state": {
            "_model_module": "@jupyter-widgets/controls",
            "_model_module_version": "1.5.0",
            "_model_name": "DescriptionStyleModel",
            "_view_count": null,
            "_view_module": "@jupyter-widgets/base",
            "_view_module_version": "1.2.0",
            "_view_name": "StyleView",
            "description_width": ""
          }
        },
        "ab7a095742634039a081f88e13e4b9ea": {
          "model_module": "@jupyter-widgets/base",
          "model_module_version": "1.2.0",
          "model_name": "LayoutModel",
          "state": {
            "_model_module": "@jupyter-widgets/base",
            "_model_module_version": "1.2.0",
            "_model_name": "LayoutModel",
            "_view_count": null,
            "_view_module": "@jupyter-widgets/base",
            "_view_module_version": "1.2.0",
            "_view_name": "LayoutView",
            "align_content": null,
            "align_items": null,
            "align_self": null,
            "border": null,
            "bottom": null,
            "display": null,
            "flex": null,
            "flex_flow": null,
            "grid_area": null,
            "grid_auto_columns": null,
            "grid_auto_flow": null,
            "grid_auto_rows": null,
            "grid_column": null,
            "grid_gap": null,
            "grid_row": null,
            "grid_template_areas": null,
            "grid_template_columns": null,
            "grid_template_rows": null,
            "height": null,
            "justify_content": null,
            "justify_items": null,
            "left": null,
            "margin": null,
            "max_height": null,
            "max_width": null,
            "min_height": null,
            "min_width": null,
            "object_fit": null,
            "object_position": null,
            "order": null,
            "overflow": null,
            "overflow_x": null,
            "overflow_y": null,
            "padding": null,
            "right": null,
            "top": null,
            "visibility": null,
            "width": null
          }
        },
        "ac43581d218d472abf3dc0da8d89596d": {
          "model_module": "@jupyter-widgets/controls",
          "model_module_version": "1.5.0",
          "model_name": "FloatProgressModel",
          "state": {
            "_dom_classes": [],
            "_model_module": "@jupyter-widgets/controls",
            "_model_module_version": "1.5.0",
            "_model_name": "FloatProgressModel",
            "_view_count": null,
            "_view_module": "@jupyter-widgets/controls",
            "_view_module_version": "1.5.0",
            "_view_name": "ProgressView",
            "bar_style": "success",
            "description": "",
            "description_tooltip": null,
            "layout": "IPY_MODEL_bc597c5a598f4f21868d2e0fe554d6db",
            "max": 53,
            "min": 0,
            "orientation": "horizontal",
            "style": "IPY_MODEL_e670fd05c1c140928fdecae0a777aedd",
            "value": 53
          }
        },
        "ad97f35623074e93b4b22df173715f04": {
          "model_module": "@jupyter-widgets/controls",
          "model_module_version": "1.5.0",
          "model_name": "FloatProgressModel",
          "state": {
            "_dom_classes": [],
            "_model_module": "@jupyter-widgets/controls",
            "_model_module_version": "1.5.0",
            "_model_name": "FloatProgressModel",
            "_view_count": null,
            "_view_module": "@jupyter-widgets/controls",
            "_view_module_version": "1.5.0",
            "_view_name": "ProgressView",
            "bar_style": "success",
            "description": "",
            "description_tooltip": null,
            "layout": "IPY_MODEL_0aa3031ac3f2477a8bb74b4bde79d431",
            "max": 90868376,
            "min": 0,
            "orientation": "horizontal",
            "style": "IPY_MODEL_c7f1d238dc8645f6917dc96feb2127df",
            "value": 90868376
          }
        },
        "afc8d5687aa04be4b06553e643f304af": {
          "model_module": "@jupyter-widgets/controls",
          "model_module_version": "1.5.0",
          "model_name": "DescriptionStyleModel",
          "state": {
            "_model_module": "@jupyter-widgets/controls",
            "_model_module_version": "1.5.0",
            "_model_name": "DescriptionStyleModel",
            "_view_count": null,
            "_view_module": "@jupyter-widgets/base",
            "_view_module_version": "1.2.0",
            "_view_name": "StyleView",
            "description_width": ""
          }
        },
        "b2a614f3194440b390e95ed856f35642": {
          "model_module": "@jupyter-widgets/controls",
          "model_module_version": "1.5.0",
          "model_name": "HTMLModel",
          "state": {
            "_dom_classes": [],
            "_model_module": "@jupyter-widgets/controls",
            "_model_module_version": "1.5.0",
            "_model_name": "HTMLModel",
            "_view_count": null,
            "_view_module": "@jupyter-widgets/controls",
            "_view_module_version": "1.5.0",
            "_view_name": "HTMLView",
            "description": "",
            "description_tooltip": null,
            "layout": "IPY_MODEL_55d2320f88134b08ae1c73ee124fc7fb",
            "placeholder": "​",
            "style": "IPY_MODEL_c5e4a90c6af54285a171e22e57f64bd3",
            "value": "tokenizer.json: 100%"
          }
        },
        "b2cedbeecddb4729a0c86ca2bc259996": {
          "model_module": "@jupyter-widgets/base",
          "model_module_version": "1.2.0",
          "model_name": "LayoutModel",
          "state": {
            "_model_module": "@jupyter-widgets/base",
            "_model_module_version": "1.2.0",
            "_model_name": "LayoutModel",
            "_view_count": null,
            "_view_module": "@jupyter-widgets/base",
            "_view_module_version": "1.2.0",
            "_view_name": "LayoutView",
            "align_content": null,
            "align_items": null,
            "align_self": null,
            "border": null,
            "bottom": null,
            "display": null,
            "flex": null,
            "flex_flow": null,
            "grid_area": null,
            "grid_auto_columns": null,
            "grid_auto_flow": null,
            "grid_auto_rows": null,
            "grid_column": null,
            "grid_gap": null,
            "grid_row": null,
            "grid_template_areas": null,
            "grid_template_columns": null,
            "grid_template_rows": null,
            "height": null,
            "justify_content": null,
            "justify_items": null,
            "left": null,
            "margin": null,
            "max_height": null,
            "max_width": null,
            "min_height": null,
            "min_width": null,
            "object_fit": null,
            "object_position": null,
            "order": null,
            "overflow": null,
            "overflow_x": null,
            "overflow_y": null,
            "padding": null,
            "right": null,
            "top": null,
            "visibility": null,
            "width": null
          }
        },
        "b36dc7dd13ff4b16bfe1021b821c06e2": {
          "model_module": "@jupyter-widgets/controls",
          "model_module_version": "1.5.0",
          "model_name": "HTMLModel",
          "state": {
            "_dom_classes": [],
            "_model_module": "@jupyter-widgets/controls",
            "_model_module_version": "1.5.0",
            "_model_name": "HTMLModel",
            "_view_count": null,
            "_view_module": "@jupyter-widgets/controls",
            "_view_module_version": "1.5.0",
            "_view_name": "HTMLView",
            "description": "",
            "description_tooltip": null,
            "layout": "IPY_MODEL_7a691fb8c1a84fe4a1e91e03ecf8ce4a",
            "placeholder": "​",
            "style": "IPY_MODEL_d8b7eee6a75b42f0bb105d3aecdecb91",
            "value": " 10.5k/10.5k [00:00&lt;00:00, 745kB/s]"
          }
        },
        "b47f2fa364314ca981a6f290d2e24776": {
          "model_module": "@jupyter-widgets/controls",
          "model_module_version": "1.5.0",
          "model_name": "FloatProgressModel",
          "state": {
            "_dom_classes": [],
            "_model_module": "@jupyter-widgets/controls",
            "_model_module_version": "1.5.0",
            "_model_name": "FloatProgressModel",
            "_view_count": null,
            "_view_module": "@jupyter-widgets/controls",
            "_view_module_version": "1.5.0",
            "_view_name": "ProgressView",
            "bar_style": "success",
            "description": "",
            "description_tooltip": null,
            "layout": "IPY_MODEL_9311dd3e751542f196b31cdb42588ea8",
            "max": 612,
            "min": 0,
            "orientation": "horizontal",
            "style": "IPY_MODEL_91b8ac8473ac4bce83cd8fd1da1ffa5c",
            "value": 612
          }
        },
        "b76da8709f334f55b99d233c39357265": {
          "model_module": "@jupyter-widgets/controls",
          "model_module_version": "1.5.0",
          "model_name": "FloatProgressModel",
          "state": {
            "_dom_classes": [],
            "_model_module": "@jupyter-widgets/controls",
            "_model_module_version": "1.5.0",
            "_model_name": "FloatProgressModel",
            "_view_count": null,
            "_view_module": "@jupyter-widgets/controls",
            "_view_module_version": "1.5.0",
            "_view_name": "ProgressView",
            "bar_style": "success",
            "description": "",
            "description_tooltip": null,
            "layout": "IPY_MODEL_fcd6deeadc9b4708832cd2f762ad3451",
            "max": 190,
            "min": 0,
            "orientation": "horizontal",
            "style": "IPY_MODEL_d3c9e41adbdd4ed3a7808979c1d749db",
            "value": 190
          }
        },
        "b96487b160604f1e9dbbf180552dc94d": {
          "model_module": "@jupyter-widgets/controls",
          "model_module_version": "1.5.0",
          "model_name": "HTMLModel",
          "state": {
            "_dom_classes": [],
            "_model_module": "@jupyter-widgets/controls",
            "_model_module_version": "1.5.0",
            "_model_name": "HTMLModel",
            "_view_count": null,
            "_view_module": "@jupyter-widgets/controls",
            "_view_module_version": "1.5.0",
            "_view_name": "HTMLView",
            "description": "",
            "description_tooltip": null,
            "layout": "IPY_MODEL_64af80c639f94985a0d65fea383444e9",
            "placeholder": "​",
            "style": "IPY_MODEL_cac8c5f3bc044e7198a8187660056665",
            "value": " 349/349 [00:00&lt;00:00, 23.6kB/s]"
          }
        },
        "bc597c5a598f4f21868d2e0fe554d6db": {
          "model_module": "@jupyter-widgets/base",
          "model_module_version": "1.2.0",
          "model_name": "LayoutModel",
          "state": {
            "_model_module": "@jupyter-widgets/base",
            "_model_module_version": "1.2.0",
            "_model_name": "LayoutModel",
            "_view_count": null,
            "_view_module": "@jupyter-widgets/base",
            "_view_module_version": "1.2.0",
            "_view_name": "LayoutView",
            "align_content": null,
            "align_items": null,
            "align_self": null,
            "border": null,
            "bottom": null,
            "display": null,
            "flex": null,
            "flex_flow": null,
            "grid_area": null,
            "grid_auto_columns": null,
            "grid_auto_flow": null,
            "grid_auto_rows": null,
            "grid_column": null,
            "grid_gap": null,
            "grid_row": null,
            "grid_template_areas": null,
            "grid_template_columns": null,
            "grid_template_rows": null,
            "height": null,
            "justify_content": null,
            "justify_items": null,
            "left": null,
            "margin": null,
            "max_height": null,
            "max_width": null,
            "min_height": null,
            "min_width": null,
            "object_fit": null,
            "object_position": null,
            "order": null,
            "overflow": null,
            "overflow_x": null,
            "overflow_y": null,
            "padding": null,
            "right": null,
            "top": null,
            "visibility": null,
            "width": null
          }
        },
        "bcffe9f35e5c4596812b035183ee4869": {
          "model_module": "@jupyter-widgets/base",
          "model_module_version": "1.2.0",
          "model_name": "LayoutModel",
          "state": {
            "_model_module": "@jupyter-widgets/base",
            "_model_module_version": "1.2.0",
            "_model_name": "LayoutModel",
            "_view_count": null,
            "_view_module": "@jupyter-widgets/base",
            "_view_module_version": "1.2.0",
            "_view_name": "LayoutView",
            "align_content": null,
            "align_items": null,
            "align_self": null,
            "border": null,
            "bottom": null,
            "display": null,
            "flex": null,
            "flex_flow": null,
            "grid_area": null,
            "grid_auto_columns": null,
            "grid_auto_flow": null,
            "grid_auto_rows": null,
            "grid_column": null,
            "grid_gap": null,
            "grid_row": null,
            "grid_template_areas": null,
            "grid_template_columns": null,
            "grid_template_rows": null,
            "height": null,
            "justify_content": null,
            "justify_items": null,
            "left": null,
            "margin": null,
            "max_height": null,
            "max_width": null,
            "min_height": null,
            "min_width": null,
            "object_fit": null,
            "object_position": null,
            "order": null,
            "overflow": null,
            "overflow_x": null,
            "overflow_y": null,
            "padding": null,
            "right": null,
            "top": null,
            "visibility": null,
            "width": null
          }
        },
        "bf82c7fb49344862a79300678230c358": {
          "model_module": "@jupyter-widgets/controls",
          "model_module_version": "1.5.0",
          "model_name": "HTMLModel",
          "state": {
            "_dom_classes": [],
            "_model_module": "@jupyter-widgets/controls",
            "_model_module_version": "1.5.0",
            "_model_name": "HTMLModel",
            "_view_count": null,
            "_view_module": "@jupyter-widgets/controls",
            "_view_module_version": "1.5.0",
            "_view_name": "HTMLView",
            "description": "",
            "description_tooltip": null,
            "layout": "IPY_MODEL_ab7a095742634039a081f88e13e4b9ea",
            "placeholder": "​",
            "style": "IPY_MODEL_8165b09cdfe8471097e7d1b2548c00c5",
            "value": "config_sentence_transformers.json: 100%"
          }
        },
        "c005a3733a554223931a6cccf646dc63": {
          "model_module": "@jupyter-widgets/base",
          "model_module_version": "1.2.0",
          "model_name": "LayoutModel",
          "state": {
            "_model_module": "@jupyter-widgets/base",
            "_model_module_version": "1.2.0",
            "_model_name": "LayoutModel",
            "_view_count": null,
            "_view_module": "@jupyter-widgets/base",
            "_view_module_version": "1.2.0",
            "_view_name": "LayoutView",
            "align_content": null,
            "align_items": null,
            "align_self": null,
            "border": null,
            "bottom": null,
            "display": null,
            "flex": null,
            "flex_flow": null,
            "grid_area": null,
            "grid_auto_columns": null,
            "grid_auto_flow": null,
            "grid_auto_rows": null,
            "grid_column": null,
            "grid_gap": null,
            "grid_row": null,
            "grid_template_areas": null,
            "grid_template_columns": null,
            "grid_template_rows": null,
            "height": null,
            "justify_content": null,
            "justify_items": null,
            "left": null,
            "margin": null,
            "max_height": null,
            "max_width": null,
            "min_height": null,
            "min_width": null,
            "object_fit": null,
            "object_position": null,
            "order": null,
            "overflow": null,
            "overflow_x": null,
            "overflow_y": null,
            "padding": null,
            "right": null,
            "top": null,
            "visibility": null,
            "width": null
          }
        },
        "c16d578b6d454a14892004e6d8abaded": {
          "model_module": "@jupyter-widgets/controls",
          "model_module_version": "1.5.0",
          "model_name": "HBoxModel",
          "state": {
            "_dom_classes": [],
            "_model_module": "@jupyter-widgets/controls",
            "_model_module_version": "1.5.0",
            "_model_name": "HBoxModel",
            "_view_count": null,
            "_view_module": "@jupyter-widgets/controls",
            "_view_module_version": "1.5.0",
            "_view_name": "HBoxView",
            "box_style": "",
            "children": [
              "IPY_MODEL_3c2c524609c84f7bb5270e751927c719",
              "IPY_MODEL_ad97f35623074e93b4b22df173715f04",
              "IPY_MODEL_e0b4487ae4a848bc9109fa7a300ebebc"
            ],
            "layout": "IPY_MODEL_0599dd1a0ecc4fe9817128f9ccc25732"
          }
        },
        "c49f164fab2d435b9cf093c29e5d43fb": {
          "model_module": "@jupyter-widgets/controls",
          "model_module_version": "1.5.0",
          "model_name": "DescriptionStyleModel",
          "state": {
            "_model_module": "@jupyter-widgets/controls",
            "_model_module_version": "1.5.0",
            "_model_name": "DescriptionStyleModel",
            "_view_count": null,
            "_view_module": "@jupyter-widgets/base",
            "_view_module_version": "1.2.0",
            "_view_name": "StyleView",
            "description_width": ""
          }
        },
        "c5e4a90c6af54285a171e22e57f64bd3": {
          "model_module": "@jupyter-widgets/controls",
          "model_module_version": "1.5.0",
          "model_name": "DescriptionStyleModel",
          "state": {
            "_model_module": "@jupyter-widgets/controls",
            "_model_module_version": "1.5.0",
            "_model_name": "DescriptionStyleModel",
            "_view_count": null,
            "_view_module": "@jupyter-widgets/base",
            "_view_module_version": "1.2.0",
            "_view_name": "StyleView",
            "description_width": ""
          }
        },
        "c7f1d238dc8645f6917dc96feb2127df": {
          "model_module": "@jupyter-widgets/controls",
          "model_module_version": "1.5.0",
          "model_name": "ProgressStyleModel",
          "state": {
            "_model_module": "@jupyter-widgets/controls",
            "_model_module_version": "1.5.0",
            "_model_name": "ProgressStyleModel",
            "_view_count": null,
            "_view_module": "@jupyter-widgets/base",
            "_view_module_version": "1.2.0",
            "_view_name": "StyleView",
            "bar_color": null,
            "description_width": ""
          }
        },
        "c873478c47c44ff69beecd5555d260d8": {
          "model_module": "@jupyter-widgets/base",
          "model_module_version": "1.2.0",
          "model_name": "LayoutModel",
          "state": {
            "_model_module": "@jupyter-widgets/base",
            "_model_module_version": "1.2.0",
            "_model_name": "LayoutModel",
            "_view_count": null,
            "_view_module": "@jupyter-widgets/base",
            "_view_module_version": "1.2.0",
            "_view_name": "LayoutView",
            "align_content": null,
            "align_items": null,
            "align_self": null,
            "border": null,
            "bottom": null,
            "display": null,
            "flex": null,
            "flex_flow": null,
            "grid_area": null,
            "grid_auto_columns": null,
            "grid_auto_flow": null,
            "grid_auto_rows": null,
            "grid_column": null,
            "grid_gap": null,
            "grid_row": null,
            "grid_template_areas": null,
            "grid_template_columns": null,
            "grid_template_rows": null,
            "height": null,
            "justify_content": null,
            "justify_items": null,
            "left": null,
            "margin": null,
            "max_height": null,
            "max_width": null,
            "min_height": null,
            "min_width": null,
            "object_fit": null,
            "object_position": null,
            "order": null,
            "overflow": null,
            "overflow_x": null,
            "overflow_y": null,
            "padding": null,
            "right": null,
            "top": null,
            "visibility": null,
            "width": null
          }
        },
        "c89805c06ab64beea0219bde09770bbd": {
          "model_module": "@jupyter-widgets/base",
          "model_module_version": "1.2.0",
          "model_name": "LayoutModel",
          "state": {
            "_model_module": "@jupyter-widgets/base",
            "_model_module_version": "1.2.0",
            "_model_name": "LayoutModel",
            "_view_count": null,
            "_view_module": "@jupyter-widgets/base",
            "_view_module_version": "1.2.0",
            "_view_name": "LayoutView",
            "align_content": null,
            "align_items": null,
            "align_self": null,
            "border": null,
            "bottom": null,
            "display": null,
            "flex": null,
            "flex_flow": null,
            "grid_area": null,
            "grid_auto_columns": null,
            "grid_auto_flow": null,
            "grid_auto_rows": null,
            "grid_column": null,
            "grid_gap": null,
            "grid_row": null,
            "grid_template_areas": null,
            "grid_template_columns": null,
            "grid_template_rows": null,
            "height": null,
            "justify_content": null,
            "justify_items": null,
            "left": null,
            "margin": null,
            "max_height": null,
            "max_width": null,
            "min_height": null,
            "min_width": null,
            "object_fit": null,
            "object_position": null,
            "order": null,
            "overflow": null,
            "overflow_x": null,
            "overflow_y": null,
            "padding": null,
            "right": null,
            "top": null,
            "visibility": null,
            "width": null
          }
        },
        "c9b277bf714e49598879ddd99f6c7063": {
          "model_module": "@jupyter-widgets/controls",
          "model_module_version": "1.5.0",
          "model_name": "HTMLModel",
          "state": {
            "_dom_classes": [],
            "_model_module": "@jupyter-widgets/controls",
            "_model_module_version": "1.5.0",
            "_model_name": "HTMLModel",
            "_view_count": null,
            "_view_module": "@jupyter-widgets/controls",
            "_view_module_version": "1.5.0",
            "_view_name": "HTMLView",
            "description": "",
            "description_tooltip": null,
            "layout": "IPY_MODEL_71d323dd8bf94c43944395f7ffc7e3aa",
            "placeholder": "​",
            "style": "IPY_MODEL_6f6b2146d3c5454fae48b5cea9a58e7c",
            "value": " 190/190 [00:00&lt;00:00, 16.9kB/s]"
          }
        },
        "cac8c5f3bc044e7198a8187660056665": {
          "model_module": "@jupyter-widgets/controls",
          "model_module_version": "1.5.0",
          "model_name": "DescriptionStyleModel",
          "state": {
            "_model_module": "@jupyter-widgets/controls",
            "_model_module_version": "1.5.0",
            "_model_name": "DescriptionStyleModel",
            "_view_count": null,
            "_view_module": "@jupyter-widgets/base",
            "_view_module_version": "1.2.0",
            "_view_name": "StyleView",
            "description_width": ""
          }
        },
        "cbe1e3b9fb3e44608a8f751ae9348d52": {
          "model_module": "@jupyter-widgets/controls",
          "model_module_version": "1.5.0",
          "model_name": "HBoxModel",
          "state": {
            "_dom_classes": [],
            "_model_module": "@jupyter-widgets/controls",
            "_model_module_version": "1.5.0",
            "_model_name": "HBoxModel",
            "_view_count": null,
            "_view_module": "@jupyter-widgets/controls",
            "_view_module_version": "1.5.0",
            "_view_name": "HBoxView",
            "box_style": "",
            "children": [
              "IPY_MODEL_199a0a45c88c44df91643cc9e7818213",
              "IPY_MODEL_b47f2fa364314ca981a6f290d2e24776",
              "IPY_MODEL_dd62cb78d51b48848b773550cfec9eda"
            ],
            "layout": "IPY_MODEL_9549b96c59434b56908a307cbe0b2863"
          }
        },
        "d3c9e41adbdd4ed3a7808979c1d749db": {
          "model_module": "@jupyter-widgets/controls",
          "model_module_version": "1.5.0",
          "model_name": "ProgressStyleModel",
          "state": {
            "_model_module": "@jupyter-widgets/controls",
            "_model_module_version": "1.5.0",
            "_model_name": "ProgressStyleModel",
            "_view_count": null,
            "_view_module": "@jupyter-widgets/base",
            "_view_module_version": "1.2.0",
            "_view_name": "StyleView",
            "bar_color": null,
            "description_width": ""
          }
        },
        "d8b7eee6a75b42f0bb105d3aecdecb91": {
          "model_module": "@jupyter-widgets/controls",
          "model_module_version": "1.5.0",
          "model_name": "DescriptionStyleModel",
          "state": {
            "_model_module": "@jupyter-widgets/controls",
            "_model_module_version": "1.5.0",
            "_model_name": "DescriptionStyleModel",
            "_view_count": null,
            "_view_module": "@jupyter-widgets/base",
            "_view_module_version": "1.2.0",
            "_view_name": "StyleView",
            "description_width": ""
          }
        },
        "dc5bbfa45182457cbe911925fe260442": {
          "model_module": "@jupyter-widgets/base",
          "model_module_version": "1.2.0",
          "model_name": "LayoutModel",
          "state": {
            "_model_module": "@jupyter-widgets/base",
            "_model_module_version": "1.2.0",
            "_model_name": "LayoutModel",
            "_view_count": null,
            "_view_module": "@jupyter-widgets/base",
            "_view_module_version": "1.2.0",
            "_view_name": "LayoutView",
            "align_content": null,
            "align_items": null,
            "align_self": null,
            "border": null,
            "bottom": null,
            "display": null,
            "flex": null,
            "flex_flow": null,
            "grid_area": null,
            "grid_auto_columns": null,
            "grid_auto_flow": null,
            "grid_auto_rows": null,
            "grid_column": null,
            "grid_gap": null,
            "grid_row": null,
            "grid_template_areas": null,
            "grid_template_columns": null,
            "grid_template_rows": null,
            "height": null,
            "justify_content": null,
            "justify_items": null,
            "left": null,
            "margin": null,
            "max_height": null,
            "max_width": null,
            "min_height": null,
            "min_width": null,
            "object_fit": null,
            "object_position": null,
            "order": null,
            "overflow": null,
            "overflow_x": null,
            "overflow_y": null,
            "padding": null,
            "right": null,
            "top": null,
            "visibility": null,
            "width": null
          }
        },
        "dd62cb78d51b48848b773550cfec9eda": {
          "model_module": "@jupyter-widgets/controls",
          "model_module_version": "1.5.0",
          "model_name": "HTMLModel",
          "state": {
            "_dom_classes": [],
            "_model_module": "@jupyter-widgets/controls",
            "_model_module_version": "1.5.0",
            "_model_name": "HTMLModel",
            "_view_count": null,
            "_view_module": "@jupyter-widgets/controls",
            "_view_module_version": "1.5.0",
            "_view_name": "HTMLView",
            "description": "",
            "description_tooltip": null,
            "layout": "IPY_MODEL_807871d5151c47738d517fc1bbbb9c2f",
            "placeholder": "​",
            "style": "IPY_MODEL_30ad0af870cf46ecb1b010d2b16bd854",
            "value": " 612/612 [00:00&lt;00:00, 34.3kB/s]"
          }
        },
        "dd73831c2d6940ce9e2cfb3014618ca9": {
          "model_module": "@jupyter-widgets/controls",
          "model_module_version": "1.5.0",
          "model_name": "ProgressStyleModel",
          "state": {
            "_model_module": "@jupyter-widgets/controls",
            "_model_module_version": "1.5.0",
            "_model_name": "ProgressStyleModel",
            "_view_count": null,
            "_view_module": "@jupyter-widgets/base",
            "_view_module_version": "1.2.0",
            "_view_name": "StyleView",
            "bar_color": null,
            "description_width": ""
          }
        },
        "df2207934eeb410fb7d9917cdbae15b4": {
          "model_module": "@jupyter-widgets/controls",
          "model_module_version": "1.5.0",
          "model_name": "FloatProgressModel",
          "state": {
            "_dom_classes": [],
            "_model_module": "@jupyter-widgets/controls",
            "_model_module_version": "1.5.0",
            "_model_name": "FloatProgressModel",
            "_view_count": null,
            "_view_module": "@jupyter-widgets/controls",
            "_view_module_version": "1.5.0",
            "_view_name": "ProgressView",
            "bar_style": "success",
            "description": "",
            "description_tooltip": null,
            "layout": "IPY_MODEL_5c14488345c842fbad2306f3f7e85fd2",
            "max": 231508,
            "min": 0,
            "orientation": "horizontal",
            "style": "IPY_MODEL_85a440e280254ec4925f36d60a31d4b2",
            "value": 231508
          }
        },
        "df506b79efe84dd4ba87069cf458e6f2": {
          "model_module": "@jupyter-widgets/controls",
          "model_module_version": "1.5.0",
          "model_name": "HTMLModel",
          "state": {
            "_dom_classes": [],
            "_model_module": "@jupyter-widgets/controls",
            "_model_module_version": "1.5.0",
            "_model_name": "HTMLModel",
            "_view_count": null,
            "_view_module": "@jupyter-widgets/controls",
            "_view_module_version": "1.5.0",
            "_view_name": "HTMLView",
            "description": "",
            "description_tooltip": null,
            "layout": "IPY_MODEL_286a605f7659466980c7939935bbc05d",
            "placeholder": "​",
            "style": "IPY_MODEL_a1bd74a6465941f99ff56d1aaeca8323",
            "value": "tokenizer_config.json: 100%"
          }
        },
        "e0a0e352fa0746f19daf891c97c992dd": {
          "model_module": "@jupyter-widgets/controls",
          "model_module_version": "1.5.0",
          "model_name": "ProgressStyleModel",
          "state": {
            "_model_module": "@jupyter-widgets/controls",
            "_model_module_version": "1.5.0",
            "_model_name": "ProgressStyleModel",
            "_view_count": null,
            "_view_module": "@jupyter-widgets/base",
            "_view_module_version": "1.2.0",
            "_view_name": "StyleView",
            "bar_color": null,
            "description_width": ""
          }
        },
        "e0b4487ae4a848bc9109fa7a300ebebc": {
          "model_module": "@jupyter-widgets/controls",
          "model_module_version": "1.5.0",
          "model_name": "HTMLModel",
          "state": {
            "_dom_classes": [],
            "_model_module": "@jupyter-widgets/controls",
            "_model_module_version": "1.5.0",
            "_model_name": "HTMLModel",
            "_view_count": null,
            "_view_module": "@jupyter-widgets/controls",
            "_view_module_version": "1.5.0",
            "_view_name": "HTMLView",
            "description": "",
            "description_tooltip": null,
            "layout": "IPY_MODEL_61a7aa16ea654e44b2118edf542281fa",
            "placeholder": "​",
            "style": "IPY_MODEL_c49f164fab2d435b9cf093c29e5d43fb",
            "value": " 90.9M/90.9M [00:00&lt;00:00, 138MB/s]"
          }
        },
        "e1e879bcf26d42109ca37408b73286cc": {
          "model_module": "@jupyter-widgets/controls",
          "model_module_version": "1.5.0",
          "model_name": "HTMLModel",
          "state": {
            "_dom_classes": [],
            "_model_module": "@jupyter-widgets/controls",
            "_model_module_version": "1.5.0",
            "_model_name": "HTMLModel",
            "_view_count": null,
            "_view_module": "@jupyter-widgets/controls",
            "_view_module_version": "1.5.0",
            "_view_name": "HTMLView",
            "description": "",
            "description_tooltip": null,
            "layout": "IPY_MODEL_4f2f711658294dbab9d3d3c33141f7d6",
            "placeholder": "​",
            "style": "IPY_MODEL_29630b17314c4cfabbeb0ac907a2ba2f",
            "value": " 350/350 [00:00&lt;00:00, 23.5kB/s]"
          }
        },
        "e559d5a7d0da4d40a94ed6629b49db24": {
          "model_module": "@jupyter-widgets/controls",
          "model_module_version": "1.5.0",
          "model_name": "FloatProgressModel",
          "state": {
            "_dom_classes": [],
            "_model_module": "@jupyter-widgets/controls",
            "_model_module_version": "1.5.0",
            "_model_name": "FloatProgressModel",
            "_view_count": null,
            "_view_module": "@jupyter-widgets/controls",
            "_view_module_version": "1.5.0",
            "_view_name": "ProgressView",
            "bar_style": "success",
            "description": "",
            "description_tooltip": null,
            "layout": "IPY_MODEL_18aafcc7265841d4aa6b4af69098b2a3",
            "max": 350,
            "min": 0,
            "orientation": "horizontal",
            "style": "IPY_MODEL_357a6479731d4a0dba8a0d8c73e087e3",
            "value": 350
          }
        },
        "e670fd05c1c140928fdecae0a777aedd": {
          "model_module": "@jupyter-widgets/controls",
          "model_module_version": "1.5.0",
          "model_name": "ProgressStyleModel",
          "state": {
            "_model_module": "@jupyter-widgets/controls",
            "_model_module_version": "1.5.0",
            "_model_name": "ProgressStyleModel",
            "_view_count": null,
            "_view_module": "@jupyter-widgets/base",
            "_view_module_version": "1.2.0",
            "_view_name": "StyleView",
            "bar_color": null,
            "description_width": ""
          }
        },
        "e69b40465df64124a07649707e2f91eb": {
          "model_module": "@jupyter-widgets/controls",
          "model_module_version": "1.5.0",
          "model_name": "DescriptionStyleModel",
          "state": {
            "_model_module": "@jupyter-widgets/controls",
            "_model_module_version": "1.5.0",
            "_model_name": "DescriptionStyleModel",
            "_view_count": null,
            "_view_module": "@jupyter-widgets/base",
            "_view_module_version": "1.2.0",
            "_view_name": "StyleView",
            "description_width": ""
          }
        },
        "eb58b4b697de41e0845845d2e5d5c8db": {
          "model_module": "@jupyter-widgets/base",
          "model_module_version": "1.2.0",
          "model_name": "LayoutModel",
          "state": {
            "_model_module": "@jupyter-widgets/base",
            "_model_module_version": "1.2.0",
            "_model_name": "LayoutModel",
            "_view_count": null,
            "_view_module": "@jupyter-widgets/base",
            "_view_module_version": "1.2.0",
            "_view_name": "LayoutView",
            "align_content": null,
            "align_items": null,
            "align_self": null,
            "border": null,
            "bottom": null,
            "display": null,
            "flex": null,
            "flex_flow": null,
            "grid_area": null,
            "grid_auto_columns": null,
            "grid_auto_flow": null,
            "grid_auto_rows": null,
            "grid_column": null,
            "grid_gap": null,
            "grid_row": null,
            "grid_template_areas": null,
            "grid_template_columns": null,
            "grid_template_rows": null,
            "height": null,
            "justify_content": null,
            "justify_items": null,
            "left": null,
            "margin": null,
            "max_height": null,
            "max_width": null,
            "min_height": null,
            "min_width": null,
            "object_fit": null,
            "object_position": null,
            "order": null,
            "overflow": null,
            "overflow_x": null,
            "overflow_y": null,
            "padding": null,
            "right": null,
            "top": null,
            "visibility": null,
            "width": null
          }
        },
        "f153b012b221422ba05ff8e98f44503e": {
          "model_module": "@jupyter-widgets/base",
          "model_module_version": "1.2.0",
          "model_name": "LayoutModel",
          "state": {
            "_model_module": "@jupyter-widgets/base",
            "_model_module_version": "1.2.0",
            "_model_name": "LayoutModel",
            "_view_count": null,
            "_view_module": "@jupyter-widgets/base",
            "_view_module_version": "1.2.0",
            "_view_name": "LayoutView",
            "align_content": null,
            "align_items": null,
            "align_self": null,
            "border": null,
            "bottom": null,
            "display": null,
            "flex": null,
            "flex_flow": null,
            "grid_area": null,
            "grid_auto_columns": null,
            "grid_auto_flow": null,
            "grid_auto_rows": null,
            "grid_column": null,
            "grid_gap": null,
            "grid_row": null,
            "grid_template_areas": null,
            "grid_template_columns": null,
            "grid_template_rows": null,
            "height": null,
            "justify_content": null,
            "justify_items": null,
            "left": null,
            "margin": null,
            "max_height": null,
            "max_width": null,
            "min_height": null,
            "min_width": null,
            "object_fit": null,
            "object_position": null,
            "order": null,
            "overflow": null,
            "overflow_x": null,
            "overflow_y": null,
            "padding": null,
            "right": null,
            "top": null,
            "visibility": null,
            "width": null
          }
        },
        "fb117ceb4fda4e77995e714cc8831f0f": {
          "model_module": "@jupyter-widgets/base",
          "model_module_version": "1.2.0",
          "model_name": "LayoutModel",
          "state": {
            "_model_module": "@jupyter-widgets/base",
            "_model_module_version": "1.2.0",
            "_model_name": "LayoutModel",
            "_view_count": null,
            "_view_module": "@jupyter-widgets/base",
            "_view_module_version": "1.2.0",
            "_view_name": "LayoutView",
            "align_content": null,
            "align_items": null,
            "align_self": null,
            "border": null,
            "bottom": null,
            "display": null,
            "flex": null,
            "flex_flow": null,
            "grid_area": null,
            "grid_auto_columns": null,
            "grid_auto_flow": null,
            "grid_auto_rows": null,
            "grid_column": null,
            "grid_gap": null,
            "grid_row": null,
            "grid_template_areas": null,
            "grid_template_columns": null,
            "grid_template_rows": null,
            "height": null,
            "justify_content": null,
            "justify_items": null,
            "left": null,
            "margin": null,
            "max_height": null,
            "max_width": null,
            "min_height": null,
            "min_width": null,
            "object_fit": null,
            "object_position": null,
            "order": null,
            "overflow": null,
            "overflow_x": null,
            "overflow_y": null,
            "padding": null,
            "right": null,
            "top": null,
            "visibility": null,
            "width": null
          }
        },
        "fcd6deeadc9b4708832cd2f762ad3451": {
          "model_module": "@jupyter-widgets/base",
          "model_module_version": "1.2.0",
          "model_name": "LayoutModel",
          "state": {
            "_model_module": "@jupyter-widgets/base",
            "_model_module_version": "1.2.0",
            "_model_name": "LayoutModel",
            "_view_count": null,
            "_view_module": "@jupyter-widgets/base",
            "_view_module_version": "1.2.0",
            "_view_name": "LayoutView",
            "align_content": null,
            "align_items": null,
            "align_self": null,
            "border": null,
            "bottom": null,
            "display": null,
            "flex": null,
            "flex_flow": null,
            "grid_area": null,
            "grid_auto_columns": null,
            "grid_auto_flow": null,
            "grid_auto_rows": null,
            "grid_column": null,
            "grid_gap": null,
            "grid_row": null,
            "grid_template_areas": null,
            "grid_template_columns": null,
            "grid_template_rows": null,
            "height": null,
            "justify_content": null,
            "justify_items": null,
            "left": null,
            "margin": null,
            "max_height": null,
            "max_width": null,
            "min_height": null,
            "min_width": null,
            "object_fit": null,
            "object_position": null,
            "order": null,
            "overflow": null,
            "overflow_x": null,
            "overflow_y": null,
            "padding": null,
            "right": null,
            "top": null,
            "visibility": null,
            "width": null
          }
        }
      }
    }
  },
  "nbformat": 4,
  "nbformat_minor": 0
}
